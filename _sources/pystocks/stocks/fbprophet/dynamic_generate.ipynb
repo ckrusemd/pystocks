{
 "metadata": {
  "language_info": {
   "codemirror_mode": {
    "name": "ipython",
    "version": 3
   },
   "file_extension": ".py",
   "mimetype": "text/x-python",
   "name": "python",
   "nbconvert_exporter": "python",
   "pygments_lexer": "ipython3",
   "version": "3.9.5"
  },
  "orig_nbformat": 2,
  "kernelspec": {
   "name": "python3",
   "display_name": "Python 3",
   "language": "python"
  }
 },
 "nbformat": 4,
 "nbformat_minor": 2,
 "cells": [
  {
   "source": [
    "# Generate symbols"
   ],
   "cell_type": "markdown",
   "metadata": {}
  },
  {
   "cell_type": "code",
   "execution_count": 16,
   "metadata": {},
   "outputs": [],
   "source": [
    "import nbformat as nbf\n",
    "import pickle\n",
    "import os\n",
    "from functions import *\n",
    "from pandas_datareader.data import DataReader\n",
    "from dateutil.relativedelta import relativedelta\n",
    "import numpy as np\n",
    "import pandas as pd \n",
    "from tqdm import tqdm"
   ]
  },
  {
   "cell_type": "code",
   "execution_count": 5,
   "metadata": {},
   "outputs": [],
   "source": [
    "top_n_by_market_cap = 100"
   ]
  },
  {
   "cell_type": "code",
   "execution_count": 6,
   "metadata": {},
   "outputs": [],
   "source": [
    "#https://www.nasdaq.com/market-activity/stocks/screener?exchange=AMEX\n",
    "\n",
    "try:\n",
    "    df_nasdaq = pd.read_csv('../../../data/NASDAQ.csv')\n",
    "    df_nyse = pd.read_csv('../../../data/NYSE.csv')\n",
    "\n",
    "    df_concat = pd.concat([df_nasdaq,df_nyse])[[\"Symbol\",\"Name\",\"Market Cap\"]].sort_values(by=[\"Market Cap\"],ascending=False).dropna()\n",
    "    df_concat['Market Cap'] = df_concat['Market Cap']/1000000000\n",
    "    df_concat = df_concat[df_concat['Market Cap']>10]\n",
    "    df_concat = df_concat[0:(100-1)]\n",
    "    #df_concat.to_pickle(\"../../data/symbols.pkl\")\n",
    "except E as Exception:\n",
    "    print(E)"
   ]
  },
  {
   "cell_type": "code",
   "execution_count": 7,
   "metadata": {},
   "outputs": [
    {
     "output_type": "execute_result",
     "data": {
      "text/plain": [
       "     Symbol                                            Name   Market Cap\n",
       "8      AAPL                         Apple Inc. Common Stock  2160.405937\n",
       "2539   MSFT              Microsoft Corporation Common Stock  1880.483534\n",
       "245    AMZN                    Amazon.com Inc. Common Stock  1625.470704\n",
       "1654   GOOG             Alphabet Inc. Class C Capital Stock  1616.140197\n",
       "1655  GOOGL              Alphabet Inc. Class A Common Stock  1579.475536\n",
       "...     ...                                             ...          ...\n",
       "1220     GE           General Electric Company Common Stock   123.427692\n",
       "2779    TOT                                        Total SE   122.779068\n",
       "1985   INTU                        Intuit Inc. Common Stock   119.985411\n",
       "1822    MMM                         3M Company Common Stock   117.697212\n",
       "173     AMT  American Tower Corporation (REIT) Common Stock   116.156661\n",
       "\n",
       "[99 rows x 3 columns]"
      ],
      "text/html": "<div>\n<style scoped>\n    .dataframe tbody tr th:only-of-type {\n        vertical-align: middle;\n    }\n\n    .dataframe tbody tr th {\n        vertical-align: top;\n    }\n\n    .dataframe thead th {\n        text-align: right;\n    }\n</style>\n<table border=\"1\" class=\"dataframe\">\n  <thead>\n    <tr style=\"text-align: right;\">\n      <th></th>\n      <th>Symbol</th>\n      <th>Name</th>\n      <th>Market Cap</th>\n    </tr>\n  </thead>\n  <tbody>\n    <tr>\n      <th>8</th>\n      <td>AAPL</td>\n      <td>Apple Inc. Common Stock</td>\n      <td>2160.405937</td>\n    </tr>\n    <tr>\n      <th>2539</th>\n      <td>MSFT</td>\n      <td>Microsoft Corporation Common Stock</td>\n      <td>1880.483534</td>\n    </tr>\n    <tr>\n      <th>245</th>\n      <td>AMZN</td>\n      <td>Amazon.com Inc. Common Stock</td>\n      <td>1625.470704</td>\n    </tr>\n    <tr>\n      <th>1654</th>\n      <td>GOOG</td>\n      <td>Alphabet Inc. Class C Capital Stock</td>\n      <td>1616.140197</td>\n    </tr>\n    <tr>\n      <th>1655</th>\n      <td>GOOGL</td>\n      <td>Alphabet Inc. Class A Common Stock</td>\n      <td>1579.475536</td>\n    </tr>\n    <tr>\n      <th>...</th>\n      <td>...</td>\n      <td>...</td>\n      <td>...</td>\n    </tr>\n    <tr>\n      <th>1220</th>\n      <td>GE</td>\n      <td>General Electric Company Common Stock</td>\n      <td>123.427692</td>\n    </tr>\n    <tr>\n      <th>2779</th>\n      <td>TOT</td>\n      <td>Total SE</td>\n      <td>122.779068</td>\n    </tr>\n    <tr>\n      <th>1985</th>\n      <td>INTU</td>\n      <td>Intuit Inc. Common Stock</td>\n      <td>119.985411</td>\n    </tr>\n    <tr>\n      <th>1822</th>\n      <td>MMM</td>\n      <td>3M Company Common Stock</td>\n      <td>117.697212</td>\n    </tr>\n    <tr>\n      <th>173</th>\n      <td>AMT</td>\n      <td>American Tower Corporation (REIT) Common Stock</td>\n      <td>116.156661</td>\n    </tr>\n  </tbody>\n</table>\n<p>99 rows × 3 columns</p>\n</div>"
     },
     "metadata": {},
     "execution_count": 7
    }
   ],
   "source": [
    "df_concat"
   ]
  },
  {
   "source": [
    "# Generate notebook function"
   ],
   "cell_type": "markdown",
   "metadata": {}
  },
  {
   "cell_type": "code",
   "execution_count": 20,
   "metadata": {},
   "outputs": [],
   "source": [
    "def generate_notebook(symbol,name):\n",
    "    nb = nbf.v4.new_notebook()\n",
    "\n",
    "    # Title\n",
    "    text = \"\"\"# ({ticker}): {name}\"\"\".format(ticker = symbol, name = name)\n",
    "    # Code\n",
    "    code = \"\"\"\\\n",
    "    collect_tune_and_predict('{ticker}',n_ahead = 365)\"\"\".format(ticker = symbol)\n",
    "\n",
    "    # Cells\n",
    "    nb['cells'] = [nbf.v4.new_markdown_cell(text),\n",
    "                nbf.v4.new_code_cell(code)]\n",
    "\n",
    "    fname = '{ticker}.ipynb'.format(ticker = symbol)\n",
    "\n",
    "    with open(fname, 'w') as f:\n",
    "        nbf.write(nb, f)\n",
    "    return True"
   ]
  },
  {
   "cell_type": "code",
   "execution_count": 21,
   "metadata": {},
   "outputs": [
    {
     "output_type": "stream",
     "name": "stderr",
     "text": [
      "99it [00:00, 1016.78it/s]\n"
     ]
    }
   ],
   "source": [
    "for tuple_ in tqdm( df_concat.itertuples() ):\n",
    "    symbol = tuple_.Symbol\n",
    "    name = tuple_.Name\n",
    "    generate_notebook(symbol = symbol, name = name)"
   ]
  },
  {
   "source": [
    "# Generate YAML list"
   ],
   "cell_type": "markdown",
   "metadata": {}
  },
  {
   "cell_type": "code",
   "execution_count": 28,
   "metadata": {},
   "outputs": [
    {
     "output_type": "stream",
     "name": "stdout",
     "text": [
      "- part: FB Prophet\n  chapters:\n  - file: pystocks/stocks/AAPL.ipynb\n  - file: pystocks/stocks/MSFT.ipynb\n  - file: pystocks/stocks/AMZN.ipynb\n  - file: pystocks/stocks/GOOG.ipynb\n  - file: pystocks/stocks/GOOGL.ipynb\n  - file: pystocks/stocks/FB.ipynb\n  - file: pystocks/stocks/TSM.ipynb\n  - file: pystocks/stocks/TSLA.ipynb\n  - file: pystocks/stocks/BABA.ipynb\n  - file: pystocks/stocks/JPM.ipynb\n  - file: pystocks/stocks/V.ipynb\n  - file: pystocks/stocks/JNJ.ipynb\n  - file: pystocks/stocks/NVDA.ipynb\n  - file: pystocks/stocks/WMT.ipynb\n  - file: pystocks/stocks/UNH.ipynb\n  - file: pystocks/stocks/BAC.ipynb\n  - file: pystocks/stocks/MA.ipynb\n  - file: pystocks/stocks/HD.ipynb\n  - file: pystocks/stocks/PG.ipynb\n  - file: pystocks/stocks/DIS.ipynb\n  - file: pystocks/stocks/PYPL.ipynb\n  - file: pystocks/stocks/ASML.ipynb\n  - file: pystocks/stocks/CMCSA.ipynb\n  - file: pystocks/stocks/XOM.ipynb\n  - file: pystocks/stocks/ADBE.ipynb\n  - file: pystocks/stocks/KO.ipynb\n  - file: pystocks/stocks/TM.ipynb\n  - file: pystocks/stocks/INTC.ipynb\n  - file: pystocks/stocks/ORCL.ipynb\n  - file: pystocks/stocks/CSCO.ipynb\n  - file: pystocks/stocks/NFLX.ipynb\n  - file: pystocks/stocks/CRM.ipynb\n  - file: pystocks/stocks/PFE.ipynb\n  - file: pystocks/stocks/NKE.ipynb\n  - file: pystocks/stocks/T.ipynb\n  - file: pystocks/stocks/ABT.ipynb\n  - file: pystocks/stocks/PEP.ipynb\n  - file: pystocks/stocks/CVX.ipynb\n  - file: pystocks/stocks/ABBV.ipynb\n  - file: pystocks/stocks/NVS.ipynb\n  - file: pystocks/stocks/WFC.ipynb\n  - file: pystocks/stocks/AVGO.ipynb\n  - file: pystocks/stocks/MRK.ipynb\n  - file: pystocks/stocks/LLY.ipynb\n  - file: pystocks/stocks/BHP.ipynb\n  - file: pystocks/stocks/UPS.ipynb\n  - file: pystocks/stocks/TMO.ipynb\n  - file: pystocks/stocks/DHR.ipynb\n  - file: pystocks/stocks/NVO.ipynb\n  - file: pystocks/stocks/ACN.ipynb\n  - file: pystocks/stocks/TMUS.ipynb\n  - file: pystocks/stocks/TXN.ipynb\n  - file: pystocks/stocks/MCD.ipynb\n  - file: pystocks/stocks/EDU.ipynb\n  - file: pystocks/stocks/MDT.ipynb\n  - file: pystocks/stocks/MS.ipynb\n  - file: pystocks/stocks/COST.ipynb\n  - file: pystocks/stocks/SAP.ipynb\n  - file: pystocks/stocks/C.ipynb\n  - file: pystocks/stocks/HON.ipynb\n  - file: pystocks/stocks/UL.ipynb\n  - file: pystocks/stocks/PDD.ipynb\n  - file: pystocks/stocks/LIN.ipynb\n  - file: pystocks/stocks/SHOP.ipynb\n  - file: pystocks/stocks/BBL.ipynb\n  - file: pystocks/stocks/QCOM.ipynb\n  - file: pystocks/stocks/PM.ipynb\n  - file: pystocks/stocks/BUD.ipynb\n  - file: pystocks/stocks/UNP.ipynb\n  - file: pystocks/stocks/AZN.ipynb\n  - file: pystocks/stocks/RY.ipynb\n  - file: pystocks/stocks/BMY.ipynb\n  - file: pystocks/stocks/BA.ipynb\n  - file: pystocks/stocks/NEE.ipynb\n  - file: pystocks/stocks/CHTR.ipynb\n  - file: pystocks/stocks/RIO.ipynb\n  - file: pystocks/stocks/HDB.ipynb\n  - file: pystocks/stocks/SCHW.ipynb\n  - file: pystocks/stocks/LOW.ipynb\n  - file: pystocks/stocks/AMGN.ipynb\n  - file: pystocks/stocks/RTX.ipynb\n  - file: pystocks/stocks/SBUX.ipynb\n  - file: pystocks/stocks/BLK.ipynb\n  - file: pystocks/stocks/SNY.ipynb\n  - file: pystocks/stocks/SE.ipynb\n  - file: pystocks/stocks/HSBC.ipynb\n  - file: pystocks/stocks/CAT.ipynb\n  - file: pystocks/stocks/TD.ipynb\n  - file: pystocks/stocks/AXP.ipynb\n  - file: pystocks/stocks/IBM.ipynb\n  - file: pystocks/stocks/GS.ipynb\n  - file: pystocks/stocks/AMAT.ipynb\n  - file: pystocks/stocks/CSAN.ipynb\n  - file: pystocks/stocks/SONY.ipynb\n  - file: pystocks/stocks/GE.ipynb\n  - file: pystocks/stocks/TOT.ipynb\n  - file: pystocks/stocks/INTU.ipynb\n  - file: pystocks/stocks/MMM.ipynb\n  - file: pystocks/stocks/AMT.ipynb\n"
     ]
    }
   ],
   "source": [
    "print(\"- part: FB Prophet\")\n",
    "print(\"  chapters:\")\n",
    "for tuple_ in df_concat.itertuples():\n",
    "    symbol = tuple_.Symbol\n",
    "    print(\"  - file: pystocks/stocks/fbprophet/{ticker}.ipynb\".format(ticker=symbol))"
   ]
  },
  {
   "cell_type": "code",
   "execution_count": null,
   "metadata": {},
   "outputs": [],
   "source": []
  }
 ]
}