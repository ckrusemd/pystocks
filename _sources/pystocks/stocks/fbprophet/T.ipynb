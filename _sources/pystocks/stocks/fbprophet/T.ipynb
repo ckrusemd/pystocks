{
 "cells": [
  {
   "cell_type": "markdown",
   "id": "f8d004b0",
   "metadata": {},
   "source": [
    "# (T): AT&T Inc."
   ]
  },
  {
   "cell_type": "code",
   "execution_count": null,
   "id": "372eeb94",
   "metadata": {},
   "outputs": [],
   "source": [
    "    from functions import *\n",
    "    collect_tune_and_predict('T',n_ahead = 365)"
   ]
  }
 ],
 "metadata": {},
 "nbformat": 4,
 "nbformat_minor": 5
}
