{
 "cells": [
  {
   "cell_type": "markdown",
   "id": "fac664d2",
   "metadata": {},
   "source": [
    "# (TGT): Target Corporation Common Stock"
   ]
  },
  {
   "cell_type": "code",
   "execution_count": null,
   "id": "2ee6410d",
   "metadata": {},
   "outputs": [],
   "source": [
    "    from functions import *\n",
    "    collect_tune_and_predict('TGT',n_ahead = 365)"
   ]
  }
 ],
 "metadata": {},
 "nbformat": 4,
 "nbformat_minor": 5
}
