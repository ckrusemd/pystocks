{
 "cells": [
  {
   "cell_type": "markdown",
   "id": "bddfba83",
   "metadata": {},
   "source": [
    "# (EXPD): Expeditors International of Washington Inc. Common Stock"
   ]
  },
  {
   "cell_type": "code",
   "execution_count": null,
   "id": "f5eb95dc",
   "metadata": {},
   "outputs": [],
   "source": [
    "    from functions import *\n",
    "    collect_tune_and_predict('EXPD',n_ahead = 365)"
   ]
  }
 ],
 "metadata": {},
 "nbformat": 4,
 "nbformat_minor": 5
}
