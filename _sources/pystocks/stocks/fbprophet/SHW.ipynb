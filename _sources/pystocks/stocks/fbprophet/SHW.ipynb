{
 "cells": [
  {
   "cell_type": "markdown",
   "id": "c4daa42c",
   "metadata": {},
   "source": [
    "# (SHW): Sherwin-Williams Company (The) Common Stock"
   ]
  },
  {
   "cell_type": "code",
   "execution_count": null,
   "id": "3214a8b6",
   "metadata": {},
   "outputs": [],
   "source": [
    "    from functions import *\n",
    "    collect_tune_and_predict('SHW',n_ahead = 365)"
   ]
  }
 ],
 "metadata": {},
 "nbformat": 4,
 "nbformat_minor": 5
}
