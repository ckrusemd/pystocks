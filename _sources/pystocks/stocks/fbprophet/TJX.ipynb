{
 "cells": [
  {
   "cell_type": "markdown",
   "id": "c4e85c57",
   "metadata": {},
   "source": [
    "# (TJX): TJX Companies Inc. (The) Common Stock"
   ]
  },
  {
   "cell_type": "code",
   "execution_count": null,
   "id": "8d0c0f0c",
   "metadata": {},
   "outputs": [],
   "source": [
    "    from functions import *\n",
    "    collect_tune_and_predict('TJX',n_ahead = 365)"
   ]
  }
 ],
 "metadata": {},
 "nbformat": 4,
 "nbformat_minor": 5
}
