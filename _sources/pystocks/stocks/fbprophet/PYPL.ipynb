{
 "cells": [
  {
   "cell_type": "markdown",
   "id": "af4e825a",
   "metadata": {},
   "source": [
    "# (PYPL): PayPal Holdings Inc. Common Stock"
   ]
  },
  {
   "cell_type": "code",
   "execution_count": null,
   "id": "93f05dc7",
   "metadata": {},
   "outputs": [],
   "source": [
    "    from functions import *\n",
    "    collect_tune_and_predict('PYPL',n_ahead = 365)"
   ]
  }
 ],
 "metadata": {},
 "nbformat": 4,
 "nbformat_minor": 5
}
