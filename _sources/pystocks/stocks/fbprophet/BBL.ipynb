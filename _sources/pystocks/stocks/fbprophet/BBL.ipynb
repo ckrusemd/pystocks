{
 "cells": [
  {
   "cell_type": "markdown",
   "id": "7cdd8413",
   "metadata": {},
   "source": [
    "# (BBL): BHP Group PlcSponsored ADR"
   ]
  },
  {
   "cell_type": "code",
   "execution_count": null,
   "id": "ee04eda1",
   "metadata": {},
   "outputs": [],
   "source": [
    "    from functions import *\n",
    "    collect_tune_and_predict('BBL',n_ahead = 365)"
   ]
  }
 ],
 "metadata": {},
 "nbformat": 4,
 "nbformat_minor": 5
}
