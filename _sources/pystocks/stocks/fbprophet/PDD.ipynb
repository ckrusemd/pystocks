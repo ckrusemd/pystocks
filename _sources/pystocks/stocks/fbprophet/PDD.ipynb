{
 "cells": [
  {
   "cell_type": "markdown",
   "id": "06b4b321",
   "metadata": {},
   "source": [
    "# (PDD): Pinduoduo Inc. American Depositary Shares"
   ]
  },
  {
   "cell_type": "code",
   "execution_count": null,
   "id": "6bcb34b6",
   "metadata": {},
   "outputs": [],
   "source": [
    "    from functions import *\n",
    "    collect_tune_and_predict('PDD',n_ahead = 365)"
   ]
  }
 ],
 "metadata": {},
 "nbformat": 4,
 "nbformat_minor": 5
}
