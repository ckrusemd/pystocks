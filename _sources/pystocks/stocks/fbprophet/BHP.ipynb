{
 "cells": [
  {
   "cell_type": "markdown",
   "id": "c2265cc9",
   "metadata": {},
   "source": [
    "# (BHP): BHP Group Limited American Depositary Shares (Each representing two Ordinary Shares)"
   ]
  },
  {
   "cell_type": "code",
   "execution_count": null,
   "id": "9813509a",
   "metadata": {},
   "outputs": [],
   "source": [
    "    from functions import *\n",
    "    collect_tune_and_predict('BHP',n_ahead = 365)"
   ]
  }
 ],
 "metadata": {},
 "nbformat": 4,
 "nbformat_minor": 5
}
