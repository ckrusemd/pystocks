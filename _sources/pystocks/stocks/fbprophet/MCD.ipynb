{
 "cells": [
  {
   "cell_type": "markdown",
   "id": "15144114",
   "metadata": {},
   "source": [
    "# (MCD): McDonald's Corporation Common Stock"
   ]
  },
  {
   "cell_type": "code",
   "execution_count": null,
   "id": "a91bf32c",
   "metadata": {},
   "outputs": [],
   "source": [
    "    from functions import *\n",
    "    collect_tune_and_predict('MCD',n_ahead = 365)"
   ]
  }
 ],
 "metadata": {},
 "nbformat": 4,
 "nbformat_minor": 5
}
