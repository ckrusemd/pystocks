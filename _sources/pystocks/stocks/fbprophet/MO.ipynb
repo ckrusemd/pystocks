{
 "cells": [
  {
   "cell_type": "markdown",
   "id": "9d0b3d5c",
   "metadata": {},
   "source": [
    "# (MO): Altria Group Inc."
   ]
  },
  {
   "cell_type": "code",
   "execution_count": null,
   "id": "2c398e9e",
   "metadata": {},
   "outputs": [],
   "source": [
    "    from functions import *\n",
    "    collect_tune_and_predict('MO',n_ahead = 365)"
   ]
  }
 ],
 "metadata": {},
 "nbformat": 4,
 "nbformat_minor": 5
}
