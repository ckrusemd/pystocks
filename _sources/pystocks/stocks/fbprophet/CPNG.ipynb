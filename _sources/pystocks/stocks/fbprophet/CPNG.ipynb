{
 "cells": [
  {
   "cell_type": "markdown",
   "id": "fa935676",
   "metadata": {},
   "source": [
    "# (CPNG): Coupang Inc. Class A Common Stock"
   ]
  },
  {
   "cell_type": "code",
   "execution_count": null,
   "id": "ff381d23",
   "metadata": {},
   "outputs": [],
   "source": [
    "    from functions import *\n",
    "    collect_tune_and_predict('CPNG',n_ahead = 365)"
   ]
  }
 ],
 "metadata": {},
 "nbformat": 4,
 "nbformat_minor": 5
}
