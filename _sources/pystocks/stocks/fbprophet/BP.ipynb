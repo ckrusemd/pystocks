{
 "cells": [
  {
   "cell_type": "markdown",
   "id": "b79f1514",
   "metadata": {},
   "source": [
    "# (BP): BP p.l.c. Common Stock"
   ]
  },
  {
   "cell_type": "code",
   "execution_count": null,
   "id": "2db23c21",
   "metadata": {},
   "outputs": [],
   "source": [
    "    from functions import *\n",
    "    collect_tune_and_predict('BP',n_ahead = 365)"
   ]
  }
 ],
 "metadata": {},
 "nbformat": 4,
 "nbformat_minor": 5
}
