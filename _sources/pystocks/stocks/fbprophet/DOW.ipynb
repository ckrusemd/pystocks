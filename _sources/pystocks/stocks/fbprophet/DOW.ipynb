{
 "cells": [
  {
   "cell_type": "markdown",
   "id": "a3eff310",
   "metadata": {},
   "source": [
    "# (DOW): Dow Inc. Common Stock "
   ]
  },
  {
   "cell_type": "code",
   "execution_count": null,
   "id": "01cd4c77",
   "metadata": {},
   "outputs": [],
   "source": [
    "    from functions import *\n",
    "    collect_tune_and_predict('DOW',n_ahead = 365)"
   ]
  }
 ],
 "metadata": {},
 "nbformat": 4,
 "nbformat_minor": 5
}
