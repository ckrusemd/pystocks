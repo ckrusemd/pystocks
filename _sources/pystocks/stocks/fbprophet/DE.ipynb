{
 "cells": [
  {
   "cell_type": "markdown",
   "id": "70aeb23f",
   "metadata": {},
   "source": [
    "# (DE): Deere & Company Common Stock"
   ]
  },
  {
   "cell_type": "code",
   "execution_count": null,
   "id": "823e5d25",
   "metadata": {},
   "outputs": [],
   "source": [
    "    from functions import *\n",
    "    collect_tune_and_predict('DE',n_ahead = 365)"
   ]
  }
 ],
 "metadata": {},
 "nbformat": 4,
 "nbformat_minor": 5
}
