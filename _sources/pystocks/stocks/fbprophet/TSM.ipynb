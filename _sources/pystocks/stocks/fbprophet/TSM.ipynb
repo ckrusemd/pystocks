{
 "cells": [
  {
   "cell_type": "markdown",
   "id": "db2d41a6",
   "metadata": {},
   "source": [
    "# (TSM): Taiwan Semiconductor Manufacturing Company Ltd."
   ]
  },
  {
   "cell_type": "code",
   "execution_count": null,
   "id": "c19087b8",
   "metadata": {},
   "outputs": [],
   "source": [
    "    from functions import *\n",
    "    collect_tune_and_predict('TSM',n_ahead = 365)"
   ]
  }
 ],
 "metadata": {},
 "nbformat": 4,
 "nbformat_minor": 5
}
