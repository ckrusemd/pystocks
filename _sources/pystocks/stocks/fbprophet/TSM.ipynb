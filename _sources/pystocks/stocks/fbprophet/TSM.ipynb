{
 "cells": [
  {
   "cell_type": "markdown",
   "id": "ae281ca9",
   "metadata": {},
   "source": [
    "# (TSM): Taiwan Semiconductor Manufacturing Company Ltd."
   ]
  },
  {
   "cell_type": "code",
   "execution_count": null,
   "id": "8e5ea614",
   "metadata": {},
   "outputs": [],
   "source": [
    "    from functions import *\n",
    "    collect_tune_and_predict('TSM',n_ahead = 365)"
   ]
  }
 ],
 "metadata": {},
 "nbformat": 4,
 "nbformat_minor": 5
}
