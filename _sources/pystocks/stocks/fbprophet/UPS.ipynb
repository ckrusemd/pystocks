{
 "cells": [
  {
   "cell_type": "markdown",
   "id": "d0d2c0fe",
   "metadata": {},
   "source": [
    "# (UPS): United Parcel Service Inc. Common Stock"
   ]
  },
  {
   "cell_type": "code",
   "execution_count": null,
   "id": "6dfa2be3",
   "metadata": {},
   "outputs": [],
   "source": [
    "    from functions import *\n",
    "    collect_tune_and_predict('UPS',n_ahead = 365)"
   ]
  }
 ],
 "metadata": {},
 "nbformat": 4,
 "nbformat_minor": 5
}
