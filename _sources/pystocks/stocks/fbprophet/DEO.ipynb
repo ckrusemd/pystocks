{
 "cells": [
  {
   "cell_type": "markdown",
   "id": "b8f3edd3",
   "metadata": {},
   "source": [
    "# (DEO): Diageo plc Common Stock"
   ]
  },
  {
   "cell_type": "code",
   "execution_count": null,
   "id": "ffe3d7a2",
   "metadata": {},
   "outputs": [],
   "source": [
    "    from functions import *\n",
    "    collect_tune_and_predict('DEO',n_ahead = 365)"
   ]
  }
 ],
 "metadata": {},
 "nbformat": 4,
 "nbformat_minor": 5
}
