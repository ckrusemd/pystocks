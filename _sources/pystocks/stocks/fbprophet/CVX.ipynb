{
 "cells": [
  {
   "cell_type": "markdown",
   "id": "aac33130",
   "metadata": {},
   "source": [
    "# (CVX): Chevron Corporation Common Stock"
   ]
  },
  {
   "cell_type": "code",
   "execution_count": null,
   "id": "ed4ffc33",
   "metadata": {},
   "outputs": [],
   "source": [
    "    from functions import *\n",
    "    collect_tune_and_predict('CVX',n_ahead = 365)"
   ]
  }
 ],
 "metadata": {},
 "nbformat": 4,
 "nbformat_minor": 5
}
