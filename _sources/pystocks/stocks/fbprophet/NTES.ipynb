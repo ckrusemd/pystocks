{
 "cells": [
  {
   "cell_type": "markdown",
   "id": "2b4e85c7",
   "metadata": {},
   "source": [
    "# (NTES): NetEase Inc. American Depositary Shares"
   ]
  },
  {
   "cell_type": "code",
   "execution_count": null,
   "id": "61b6d4f4",
   "metadata": {},
   "outputs": [],
   "source": [
    "    from functions import *\n",
    "    collect_tune_and_predict('NTES',n_ahead = 365)"
   ]
  }
 ],
 "metadata": {},
 "nbformat": 4,
 "nbformat_minor": 5
}
