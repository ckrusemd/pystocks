{
 "cells": [
  {
   "cell_type": "markdown",
   "id": "bbc720f2",
   "metadata": {},
   "source": [
    "# (GM): General Motors Company Common Stock"
   ]
  },
  {
   "cell_type": "code",
   "execution_count": null,
   "id": "da61b530",
   "metadata": {},
   "outputs": [],
   "source": [
    "    from functions import *\n",
    "    collect_tune_and_predict('GM',n_ahead = 365)"
   ]
  }
 ],
 "metadata": {},
 "nbformat": 4,
 "nbformat_minor": 5
}
