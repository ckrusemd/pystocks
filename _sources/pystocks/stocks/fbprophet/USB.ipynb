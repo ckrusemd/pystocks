{
 "cells": [
  {
   "cell_type": "markdown",
   "id": "cf513bf7",
   "metadata": {},
   "source": [
    "# (USB): U.S. Bancorp Common Stock"
   ]
  },
  {
   "cell_type": "code",
   "execution_count": null,
   "id": "eeb4e10e",
   "metadata": {},
   "outputs": [],
   "source": [
    "    from functions import *\n",
    "    collect_tune_and_predict('USB',n_ahead = 365)"
   ]
  }
 ],
 "metadata": {},
 "nbformat": 4,
 "nbformat_minor": 5
}
