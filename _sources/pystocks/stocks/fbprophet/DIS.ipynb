{
 "cells": [
  {
   "cell_type": "markdown",
   "id": "f838c196",
   "metadata": {},
   "source": [
    "# (DIS): Walt Disney Company (The) Common Stock"
   ]
  },
  {
   "cell_type": "code",
   "execution_count": null,
   "id": "94bd52b1",
   "metadata": {},
   "outputs": [],
   "source": [
    "    from functions import *\n",
    "    collect_tune_and_predict('DIS',n_ahead = 365)"
   ]
  }
 ],
 "metadata": {},
 "nbformat": 4,
 "nbformat_minor": 5
}
