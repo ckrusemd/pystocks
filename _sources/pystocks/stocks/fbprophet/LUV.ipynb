{
 "cells": [
  {
   "cell_type": "markdown",
   "id": "40a67550",
   "metadata": {},
   "source": [
    "# (LUV): Southwest Airlines Company Common Stock"
   ]
  },
  {
   "cell_type": "code",
   "execution_count": null,
   "id": "279292d7",
   "metadata": {},
   "outputs": [],
   "source": [
    "    from functions import *\n",
    "    collect_tune_and_predict('LUV',n_ahead = 365)"
   ]
  }
 ],
 "metadata": {},
 "nbformat": 4,
 "nbformat_minor": 5
}
