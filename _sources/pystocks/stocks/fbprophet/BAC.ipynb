{
 "cells": [
  {
   "cell_type": "markdown",
   "id": "65d0dc43",
   "metadata": {},
   "source": [
    "# (BAC): Bank of America Corporation Common Stock"
   ]
  },
  {
   "cell_type": "code",
   "execution_count": null,
   "id": "56232637",
   "metadata": {},
   "outputs": [],
   "source": [
    "    from functions import *\n",
    "    collect_tune_and_predict('BAC',n_ahead = 365)"
   ]
  }
 ],
 "metadata": {},
 "nbformat": 4,
 "nbformat_minor": 5
}
