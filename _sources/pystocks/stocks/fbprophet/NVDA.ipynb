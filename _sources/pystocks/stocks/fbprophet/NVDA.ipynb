{
 "cells": [
  {
   "cell_type": "markdown",
   "id": "3827d69f",
   "metadata": {},
   "source": [
    "# (NVDA): NVIDIA Corporation Common Stock"
   ]
  },
  {
   "cell_type": "code",
   "execution_count": null,
   "id": "a07dbd54",
   "metadata": {},
   "outputs": [],
   "source": [
    "    from functions import *\n",
    "    collect_tune_and_predict('NVDA',n_ahead = 365)"
   ]
  }
 ],
 "metadata": {},
 "nbformat": 4,
 "nbformat_minor": 5
}
