{
 "cells": [
  {
   "cell_type": "markdown",
   "id": "9447735d",
   "metadata": {},
   "source": [
    "# (NFLX): Netflix Inc. Common Stock"
   ]
  },
  {
   "cell_type": "code",
   "execution_count": null,
   "id": "3cc5ed48",
   "metadata": {},
   "outputs": [],
   "source": [
    "    from functions import *\n",
    "    collect_tune_and_predict('NFLX',n_ahead = 365)"
   ]
  }
 ],
 "metadata": {},
 "nbformat": 4,
 "nbformat_minor": 5
}
