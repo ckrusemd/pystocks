{
 "cells": [
  {
   "cell_type": "markdown",
   "id": "57ab87c5",
   "metadata": {},
   "source": [
    "# (VALE): VALE S.A.  American Depositary Shares Each Representing one common share"
   ]
  },
  {
   "cell_type": "code",
   "execution_count": null,
   "id": "ce6c0f92",
   "metadata": {},
   "outputs": [],
   "source": [
    "    from functions import *\n",
    "    collect_tune_and_predict('VALE',n_ahead = 365)"
   ]
  }
 ],
 "metadata": {},
 "nbformat": 4,
 "nbformat_minor": 5
}
