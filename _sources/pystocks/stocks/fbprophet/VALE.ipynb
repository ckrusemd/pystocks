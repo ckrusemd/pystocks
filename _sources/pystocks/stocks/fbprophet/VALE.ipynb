{
 "cells": [
  {
   "cell_type": "markdown",
   "id": "bd58ab60",
   "metadata": {},
   "source": [
    "# (VALE): VALE S.A.  American Depositary Shares Each Representing one common share"
   ]
  },
  {
   "cell_type": "code",
   "execution_count": null,
   "id": "92377a62",
   "metadata": {},
   "outputs": [],
   "source": [
    "    from functions import *\n",
    "    collect_tune_and_predict('VALE',n_ahead = 365)"
   ]
  }
 ],
 "metadata": {},
 "nbformat": 4,
 "nbformat_minor": 5
}
