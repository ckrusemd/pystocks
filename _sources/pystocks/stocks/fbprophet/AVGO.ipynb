{
 "cells": [
  {
   "cell_type": "markdown",
   "id": "7b1dbbbe",
   "metadata": {},
   "source": [
    "# (AVGO): Broadcom Inc. Common Stock"
   ]
  },
  {
   "cell_type": "code",
   "execution_count": null,
   "id": "98384f32",
   "metadata": {},
   "outputs": [],
   "source": [
    "    from functions import *\n",
    "    collect_tune_and_predict('AVGO',n_ahead = 365)"
   ]
  }
 ],
 "metadata": {},
 "nbformat": 4,
 "nbformat_minor": 5
}
