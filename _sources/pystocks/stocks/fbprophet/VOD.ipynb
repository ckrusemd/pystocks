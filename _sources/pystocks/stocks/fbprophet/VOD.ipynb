{
 "cells": [
  {
   "cell_type": "markdown",
   "id": "aa6924d9",
   "metadata": {},
   "source": [
    "# (VOD): Vodafone Group Plc American Depositary Shares"
   ]
  },
  {
   "cell_type": "code",
   "execution_count": null,
   "id": "dcf2bf07",
   "metadata": {},
   "outputs": [],
   "source": [
    "    from functions import *\n",
    "    collect_tune_and_predict('VOD',n_ahead = 365)"
   ]
  }
 ],
 "metadata": {},
 "nbformat": 4,
 "nbformat_minor": 5
}
