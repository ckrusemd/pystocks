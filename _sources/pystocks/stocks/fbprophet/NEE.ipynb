{
 "cells": [
  {
   "cell_type": "markdown",
   "id": "b1613d6f",
   "metadata": {},
   "source": [
    "# (NEE): NextEra Energy Inc. Common Stock"
   ]
  },
  {
   "cell_type": "code",
   "execution_count": null,
   "id": "e52d295a",
   "metadata": {},
   "outputs": [],
   "source": [
    "    from functions import *\n",
    "    collect_tune_and_predict('NEE',n_ahead = 365)"
   ]
  }
 ],
 "metadata": {},
 "nbformat": 4,
 "nbformat_minor": 5
}
