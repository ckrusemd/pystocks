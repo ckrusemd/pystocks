{
 "cells": [
  {
   "cell_type": "markdown",
   "id": "6e901dda",
   "metadata": {},
   "source": [
    "# (PTR): PetroChina Company Limited Common Stock"
   ]
  },
  {
   "cell_type": "code",
   "execution_count": null,
   "id": "ba744a2c",
   "metadata": {},
   "outputs": [],
   "source": [
    "    from functions import *\n",
    "    collect_tune_and_predict('PTR',n_ahead = 365)"
   ]
  }
 ],
 "metadata": {},
 "nbformat": 4,
 "nbformat_minor": 5
}
