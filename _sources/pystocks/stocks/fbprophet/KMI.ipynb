{
 "cells": [
  {
   "cell_type": "markdown",
   "id": "ad9c9385",
   "metadata": {},
   "source": [
    "# (KMI): Kinder Morgan Inc. Common Stock"
   ]
  },
  {
   "cell_type": "code",
   "execution_count": null,
   "id": "169a27ec",
   "metadata": {},
   "outputs": [],
   "source": [
    "    from functions import *\n",
    "    collect_tune_and_predict('KMI',n_ahead = 365)"
   ]
  }
 ],
 "metadata": {},
 "nbformat": 4,
 "nbformat_minor": 5
}
