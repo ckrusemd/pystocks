{
 "cells": [
  {
   "cell_type": "markdown",
   "id": "9b96d266",
   "metadata": {},
   "source": [
    "# (TMO): Thermo Fisher Scientific Inc Common Stock"
   ]
  },
  {
   "cell_type": "code",
   "execution_count": null,
   "id": "50107e83",
   "metadata": {},
   "outputs": [],
   "source": [
    "    from functions import *\n",
    "    collect_tune_and_predict('TMO',n_ahead = 365)"
   ]
  }
 ],
 "metadata": {},
 "nbformat": 4,
 "nbformat_minor": 5
}
