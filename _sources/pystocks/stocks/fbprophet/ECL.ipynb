{
 "cells": [
  {
   "cell_type": "markdown",
   "id": "ba029c30",
   "metadata": {},
   "source": [
    "# (ECL): Ecolab Inc. Common Stock"
   ]
  },
  {
   "cell_type": "code",
   "execution_count": null,
   "id": "f4fff727",
   "metadata": {},
   "outputs": [],
   "source": [
    "    from functions import *\n",
    "    collect_tune_and_predict('ECL',n_ahead = 365)"
   ]
  }
 ],
 "metadata": {},
 "nbformat": 4,
 "nbformat_minor": 5
}
