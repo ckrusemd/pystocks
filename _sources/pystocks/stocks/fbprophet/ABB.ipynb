{
 "cells": [
  {
   "cell_type": "markdown",
   "id": "29b55f49",
   "metadata": {},
   "source": [
    "# (ABB): ABB Ltd Common Stock"
   ]
  },
  {
   "cell_type": "code",
   "execution_count": null,
   "id": "d3554c03",
   "metadata": {},
   "outputs": [],
   "source": [
    "    from functions import *\n",
    "    collect_tune_and_predict('ABB',n_ahead = 365)"
   ]
  }
 ],
 "metadata": {},
 "nbformat": 4,
 "nbformat_minor": 5
}
