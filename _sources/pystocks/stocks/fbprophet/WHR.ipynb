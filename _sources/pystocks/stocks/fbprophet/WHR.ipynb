{
 "cells": [
  {
   "cell_type": "markdown",
   "id": "e60bce4f",
   "metadata": {},
   "source": [
    "# (WHR): Whirlpool Corporation Common Stock"
   ]
  },
  {
   "cell_type": "code",
   "execution_count": null,
   "id": "e71531d1",
   "metadata": {},
   "outputs": [],
   "source": [
    "    from functions import *\n",
    "    collect_tune_and_predict('WHR',n_ahead = 365)"
   ]
  }
 ],
 "metadata": {},
 "nbformat": 4,
 "nbformat_minor": 5
}
