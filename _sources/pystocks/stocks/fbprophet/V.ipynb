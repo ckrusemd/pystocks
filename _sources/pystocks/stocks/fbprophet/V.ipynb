{
 "cells": [
  {
   "cell_type": "markdown",
   "id": "19cbb11f",
   "metadata": {},
   "source": [
    "# (V): Visa Inc."
   ]
  },
  {
   "cell_type": "code",
   "execution_count": null,
   "id": "3a1fae4d",
   "metadata": {},
   "outputs": [],
   "source": [
    "    from functions import *\n",
    "    collect_tune_and_predict('V',n_ahead = 365)"
   ]
  }
 ],
 "metadata": {},
 "nbformat": 4,
 "nbformat_minor": 5
}
