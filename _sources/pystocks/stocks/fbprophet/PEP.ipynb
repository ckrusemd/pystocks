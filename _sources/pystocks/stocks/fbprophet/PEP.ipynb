{
 "cells": [
  {
   "cell_type": "markdown",
   "id": "b6e0ef75",
   "metadata": {},
   "source": [
    "# (PEP): PepsiCo Inc. Common Stock"
   ]
  },
  {
   "cell_type": "code",
   "execution_count": null,
   "id": "7851b12b",
   "metadata": {},
   "outputs": [],
   "source": [
    "    from functions import *\n",
    "    collect_tune_and_predict('PEP',n_ahead = 365)"
   ]
  }
 ],
 "metadata": {},
 "nbformat": 4,
 "nbformat_minor": 5
}
