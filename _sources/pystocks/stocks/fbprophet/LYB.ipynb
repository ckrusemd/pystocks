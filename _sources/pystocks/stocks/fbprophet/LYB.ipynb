{
 "cells": [
  {
   "cell_type": "markdown",
   "id": "21a3bea5",
   "metadata": {},
   "source": [
    "# (LYB): LyondellBasell Industries NV Ordinary Shares Class A (Netherlands)"
   ]
  },
  {
   "cell_type": "code",
   "execution_count": null,
   "id": "681ac1a3",
   "metadata": {},
   "outputs": [],
   "source": [
    "    from functions import *\n",
    "    collect_tune_and_predict('LYB',n_ahead = 365)"
   ]
  }
 ],
 "metadata": {},
 "nbformat": 4,
 "nbformat_minor": 5
}
