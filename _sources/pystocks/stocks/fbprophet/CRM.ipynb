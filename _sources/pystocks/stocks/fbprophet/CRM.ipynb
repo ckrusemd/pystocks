{
 "cells": [
  {
   "cell_type": "markdown",
   "id": "ba59ea28",
   "metadata": {},
   "source": [
    "# (CRM): Salesforce.com Inc Common Stock"
   ]
  },
  {
   "cell_type": "code",
   "execution_count": null,
   "id": "626c09db",
   "metadata": {},
   "outputs": [],
   "source": [
    "    from functions import *\n",
    "    collect_tune_and_predict('CRM',n_ahead = 365)"
   ]
  }
 ],
 "metadata": {},
 "nbformat": 4,
 "nbformat_minor": 5
}
