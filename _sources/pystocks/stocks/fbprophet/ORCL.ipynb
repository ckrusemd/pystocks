{
 "cells": [
  {
   "cell_type": "markdown",
   "id": "abf838f6",
   "metadata": {},
   "source": [
    "# (ORCL): Oracle Corporation Common Stock"
   ]
  },
  {
   "cell_type": "code",
   "execution_count": null,
   "id": "97a8e153",
   "metadata": {},
   "outputs": [],
   "source": [
    "    from functions import *\n",
    "    collect_tune_and_predict('ORCL',n_ahead = 365)"
   ]
  }
 ],
 "metadata": {},
 "nbformat": 4,
 "nbformat_minor": 5
}
