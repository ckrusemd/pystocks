{
 "cells": [
  {
   "cell_type": "markdown",
   "id": "c40f5eb3",
   "metadata": {},
   "source": [
    "# (UL): Unilever PLC Common Stock"
   ]
  },
  {
   "cell_type": "code",
   "execution_count": null,
   "id": "b06e3806",
   "metadata": {},
   "outputs": [],
   "source": [
    "    from functions import *\n",
    "    collect_tune_and_predict('UL',n_ahead = 365)"
   ]
  }
 ],
 "metadata": {},
 "nbformat": 4,
 "nbformat_minor": 5
}
