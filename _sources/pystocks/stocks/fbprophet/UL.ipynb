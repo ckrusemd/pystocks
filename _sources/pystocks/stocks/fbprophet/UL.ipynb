{
 "cells": [
  {
   "cell_type": "markdown",
   "id": "44c5611c",
   "metadata": {},
   "source": [
    "# (UL): Unilever PLC Common Stock"
   ]
  },
  {
   "cell_type": "code",
   "execution_count": null,
   "id": "a1365b70",
   "metadata": {},
   "outputs": [],
   "source": [
    "    from functions import *\n",
    "    collect_tune_and_predict('UL',n_ahead = 365)"
   ]
  }
 ],
 "metadata": {},
 "nbformat": 4,
 "nbformat_minor": 5
}
