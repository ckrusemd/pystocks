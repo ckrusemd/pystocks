{
 "cells": [
  {
   "cell_type": "markdown",
   "id": "28a071f9",
   "metadata": {},
   "source": [
    "# (TOT): Total SE"
   ]
  },
  {
   "cell_type": "code",
   "execution_count": null,
   "id": "c51e531d",
   "metadata": {},
   "outputs": [],
   "source": [
    "    from functions import *\n",
    "    collect_tune_and_predict('TOT',n_ahead = 365)"
   ]
  }
 ],
 "metadata": {},
 "nbformat": 4,
 "nbformat_minor": 5
}
