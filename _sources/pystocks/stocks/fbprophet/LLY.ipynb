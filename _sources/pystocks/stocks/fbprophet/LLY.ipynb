{
 "cells": [
  {
   "cell_type": "markdown",
   "id": "541e40c9",
   "metadata": {},
   "source": [
    "# (LLY): Eli Lilly and Company Common Stock"
   ]
  },
  {
   "cell_type": "code",
   "execution_count": null,
   "id": "8764b6e6",
   "metadata": {},
   "outputs": [],
   "source": [
    "    from functions import *\n",
    "    collect_tune_and_predict('LLY',n_ahead = 365)"
   ]
  }
 ],
 "metadata": {},
 "nbformat": 4,
 "nbformat_minor": 5
}
