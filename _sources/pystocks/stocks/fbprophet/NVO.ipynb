{
 "cells": [
  {
   "cell_type": "markdown",
   "id": "a7770431",
   "metadata": {},
   "source": [
    "# (NVO): Novo Nordisk A/S Common Stock"
   ]
  },
  {
   "cell_type": "code",
   "execution_count": null,
   "id": "641962ca",
   "metadata": {},
   "outputs": [],
   "source": [
    "    from functions import *\n",
    "    collect_tune_and_predict('NVO',n_ahead = 365)"
   ]
  }
 ],
 "metadata": {},
 "nbformat": 4,
 "nbformat_minor": 5
}
