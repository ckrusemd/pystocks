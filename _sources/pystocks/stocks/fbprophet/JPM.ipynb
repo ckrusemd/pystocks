{
 "cells": [
  {
   "cell_type": "markdown",
   "id": "e649b9e7",
   "metadata": {},
   "source": [
    "# (JPM): JP Morgan Chase & Co. Common Stock"
   ]
  },
  {
   "cell_type": "code",
   "execution_count": null,
   "id": "8290da61",
   "metadata": {},
   "outputs": [],
   "source": [
    "    from functions import *\n",
    "    collect_tune_and_predict('JPM',n_ahead = 365)"
   ]
  }
 ],
 "metadata": {},
 "nbformat": 4,
 "nbformat_minor": 5
}
