{
 "cells": [
  {
   "cell_type": "markdown",
   "id": "eacfbbd7",
   "metadata": {},
   "source": [
    "# (FBHS): Fortune Brands Home & Security Inc. Common Stock"
   ]
  },
  {
   "cell_type": "code",
   "execution_count": null,
   "id": "4573bd2a",
   "metadata": {},
   "outputs": [],
   "source": [
    "    from functions import *\n",
    "    collect_tune_and_predict('FBHS',n_ahead = 365)"
   ]
  }
 ],
 "metadata": {},
 "nbformat": 4,
 "nbformat_minor": 5
}
