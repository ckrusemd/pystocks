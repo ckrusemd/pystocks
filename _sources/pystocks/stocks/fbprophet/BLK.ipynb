{
 "cells": [
  {
   "cell_type": "markdown",
   "id": "22dca9c4",
   "metadata": {},
   "source": [
    "# (BLK): BlackRock Inc. Common Stock"
   ]
  },
  {
   "cell_type": "code",
   "execution_count": null,
   "id": "a90c4d81",
   "metadata": {},
   "outputs": [],
   "source": [
    "    from functions import *\n",
    "    collect_tune_and_predict('BLK',n_ahead = 365)"
   ]
  }
 ],
 "metadata": {},
 "nbformat": 4,
 "nbformat_minor": 5
}
