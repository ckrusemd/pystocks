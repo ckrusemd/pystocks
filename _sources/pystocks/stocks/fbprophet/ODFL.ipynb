{
 "cells": [
  {
   "cell_type": "markdown",
   "id": "d6b27ab5",
   "metadata": {},
   "source": [
    "# (ODFL): Old Dominion Freight Line Inc. Common Stock"
   ]
  },
  {
   "cell_type": "code",
   "execution_count": null,
   "id": "fc64988e",
   "metadata": {},
   "outputs": [],
   "source": [
    "    from functions import *\n",
    "    collect_tune_and_predict('ODFL',n_ahead = 365)"
   ]
  }
 ],
 "metadata": {},
 "nbformat": 4,
 "nbformat_minor": 5
}
