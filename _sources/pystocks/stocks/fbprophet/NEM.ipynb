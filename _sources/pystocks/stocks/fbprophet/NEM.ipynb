{
 "cells": [
  {
   "cell_type": "markdown",
   "id": "94c1416b",
   "metadata": {},
   "source": [
    "# (NEM): Newmont Corporation"
   ]
  },
  {
   "cell_type": "code",
   "execution_count": null,
   "id": "22f043c5",
   "metadata": {},
   "outputs": [],
   "source": [
    "    from functions import *\n",
    "    collect_tune_and_predict('NEM',n_ahead = 365)"
   ]
  }
 ],
 "metadata": {},
 "nbformat": 4,
 "nbformat_minor": 5
}
