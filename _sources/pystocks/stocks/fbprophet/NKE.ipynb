{
 "cells": [
  {
   "cell_type": "markdown",
   "id": "408186ae",
   "metadata": {},
   "source": [
    "# (NKE): Nike Inc. Common Stock"
   ]
  },
  {
   "cell_type": "code",
   "execution_count": null,
   "id": "1acf1018",
   "metadata": {},
   "outputs": [],
   "source": [
    "    from functions import *\n",
    "    collect_tune_and_predict('NKE',n_ahead = 365)"
   ]
  }
 ],
 "metadata": {},
 "nbformat": 4,
 "nbformat_minor": 5
}
