{
 "cells": [
  {
   "cell_type": "markdown",
   "id": "62d95405",
   "metadata": {},
   "source": [
    "# (COP): ConocoPhillips Common Stock"
   ]
  },
  {
   "cell_type": "code",
   "execution_count": null,
   "id": "b0fe4914",
   "metadata": {},
   "outputs": [],
   "source": [
    "    from functions import *\n",
    "    collect_tune_and_predict('COP',n_ahead = 365)"
   ]
  }
 ],
 "metadata": {},
 "nbformat": 4,
 "nbformat_minor": 5
}
