{
 "cells": [
  {
   "cell_type": "markdown",
   "id": "e9878a81",
   "metadata": {},
   "source": [
    "# (AMX): America Movil S.A.B. de C.V. American Depository Receipt Series L"
   ]
  },
  {
   "cell_type": "code",
   "execution_count": null,
   "id": "040ec692",
   "metadata": {},
   "outputs": [],
   "source": [
    "    from functions import *\n",
    "    collect_tune_and_predict('AMX',n_ahead = 365)"
   ]
  }
 ],
 "metadata": {},
 "nbformat": 4,
 "nbformat_minor": 5
}
