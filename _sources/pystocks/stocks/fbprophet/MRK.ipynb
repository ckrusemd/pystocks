{
 "cells": [
  {
   "cell_type": "markdown",
   "id": "01834d12",
   "metadata": {},
   "source": [
    "# (MRK): Merck & Company Inc. Common Stock (new)"
   ]
  },
  {
   "cell_type": "code",
   "execution_count": null,
   "id": "488c0468",
   "metadata": {},
   "outputs": [],
   "source": [
    "    from functions import *\n",
    "    collect_tune_and_predict('MRK',n_ahead = 365)"
   ]
  }
 ],
 "metadata": {},
 "nbformat": 4,
 "nbformat_minor": 5
}
