{
 "cells": [
  {
   "cell_type": "markdown",
   "id": "6b387e01",
   "metadata": {},
   "source": [
    "# (MRK): Merck & Company Inc. Common Stock (new)"
   ]
  },
  {
   "cell_type": "code",
   "execution_count": null,
   "id": "df268f6c",
   "metadata": {},
   "outputs": [],
   "source": [
    "    from functions import *\n",
    "    collect_tune_and_predict('MRK',n_ahead = 365)"
   ]
  }
 ],
 "metadata": {},
 "nbformat": 4,
 "nbformat_minor": 5
}
