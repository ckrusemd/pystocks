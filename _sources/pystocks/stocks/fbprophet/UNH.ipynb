{
 "cells": [
  {
   "cell_type": "markdown",
   "id": "eff478ae",
   "metadata": {},
   "source": [
    "# (UNH): UnitedHealth Group Incorporated Common Stock (DE)"
   ]
  },
  {
   "cell_type": "code",
   "execution_count": null,
   "id": "f004a413",
   "metadata": {},
   "outputs": [],
   "source": [
    "    from functions import *\n",
    "    collect_tune_and_predict('UNH',n_ahead = 365)"
   ]
  }
 ],
 "metadata": {},
 "nbformat": 4,
 "nbformat_minor": 5
}
