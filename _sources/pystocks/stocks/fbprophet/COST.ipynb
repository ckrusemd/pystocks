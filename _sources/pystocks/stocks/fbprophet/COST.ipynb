{
 "cells": [
  {
   "cell_type": "markdown",
   "id": "3fa9a4ad",
   "metadata": {},
   "source": [
    "# (COST): Costco Wholesale Corporation Common Stock"
   ]
  },
  {
   "cell_type": "code",
   "execution_count": null,
   "id": "d385c169",
   "metadata": {},
   "outputs": [],
   "source": [
    "    from functions import *\n",
    "    collect_tune_and_predict('COST',n_ahead = 365)"
   ]
  }
 ],
 "metadata": {},
 "nbformat": 4,
 "nbformat_minor": 5
}
