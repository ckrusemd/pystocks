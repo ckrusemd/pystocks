{
 "cells": [
  {
   "cell_type": "markdown",
   "metadata": {},
   "source": [
    "# PyStocks\n",
    "\n",
    "Stock Price Analytics of Yahoo! Finance data.\n",
    "\n",
    "\n",
    "Using the [Facebook Prophet](https://facebook.github.io/prophet/) framework right now. Will be looking into [Greykite](https://github.com/linkedin/greykite) as well.\n",
    "\n",
    "You should be able to see the book at:\n",
    "\n",
    "```\n",
    "https://ckrusemd.github.io/pystocks/\n",
    "```"
   ]
  },
  {
   "source": [
    "from datetime import datetime\n",
    "import pytz\n",
    "tz = pytz.timezone('Europe/Copenhagen')\n",
    "print(\"Report extracted on \" + datetime.now(tz).strftime(\"%d/%m/%Y %H:%M:%S\") + \".\")"
   ],
   "cell_type": "code",
   "metadata": {},
   "execution_count": 6,
   "outputs": [
    {
     "output_type": "stream",
     "name": "stdout",
     "text": [
      "Report extracted on 18/05/2021 10:43:08.\n"
     ]
    }
   ]
  },
  {
   "cell_type": "code",
   "execution_count": 1,
   "metadata": {},
   "outputs": [
    {
     "output_type": "stream",
     "name": "stdout",
     "text": [
      "{'commit_hash': '9ca5c4454',\n 'commit_source': 'installation',\n 'default_encoding': 'utf-8',\n 'ipython_path': '/Users/ChristianKruse '\n                 '1/Library/Python/3.8/lib/python/site-packages/IPython',\n 'ipython_version': '7.23.1',\n 'os_name': 'posix',\n 'platform': 'macOS-10.16-x86_64-i386-64bit',\n 'sys_executable': '/usr/local/bin/python',\n 'sys_platform': 'darwin',\n 'sys_version': '3.8.5 (v3.8.5:580fbb018f, Jul 20 2020, 12:11:27) \\n'\n                '[Clang 6.0 (clang-600.0.57)]'}\n"
     ]
    }
   ],
   "source": [
    "import IPython\n",
    "print( IPython.sys_info() )"
   ]
  }
 ],
 "metadata": {
  "kernelspec": {
   "name": "python3",
   "display_name": "Python 3.8.5 64-bit"
  },
  "language_info": {
   "codemirror_mode": {
    "name": "ipython",
    "version": 3
   },
   "file_extension": ".py",
   "mimetype": "text/x-python",
   "name": "python",
   "nbconvert_exporter": "python",
   "pygments_lexer": "ipython3",
   "version": "3.8.5"
  },
  "widgets": {
   "application/vnd.jupyter.widget-state+json": {
    "state": {},
    "version_major": 2,
    "version_minor": 0
   }
  },
  "metadata": {
   "interpreter": {
    "hash": "4cd7ab41f5fca4b9b44701077e38c5ffd31fe66a6cab21e0214b68d958d0e462"
   }
  }
 },
 "nbformat": 4,
 "nbformat_minor": 4
}