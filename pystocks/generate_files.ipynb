{
 "metadata": {
  "language_info": {
   "codemirror_mode": {
    "name": "ipython",
    "version": 3
   },
   "file_extension": ".py",
   "mimetype": "text/x-python",
   "name": "python",
   "nbconvert_exporter": "python",
   "pygments_lexer": "ipython3",
   "version": "3.9.5"
  },
  "orig_nbformat": 2,
  "kernelspec": {
   "name": "python3",
   "display_name": "Python 3",
   "language": "python"
  }
 },
 "nbformat": 4,
 "nbformat_minor": 2,
 "cells": [
  {
   "source": [
    "# Generate Pystocks Notebooks and TOC file"
   ],
   "cell_type": "markdown",
   "metadata": {}
  },
  {
   "cell_type": "code",
   "execution_count": 1,
   "metadata": {},
   "outputs": [],
   "source": [
    "import nbformat as nbf\n",
    "import pickle\n",
    "import os\n",
    "from pandas_datareader.data import DataReader\n",
    "from dateutil.relativedelta import relativedelta\n",
    "import numpy as np\n",
    "import pandas as pd \n",
    "from tqdm import tqdm"
   ]
  },
  {
   "source": [
    "## Settings"
   ],
   "cell_type": "markdown",
   "metadata": {}
  },
  {
   "cell_type": "code",
   "execution_count": 2,
   "metadata": {},
   "outputs": [],
   "source": [
    "top_n_by_market_cap = 50\n",
    "top_n_industries_by_market_cap = 10"
   ]
  },
  {
   "source": [
    "## Import Files"
   ],
   "cell_type": "markdown",
   "metadata": {}
  },
  {
   "source": [
    "### Overall Market Cap"
   ],
   "cell_type": "markdown",
   "metadata": {}
  },
  {
   "cell_type": "code",
   "execution_count": 3,
   "metadata": {},
   "outputs": [],
   "source": [
    "# Export CSV files from https://www.nasdaq.com/market-activity/stocks/screener?exchange=AMEX and place in data folder.\n",
    "\n",
    "try:\n",
    "    df_nasdaq = pd.read_csv('../data/NASDAQ.csv')\n",
    "    df_nyse = pd.read_csv('../data/NYSE.csv')\n",
    "\n",
    "    df_concat = pd.concat([df_nasdaq,df_nyse])[[\"Symbol\",\"Name\",\"Market Cap\",'Sector']].sort_values(by=[\"Market Cap\"],ascending=False).dropna()\n",
    "    df_concat['Market Cap'] = df_concat['Market Cap']/1000000000\n",
    "    df_concat = df_concat[df_concat['Market Cap']>10]\n",
    "    df_concat_marketcap = df_concat[0:(top_n_by_market_cap-1)]\n",
    "    df_concat_marketcap.to_pickle(\"../data/symbols.pkl\")\n",
    "\n",
    "except:\n",
    "    print(\"Nope!\")"
   ]
  },
  {
   "source": [
    "### By industry"
   ],
   "cell_type": "markdown",
   "metadata": {}
  },
  {
   "cell_type": "code",
   "execution_count": 4,
   "metadata": {},
   "outputs": [],
   "source": [
    "# Export CSV files from https://www.nasdaq.com/market-activity/stocks/screener?exchange=AMEX and place in data folder.\n",
    "\n",
    "try:\n",
    "    df_nasdaq = pd.read_csv('../data/NASDAQ.csv')\n",
    "    df_nyse = pd.read_csv('../data/NYSE.csv')\n",
    "\n",
    "    df_concat = pd.concat([df_nasdaq,df_nyse])[[\"Symbol\",\"Name\",\"Market Cap\",'Sector']].sort_values(by=[\"Market Cap\"],ascending=False).dropna()\n",
    "    df_concat['Market Cap'] = df_concat['Market Cap']/1000000000\n",
    "    df_concat = df_concat[df_concat['Market Cap']>10]\n",
    "    #df_concat = df_concat[0:(top_n_by_market_cap-1)]\n",
    "    df_concat_industry = df_concat.sort_values(['Sector','Market Cap'],ascending=False).groupby(['Sector']).head(top_n_industries_by_market_cap)\n",
    "    df_concat_industry.to_pickle(\"../data/symbols_industry.pkl\")\n",
    "\n",
    "except:\n",
    "    print(\"Nope!\")"
   ]
  },
  {
   "source": [
    "### Unique dataframe"
   ],
   "cell_type": "markdown",
   "metadata": {}
  },
  {
   "cell_type": "code",
   "execution_count": 5,
   "metadata": {},
   "outputs": [],
   "source": [
    "df_concat = pd.concat([df_concat_marketcap,df_concat_industry]).drop_duplicates()"
   ]
  },
  {
   "source": [
    "## Generate notebooks"
   ],
   "cell_type": "markdown",
   "metadata": {}
  },
  {
   "cell_type": "code",
   "execution_count": 6,
   "metadata": {},
   "outputs": [],
   "source": [
    "def generate_notebook(symbol,name):\n",
    "    nb = nbf.v4.new_notebook()\n",
    "\n",
    "    # Title\n",
    "    text = \"\"\"# ({ticker}): {name}\"\"\".format(ticker = symbol, name = name)\n",
    "    # Code\n",
    "    code = \"\"\"\\\n",
    "    from functions import *\n",
    "    collect_tune_and_predict('{ticker}',n_ahead = 365)\"\"\".format(ticker = symbol)\n",
    "\n",
    "    # Cells\n",
    "    nb['cells'] = [nbf.v4.new_markdown_cell(text),\n",
    "                nbf.v4.new_code_cell(code)]\n",
    "\n",
    "    fname = 'stocks/fbprophet/{ticker}.ipynb'.format(ticker = symbol)\n",
    "\n",
    "    with open(fname, 'w') as f:\n",
    "        nbf.write(nb, f)\n",
    "    return True"
   ]
  },
  {
   "cell_type": "code",
   "execution_count": 7,
   "metadata": {},
   "outputs": [
    {
     "output_type": "stream",
     "name": "stderr",
     "text": [
      "124it [00:00, 737.76it/s]\n"
     ]
    }
   ],
   "source": [
    "for tuple_ in tqdm( pd.concat([df_concat_marketcap,df_concat_industry]).drop_duplicates().itertuples() ):\n",
    "    symbol = tuple_.Symbol\n",
    "    name = tuple_.Name\n",
    "    generate_notebook(symbol = symbol, name = name)"
   ]
  },
  {
   "source": [
    "# Generate YAML list"
   ],
   "cell_type": "markdown",
   "metadata": {}
  },
  {
   "cell_type": "code",
   "execution_count": 8,
   "metadata": {},
   "outputs": [],
   "source": [
    "sectors = list(sorted(set(df_concat['Sector'])))"
   ]
  },
  {
   "cell_type": "code",
   "execution_count": 9,
   "metadata": {},
   "outputs": [],
   "source": [
    "text = \"- file: pystocks/intro.ipynb\\n\"\n",
    "for sector in sectors:\n",
    "    text = text + \"- part: \" + sector + \"\\n  chapters:\\n\"\n",
    "    for company in df_concat.query(\"Sector=='\" + sector + \"'\").itertuples():\n",
    "        symbol = company.Symbol\n",
    "        text = text + \"  - file: pystocks/stocks/fbprophet/{ticker}.ipynb\\n\".format(ticker=symbol)"
   ]
  },
  {
   "cell_type": "code",
   "execution_count": 10,
   "metadata": {},
   "outputs": [],
   "source": [
    "with open(\"../_toc.yml\", 'r+') as f:\n",
    "    f.seek(0)\n",
    "    f.write(text)\n",
    "    f.truncate()"
   ]
  }
 ]
}