{
 "cells": [
  {
   "cell_type": "markdown",
   "id": "e44bab87",
   "metadata": {},
   "source": [
    "# (WFC): Wells Fargo & Company Common Stock"
   ]
  },
  {
   "cell_type": "code",
   "execution_count": null,
   "id": "45d863da",
   "metadata": {},
   "outputs": [],
   "source": [
    "    from functions import *\n",
    "    collect_tune_and_predict('WFC',n_ahead = 365)"
   ]
  }
 ],
 "metadata": {},
 "nbformat": 4,
 "nbformat_minor": 5
}
