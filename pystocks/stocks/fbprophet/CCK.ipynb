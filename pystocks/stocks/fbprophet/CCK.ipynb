{
 "cells": [
  {
   "cell_type": "markdown",
   "id": "e88a4015",
   "metadata": {},
   "source": [
    "# (CCK): Crown Holdings Inc."
   ]
  },
  {
   "cell_type": "code",
   "execution_count": null,
   "id": "c2f7c40a",
   "metadata": {},
   "outputs": [],
   "source": [
    "    from functions import *\n",
    "    collect_tune_and_predict('CCK',n_ahead = 365)"
   ]
  }
 ],
 "metadata": {},
 "nbformat": 4,
 "nbformat_minor": 5
}
