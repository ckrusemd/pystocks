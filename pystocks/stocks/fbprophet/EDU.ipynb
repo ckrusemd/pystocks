{
 "cells": [
  {
   "cell_type": "markdown",
   "id": "087310c6",
   "metadata": {},
   "source": [
    "# (EDU): New Oriental Education & Technology Group Inc. Sponsored ADR representing 1 Ordinary Share (Cayman Islands)"
   ]
  },
  {
   "cell_type": "code",
   "execution_count": null,
   "id": "debb73be",
   "metadata": {},
   "outputs": [],
   "source": [
    "    from functions import *\n",
    "    collect_tune_and_predict('EDU',n_ahead = 365)"
   ]
  }
 ],
 "metadata": {},
 "nbformat": 4,
 "nbformat_minor": 5
}
