{
 "cells": [
  {
   "cell_type": "markdown",
   "id": "d40d6713",
   "metadata": {},
   "source": [
    "# (PAYX): Paychex Inc. Common Stock"
   ]
  },
  {
   "cell_type": "code",
   "execution_count": null,
   "id": "c649b983",
   "metadata": {},
   "outputs": [],
   "source": [
    "    from functions import *\n",
    "    collect_tune_and_predict('PAYX',n_ahead = 365)"
   ]
  }
 ],
 "metadata": {},
 "nbformat": 4,
 "nbformat_minor": 5
}
