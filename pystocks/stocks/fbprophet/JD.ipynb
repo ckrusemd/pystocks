{
 "cells": [
  {
   "cell_type": "markdown",
   "id": "b27508ad",
   "metadata": {},
   "source": [
    "# (JD): JD.com Inc. American Depositary Shares"
   ]
  },
  {
   "cell_type": "code",
   "execution_count": null,
   "id": "076915db",
   "metadata": {},
   "outputs": [],
   "source": [
    "    from functions import *\n",
    "    collect_tune_and_predict('JD',n_ahead = 365)"
   ]
  }
 ],
 "metadata": {},
 "nbformat": 4,
 "nbformat_minor": 5
}
