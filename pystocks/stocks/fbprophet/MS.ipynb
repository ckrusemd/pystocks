{
 "cells": [
  {
   "cell_type": "markdown",
   "id": "1bd6c488",
   "metadata": {},
   "source": [
    "# (MS): Morgan Stanley Common Stock"
   ]
  },
  {
   "cell_type": "code",
   "execution_count": null,
   "id": "9486d268",
   "metadata": {},
   "outputs": [],
   "source": [
    "    from functions import *\n",
    "    collect_tune_and_predict('MS',n_ahead = 365)"
   ]
  }
 ],
 "metadata": {},
 "nbformat": 4,
 "nbformat_minor": 5
}
