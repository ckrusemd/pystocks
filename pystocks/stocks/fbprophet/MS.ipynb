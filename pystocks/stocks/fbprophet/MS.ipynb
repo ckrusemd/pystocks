{
 "cells": [
  {
   "cell_type": "markdown",
   "id": "1c851105",
   "metadata": {},
   "source": [
    "# (MS): Morgan Stanley Common Stock"
   ]
  },
  {
   "cell_type": "code",
   "execution_count": null,
   "id": "d5d9a325",
   "metadata": {},
   "outputs": [],
   "source": [
    "    from functions import *\n",
    "    collect_tune_and_predict('MS',n_ahead = 365)"
   ]
  }
 ],
 "metadata": {},
 "nbformat": 4,
 "nbformat_minor": 5
}
