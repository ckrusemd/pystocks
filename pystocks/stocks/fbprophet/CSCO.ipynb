{
 "cells": [
  {
   "cell_type": "markdown",
   "id": "a0dece90",
   "metadata": {},
   "source": [
    "# (CSCO): Cisco Systems Inc. Common Stock (DE)"
   ]
  },
  {
   "cell_type": "code",
   "execution_count": null,
   "id": "5e5eac22",
   "metadata": {},
   "outputs": [],
   "source": [
    "    from functions import *\n",
    "    collect_tune_and_predict('CSCO',n_ahead = 365)"
   ]
  }
 ],
 "metadata": {},
 "nbformat": 4,
 "nbformat_minor": 5
}
