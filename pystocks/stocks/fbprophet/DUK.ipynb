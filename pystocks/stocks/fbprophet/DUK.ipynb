{
 "cells": [
  {
   "cell_type": "markdown",
   "id": "9bb32927",
   "metadata": {},
   "source": [
    "# (DUK): Duke Energy Corporation (Holding Company) Common Stock"
   ]
  },
  {
   "cell_type": "code",
   "execution_count": null,
   "id": "bb43ce28",
   "metadata": {},
   "outputs": [],
   "source": [
    "    from functions import *\n",
    "    collect_tune_and_predict('DUK',n_ahead = 365)"
   ]
  }
 ],
 "metadata": {},
 "nbformat": 4,
 "nbformat_minor": 5
}
