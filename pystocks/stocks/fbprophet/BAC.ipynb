{
 "cells": [
  {
   "cell_type": "markdown",
   "id": "6e26f230",
   "metadata": {},
   "source": [
    "# (BAC): Bank of America Corporation Common Stock"
   ]
  },
  {
   "cell_type": "code",
   "execution_count": null,
   "id": "bb809aea",
   "metadata": {},
   "outputs": [],
   "source": [
    "    from functions import *\n",
    "    collect_tune_and_predict('BAC',n_ahead = 365)"
   ]
  }
 ],
 "metadata": {},
 "nbformat": 4,
 "nbformat_minor": 5
}
