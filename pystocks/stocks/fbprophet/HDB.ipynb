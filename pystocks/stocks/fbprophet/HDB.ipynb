{
 "cells": [
  {
   "cell_type": "markdown",
   "id": "a35a0c0c",
   "metadata": {},
   "source": [
    "# (HDB): HDFC Bank Limited Common Stock"
   ]
  },
  {
   "cell_type": "code",
   "execution_count": null,
   "id": "623f52e4",
   "metadata": {},
   "outputs": [],
   "source": [
    "    from functions import *\n",
    "    collect_tune_and_predict('HDB',n_ahead = 365)"
   ]
  }
 ],
 "metadata": {},
 "nbformat": 4,
 "nbformat_minor": 5
}
