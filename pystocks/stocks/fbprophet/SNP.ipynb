{
 "cells": [
  {
   "cell_type": "markdown",
   "id": "cae2224a",
   "metadata": {},
   "source": [
    "# (SNP): China Petroleum & Chemical Corporation Common Stock"
   ]
  },
  {
   "cell_type": "code",
   "execution_count": null,
   "id": "edb43546",
   "metadata": {},
   "outputs": [],
   "source": [
    "    from functions import *\n",
    "    collect_tune_and_predict('SNP',n_ahead = 365)"
   ]
  }
 ],
 "metadata": {},
 "nbformat": 4,
 "nbformat_minor": 5
}
