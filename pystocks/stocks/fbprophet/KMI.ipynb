{
 "cells": [
  {
   "cell_type": "markdown",
   "id": "6c8560e5",
   "metadata": {},
   "source": [
    "# (KMI): Kinder Morgan Inc. Common Stock"
   ]
  },
  {
   "cell_type": "code",
   "execution_count": null,
   "id": "48754676",
   "metadata": {},
   "outputs": [],
   "source": [
    "    from functions import *\n",
    "    collect_tune_and_predict('KMI',n_ahead = 365)"
   ]
  }
 ],
 "metadata": {},
 "nbformat": 4,
 "nbformat_minor": 5
}
