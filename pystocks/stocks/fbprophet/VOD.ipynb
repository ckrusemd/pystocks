{
 "cells": [
  {
   "cell_type": "markdown",
   "id": "a155213c",
   "metadata": {},
   "source": [
    "# (VOD): Vodafone Group Plc American Depositary Shares"
   ]
  },
  {
   "cell_type": "code",
   "execution_count": null,
   "id": "24cf1f4b",
   "metadata": {},
   "outputs": [],
   "source": [
    "    from functions import *\n",
    "    collect_tune_and_predict('VOD',n_ahead = 365)"
   ]
  }
 ],
 "metadata": {},
 "nbformat": 4,
 "nbformat_minor": 5
}
