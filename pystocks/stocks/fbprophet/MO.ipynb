{
 "cells": [
  {
   "cell_type": "markdown",
   "id": "eedc3bbe",
   "metadata": {},
   "source": [
    "# (MO): Altria Group Inc."
   ]
  },
  {
   "cell_type": "code",
   "execution_count": null,
   "id": "26f068b4",
   "metadata": {},
   "outputs": [],
   "source": [
    "    from functions import *\n",
    "    collect_tune_and_predict('MO',n_ahead = 365)"
   ]
  }
 ],
 "metadata": {},
 "nbformat": 4,
 "nbformat_minor": 5
}
