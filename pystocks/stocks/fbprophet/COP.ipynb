{
 "cells": [
  {
   "cell_type": "markdown",
   "id": "7e25c8d1",
   "metadata": {},
   "source": [
    "# (COP): ConocoPhillips Common Stock"
   ]
  },
  {
   "cell_type": "code",
   "execution_count": null,
   "id": "36dc63ef",
   "metadata": {},
   "outputs": [],
   "source": [
    "    from functions import *\n",
    "    collect_tune_and_predict('COP',n_ahead = 365)"
   ]
  }
 ],
 "metadata": {},
 "nbformat": 4,
 "nbformat_minor": 5
}
