{
 "cells": [
  {
   "cell_type": "markdown",
   "id": "6dc1ca23",
   "metadata": {},
   "source": [
    "# (DE): Deere & Company Common Stock"
   ]
  },
  {
   "cell_type": "code",
   "execution_count": null,
   "id": "c92b5cae",
   "metadata": {},
   "outputs": [],
   "source": [
    "    from functions import *\n",
    "    collect_tune_and_predict('DE',n_ahead = 365)"
   ]
  }
 ],
 "metadata": {},
 "nbformat": 4,
 "nbformat_minor": 5
}
