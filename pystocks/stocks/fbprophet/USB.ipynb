{
 "cells": [
  {
   "cell_type": "markdown",
   "id": "f36d24cc",
   "metadata": {},
   "source": [
    "# (USB): U.S. Bancorp Common Stock"
   ]
  },
  {
   "cell_type": "code",
   "execution_count": null,
   "id": "b7bfd880",
   "metadata": {},
   "outputs": [],
   "source": [
    "    from functions import *\n",
    "    collect_tune_and_predict('USB',n_ahead = 365)"
   ]
  }
 ],
 "metadata": {},
 "nbformat": 4,
 "nbformat_minor": 5
}
