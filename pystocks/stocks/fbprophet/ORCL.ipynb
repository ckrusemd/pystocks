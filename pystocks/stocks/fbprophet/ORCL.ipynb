{
 "cells": [
  {
   "cell_type": "markdown",
   "id": "8eca0580",
   "metadata": {},
   "source": [
    "# (ORCL): Oracle Corporation Common Stock"
   ]
  },
  {
   "cell_type": "code",
   "execution_count": null,
   "id": "78189c24",
   "metadata": {},
   "outputs": [],
   "source": [
    "    from functions import *\n",
    "    collect_tune_and_predict('ORCL',n_ahead = 365)"
   ]
  }
 ],
 "metadata": {},
 "nbformat": 4,
 "nbformat_minor": 5
}
