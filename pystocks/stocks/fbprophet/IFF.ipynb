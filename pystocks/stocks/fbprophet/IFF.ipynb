{
 "cells": [
  {
   "cell_type": "markdown",
   "id": "cb0a4ac5",
   "metadata": {},
   "source": [
    "# (IFF): Internationa Flavors & Fragrances Inc. Common Stock"
   ]
  },
  {
   "cell_type": "code",
   "execution_count": null,
   "id": "3ff2b90f",
   "metadata": {},
   "outputs": [],
   "source": [
    "    from functions import *\n",
    "    collect_tune_and_predict('IFF',n_ahead = 365)"
   ]
  }
 ],
 "metadata": {},
 "nbformat": 4,
 "nbformat_minor": 5
}
