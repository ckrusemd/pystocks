{
 "cells": [
  {
   "cell_type": "markdown",
   "id": "cd67ff2c",
   "metadata": {},
   "source": [
    "# (NEE): NextEra Energy Inc. Common Stock"
   ]
  },
  {
   "cell_type": "code",
   "execution_count": null,
   "id": "fe135d96",
   "metadata": {},
   "outputs": [],
   "source": [
    "    from functions import *\n",
    "    collect_tune_and_predict('NEE',n_ahead = 365)"
   ]
  }
 ],
 "metadata": {},
 "nbformat": 4,
 "nbformat_minor": 5
}
