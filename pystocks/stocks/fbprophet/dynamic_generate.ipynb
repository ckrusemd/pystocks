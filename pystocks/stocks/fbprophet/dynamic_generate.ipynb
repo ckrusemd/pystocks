{
 "metadata": {
  "language_info": {
   "codemirror_mode": {
    "name": "ipython",
    "version": 3
   },
   "file_extension": ".py",
   "mimetype": "text/x-python",
   "name": "python",
   "nbconvert_exporter": "python",
   "pygments_lexer": "ipython3",
   "version": "3.9.5"
  },
  "orig_nbformat": 2,
  "kernelspec": {
   "name": "python3",
   "display_name": "Python 3",
   "language": "python"
  }
 },
 "nbformat": 4,
 "nbformat_minor": 2,
 "cells": [
  {
   "source": [
    "# Generate symbols"
   ],
   "cell_type": "markdown",
   "metadata": {}
  },
  {
   "cell_type": "code",
   "execution_count": 8,
   "metadata": {},
   "outputs": [],
   "source": [
    "import nbformat as nbf\n",
    "import pickle\n",
    "import os\n",
    "from functions import *\n",
    "from pandas_datareader.data import DataReader\n",
    "from dateutil.relativedelta import relativedelta\n",
    "import numpy as np\n",
    "import pandas as pd \n",
    "from tqdm import tqdm"
   ]
  },
  {
   "cell_type": "code",
   "execution_count": 9,
   "metadata": {},
   "outputs": [],
   "source": [
    "top_n_by_market_cap = 10"
   ]
  },
  {
   "cell_type": "code",
   "execution_count": 10,
   "metadata": {},
   "outputs": [],
   "source": [
    "#https://www.nasdaq.com/market-activity/stocks/screener?exchange=AMEX\n",
    "\n",
    "try:\n",
    "    df_nasdaq = pd.read_csv('../../../data/NASDAQ.csv')\n",
    "    df_nyse = pd.read_csv('../../../data/NYSE.csv')\n",
    "\n",
    "    df_concat = pd.concat([df_nasdaq,df_nyse])[[\"Symbol\",\"Name\",\"Market Cap\"]].sort_values(by=[\"Market Cap\"],ascending=False).dropna()\n",
    "    df_concat['Market Cap'] = df_concat['Market Cap']/1000000000\n",
    "    df_concat = df_concat[df_concat['Market Cap']>10]\n",
    "    df_concat = df_concat[0:(top_n_by_market_cap-1)]\n",
    "    #df_concat.to_pickle(\"../../data/symbols.pkl\")\n",
    "except E as Exception:\n",
    "    print(E)"
   ]
  },
  {
   "cell_type": "code",
   "execution_count": 11,
   "metadata": {},
   "outputs": [
    {
     "output_type": "execute_result",
     "data": {
      "text/plain": [
       "     Symbol                                               Name   Market Cap\n",
       "8      AAPL                            Apple Inc. Common Stock  2160.405937\n",
       "2539   MSFT                 Microsoft Corporation Common Stock  1880.483534\n",
       "245    AMZN                       Amazon.com Inc. Common Stock  1625.470704\n",
       "1654   GOOG                Alphabet Inc. Class C Capital Stock  1616.140197\n",
       "1655  GOOGL                 Alphabet Inc. Class A Common Stock  1579.475536\n",
       "1325     FB                 Facebook Inc. Class A Common Stock   932.102355\n",
       "2814    TSM    Taiwan Semiconductor Manufacturing Company Ltd.   608.637879\n",
       "3801   TSLA                            Tesla Inc. Common Stock   602.293463\n",
       "307    BABA  Alibaba Group Holding Limited American Deposit...   580.366500"
      ],
      "text/html": "<div>\n<style scoped>\n    .dataframe tbody tr th:only-of-type {\n        vertical-align: middle;\n    }\n\n    .dataframe tbody tr th {\n        vertical-align: top;\n    }\n\n    .dataframe thead th {\n        text-align: right;\n    }\n</style>\n<table border=\"1\" class=\"dataframe\">\n  <thead>\n    <tr style=\"text-align: right;\">\n      <th></th>\n      <th>Symbol</th>\n      <th>Name</th>\n      <th>Market Cap</th>\n    </tr>\n  </thead>\n  <tbody>\n    <tr>\n      <th>8</th>\n      <td>AAPL</td>\n      <td>Apple Inc. Common Stock</td>\n      <td>2160.405937</td>\n    </tr>\n    <tr>\n      <th>2539</th>\n      <td>MSFT</td>\n      <td>Microsoft Corporation Common Stock</td>\n      <td>1880.483534</td>\n    </tr>\n    <tr>\n      <th>245</th>\n      <td>AMZN</td>\n      <td>Amazon.com Inc. Common Stock</td>\n      <td>1625.470704</td>\n    </tr>\n    <tr>\n      <th>1654</th>\n      <td>GOOG</td>\n      <td>Alphabet Inc. Class C Capital Stock</td>\n      <td>1616.140197</td>\n    </tr>\n    <tr>\n      <th>1655</th>\n      <td>GOOGL</td>\n      <td>Alphabet Inc. Class A Common Stock</td>\n      <td>1579.475536</td>\n    </tr>\n    <tr>\n      <th>1325</th>\n      <td>FB</td>\n      <td>Facebook Inc. Class A Common Stock</td>\n      <td>932.102355</td>\n    </tr>\n    <tr>\n      <th>2814</th>\n      <td>TSM</td>\n      <td>Taiwan Semiconductor Manufacturing Company Ltd.</td>\n      <td>608.637879</td>\n    </tr>\n    <tr>\n      <th>3801</th>\n      <td>TSLA</td>\n      <td>Tesla Inc. Common Stock</td>\n      <td>602.293463</td>\n    </tr>\n    <tr>\n      <th>307</th>\n      <td>BABA</td>\n      <td>Alibaba Group Holding Limited American Deposit...</td>\n      <td>580.366500</td>\n    </tr>\n  </tbody>\n</table>\n</div>"
     },
     "metadata": {},
     "execution_count": 11
    }
   ],
   "source": [
    "df_concat"
   ]
  },
  {
   "source": [
    "# Generate notebook function"
   ],
   "cell_type": "markdown",
   "metadata": {}
  },
  {
   "cell_type": "code",
   "execution_count": 12,
   "metadata": {},
   "outputs": [],
   "source": [
    "def generate_notebook(symbol,name):\n",
    "    nb = nbf.v4.new_notebook()\n",
    "\n",
    "    # Title\n",
    "    text = \"\"\"# ({ticker}): {name}\"\"\".format(ticker = symbol, name = name)\n",
    "    # Code\n",
    "    code = \"\"\"\\\n",
    "    from functions import *\n",
    "    collect_tune_and_predict('{ticker}',n_ahead = 365)\"\"\".format(ticker = symbol)\n",
    "\n",
    "    # Cells\n",
    "    nb['cells'] = [nbf.v4.new_markdown_cell(text),\n",
    "                nbf.v4.new_code_cell(code)]\n",
    "\n",
    "    fname = '{ticker}.ipynb'.format(ticker = symbol)\n",
    "\n",
    "    with open(fname, 'w') as f:\n",
    "        nbf.write(nb, f)\n",
    "    return True"
   ]
  },
  {
   "cell_type": "code",
   "execution_count": 13,
   "metadata": {},
   "outputs": [
    {
     "output_type": "stream",
     "name": "stderr",
     "text": [
      "9it [00:00, 105.00it/s]\n"
     ]
    }
   ],
   "source": [
    "for tuple_ in tqdm( df_concat.itertuples() ):\n",
    "    symbol = tuple_.Symbol\n",
    "    name = tuple_.Name\n",
    "    generate_notebook(symbol = symbol, name = name)"
   ]
  },
  {
   "source": [
    "# Generate YAML list"
   ],
   "cell_type": "markdown",
   "metadata": {}
  },
  {
   "cell_type": "code",
   "execution_count": 14,
   "metadata": {},
   "outputs": [
    {
     "output_type": "stream",
     "name": "stdout",
     "text": [
      "- part: FB Prophet\n  chapters:\n  - file: pystocks/stocks/fbprophet/AAPL.ipynb\n  - file: pystocks/stocks/fbprophet/MSFT.ipynb\n  - file: pystocks/stocks/fbprophet/AMZN.ipynb\n  - file: pystocks/stocks/fbprophet/GOOG.ipynb\n  - file: pystocks/stocks/fbprophet/GOOGL.ipynb\n  - file: pystocks/stocks/fbprophet/FB.ipynb\n  - file: pystocks/stocks/fbprophet/TSM.ipynb\n  - file: pystocks/stocks/fbprophet/TSLA.ipynb\n  - file: pystocks/stocks/fbprophet/BABA.ipynb\n"
     ]
    }
   ],
   "source": [
    "print(\"- part: FB Prophet\")\n",
    "print(\"  chapters:\")\n",
    "for tuple_ in df_concat.itertuples():\n",
    "    symbol = tuple_.Symbol\n",
    "    print(\"  - file: pystocks/stocks/fbprophet/{ticker}.ipynb\".format(ticker=symbol))"
   ]
  },
  {
   "cell_type": "code",
   "execution_count": null,
   "metadata": {},
   "outputs": [],
   "source": []
  }
 ]
}