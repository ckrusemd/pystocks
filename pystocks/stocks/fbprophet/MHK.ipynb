{
 "cells": [
  {
   "cell_type": "markdown",
   "id": "1e516fa2",
   "metadata": {},
   "source": [
    "# (MHK): Mohawk Industries Inc. Common Stock"
   ]
  },
  {
   "cell_type": "code",
   "execution_count": null,
   "id": "9255a512",
   "metadata": {},
   "outputs": [],
   "source": [
    "    from functions import *\n",
    "    collect_tune_and_predict('MHK',n_ahead = 365)"
   ]
  }
 ],
 "metadata": {},
 "nbformat": 4,
 "nbformat_minor": 5
}
