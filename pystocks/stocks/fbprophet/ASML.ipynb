{
 "cells": [
  {
   "cell_type": "markdown",
   "id": "e32ffb24",
   "metadata": {},
   "source": [
    "# (ASML): ASML Holding N.V. New York Registry Shares"
   ]
  },
  {
   "cell_type": "code",
   "execution_count": null,
   "id": "cacc2e64",
   "metadata": {},
   "outputs": [],
   "source": [
    "    from functions import *\n",
    "    collect_tune_and_predict('ASML',n_ahead = 365)"
   ]
  }
 ],
 "metadata": {},
 "nbformat": 4,
 "nbformat_minor": 5
}
