{
 "cells": [
  {
   "cell_type": "markdown",
   "id": "547366c2",
   "metadata": {},
   "source": [
    "# (ZTO): ZTO Express (Cayman) Inc. American Depositary Shares each representing one Class A ordinary share."
   ]
  },
  {
   "cell_type": "code",
   "execution_count": null,
   "id": "16d8c745",
   "metadata": {},
   "outputs": [],
   "source": [
    "    from functions import *\n",
    "    collect_tune_and_predict('ZTO',n_ahead = 365)"
   ]
  }
 ],
 "metadata": {},
 "nbformat": 4,
 "nbformat_minor": 5
}
