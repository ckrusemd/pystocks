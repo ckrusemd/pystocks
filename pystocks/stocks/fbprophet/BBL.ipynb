{
 "cells": [
  {
   "cell_type": "markdown",
   "id": "ff2cb34a",
   "metadata": {},
   "source": [
    "# (BBL): BHP Group PlcSponsored ADR"
   ]
  },
  {
   "cell_type": "code",
   "execution_count": null,
   "id": "be1c74f2",
   "metadata": {},
   "outputs": [],
   "source": [
    "    from functions import *\n",
    "    collect_tune_and_predict('BBL',n_ahead = 365)"
   ]
  }
 ],
 "metadata": {},
 "nbformat": 4,
 "nbformat_minor": 5
}
