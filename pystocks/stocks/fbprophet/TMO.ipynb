{
 "cells": [
  {
   "cell_type": "markdown",
   "id": "e020b96e",
   "metadata": {},
   "source": [
    "# (TMO): Thermo Fisher Scientific Inc Common Stock"
   ]
  },
  {
   "cell_type": "code",
   "execution_count": null,
   "id": "73141185",
   "metadata": {},
   "outputs": [],
   "source": [
    "    from functions import *\n",
    "    collect_tune_and_predict('TMO',n_ahead = 365)"
   ]
  }
 ],
 "metadata": {},
 "nbformat": 4,
 "nbformat_minor": 5
}
