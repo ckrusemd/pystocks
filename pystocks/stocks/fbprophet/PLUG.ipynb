{
 "cells": [
  {
   "cell_type": "markdown",
   "id": "6aa0b5c3",
   "metadata": {},
   "source": [
    "# (PLUG): Plug Power Inc. Common Stock"
   ]
  },
  {
   "cell_type": "code",
   "execution_count": null,
   "id": "39fdc377",
   "metadata": {},
   "outputs": [],
   "source": [
    "    from functions import *\n",
    "    collect_tune_and_predict('PLUG',n_ahead = 365)"
   ]
  }
 ],
 "metadata": {},
 "nbformat": 4,
 "nbformat_minor": 5
}
