{
 "cells": [
  {
   "cell_type": "markdown",
   "id": "5823f99d",
   "metadata": {},
   "source": [
    "# (TOT): Total SE"
   ]
  },
  {
   "cell_type": "code",
   "execution_count": null,
   "id": "22c8d8e4",
   "metadata": {},
   "outputs": [],
   "source": [
    "    from functions import *\n",
    "    collect_tune_and_predict('TOT',n_ahead = 365)"
   ]
  }
 ],
 "metadata": {},
 "nbformat": 4,
 "nbformat_minor": 5
}
