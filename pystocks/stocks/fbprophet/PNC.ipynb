{
 "cells": [
  {
   "cell_type": "markdown",
   "id": "cfadf595",
   "metadata": {},
   "source": [
    "# (PNC): PNC Financial Services Group Inc. (The) Common Stock"
   ]
  },
  {
   "cell_type": "code",
   "execution_count": null,
   "id": "21e91f99",
   "metadata": {},
   "outputs": [],
   "source": [
    "    from functions import *\n",
    "    collect_tune_and_predict('PNC',n_ahead = 365)"
   ]
  }
 ],
 "metadata": {},
 "nbformat": 4,
 "nbformat_minor": 5
}
