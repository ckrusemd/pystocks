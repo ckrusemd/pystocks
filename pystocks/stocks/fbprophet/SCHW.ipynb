{
 "cells": [
  {
   "cell_type": "markdown",
   "id": "e8915cc1",
   "metadata": {},
   "source": [
    "# (SCHW): Charles Schwab Corporation (The) Common Stock"
   ]
  },
  {
   "cell_type": "code",
   "execution_count": null,
   "id": "76bb283e",
   "metadata": {},
   "outputs": [],
   "source": [
    "    from functions import *\n",
    "    collect_tune_and_predict('SCHW',n_ahead = 365)"
   ]
  }
 ],
 "metadata": {},
 "nbformat": 4,
 "nbformat_minor": 5
}
