{
 "cells": [
  {
   "cell_type": "markdown",
   "id": "dc4742de",
   "metadata": {},
   "source": [
    "# (ABBV): AbbVie Inc. Common Stock"
   ]
  },
  {
   "cell_type": "code",
   "execution_count": null,
   "id": "dcbbcb6f",
   "metadata": {},
   "outputs": [],
   "source": [
    "    from functions import *\n",
    "    collect_tune_and_predict('ABBV',n_ahead = 365)"
   ]
  }
 ],
 "metadata": {},
 "nbformat": 4,
 "nbformat_minor": 5
}
