{
 "cells": [
  {
   "cell_type": "markdown",
   "id": "2a246bd3",
   "metadata": {},
   "source": [
    "# (SLB): Schlumberger N.V. Common Stock"
   ]
  },
  {
   "cell_type": "code",
   "execution_count": null,
   "id": "41bba68c",
   "metadata": {},
   "outputs": [],
   "source": [
    "    from functions import *\n",
    "    collect_tune_and_predict('SLB',n_ahead = 365)"
   ]
  }
 ],
 "metadata": {},
 "nbformat": 4,
 "nbformat_minor": 5
}
