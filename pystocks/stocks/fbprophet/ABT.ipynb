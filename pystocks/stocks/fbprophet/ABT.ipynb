{
 "cells": [
  {
   "cell_type": "markdown",
   "id": "3413cc09",
   "metadata": {},
   "source": [
    "# (ABT): Abbott Laboratories Common Stock"
   ]
  },
  {
   "cell_type": "code",
   "execution_count": null,
   "id": "fc8230f7",
   "metadata": {},
   "outputs": [],
   "source": [
    "    from functions import *\n",
    "    collect_tune_and_predict('ABT',n_ahead = 365)"
   ]
  }
 ],
 "metadata": {},
 "nbformat": 4,
 "nbformat_minor": 5
}
