{
 "cells": [
  {
   "cell_type": "markdown",
   "id": "0e2d91fa",
   "metadata": {},
   "source": [
    "# (UL): Unilever PLC Common Stock"
   ]
  },
  {
   "cell_type": "code",
   "execution_count": null,
   "id": "11152973",
   "metadata": {},
   "outputs": [],
   "source": [
    "    from functions import *\n",
    "    collect_tune_and_predict('UL',n_ahead = 365)"
   ]
  }
 ],
 "metadata": {},
 "nbformat": 4,
 "nbformat_minor": 5
}
