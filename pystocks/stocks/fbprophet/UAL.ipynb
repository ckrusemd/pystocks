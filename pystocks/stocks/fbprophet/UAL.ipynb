{
 "cells": [
  {
   "cell_type": "markdown",
   "id": "a50c60b9",
   "metadata": {},
   "source": [
    "# (UAL): United Airlines Holdings Inc. Common Stock"
   ]
  },
  {
   "cell_type": "code",
   "execution_count": null,
   "id": "76e26502",
   "metadata": {},
   "outputs": [],
   "source": [
    "    from functions import *\n",
    "    collect_tune_and_predict('UAL',n_ahead = 365)"
   ]
  }
 ],
 "metadata": {},
 "nbformat": 4,
 "nbformat_minor": 5
}
