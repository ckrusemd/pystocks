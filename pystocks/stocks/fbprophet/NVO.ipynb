{
 "cells": [
  {
   "cell_type": "markdown",
   "id": "c04dbd60",
   "metadata": {},
   "source": [
    "# (NVO): Novo Nordisk A/S Common Stock"
   ]
  },
  {
   "cell_type": "code",
   "execution_count": null,
   "id": "c2c21eb6",
   "metadata": {},
   "outputs": [],
   "source": [
    "    from functions import *\n",
    "    collect_tune_and_predict('NVO',n_ahead = 365)"
   ]
  }
 ],
 "metadata": {},
 "nbformat": 4,
 "nbformat_minor": 5
}
