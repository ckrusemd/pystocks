{
 "cells": [
  {
   "cell_type": "markdown",
   "id": "d1eb33d1",
   "metadata": {},
   "source": [
    "# (LUV): Southwest Airlines Company Common Stock"
   ]
  },
  {
   "cell_type": "code",
   "execution_count": null,
   "id": "2893a4b9",
   "metadata": {},
   "outputs": [],
   "source": [
    "    from functions import *\n",
    "    collect_tune_and_predict('LUV',n_ahead = 365)"
   ]
  }
 ],
 "metadata": {},
 "nbformat": 4,
 "nbformat_minor": 5
}
