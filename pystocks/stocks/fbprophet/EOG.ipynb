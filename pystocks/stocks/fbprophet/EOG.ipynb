{
 "cells": [
  {
   "cell_type": "markdown",
   "id": "4ed011f1",
   "metadata": {},
   "source": [
    "# (EOG): EOG Resources Inc. Common Stock"
   ]
  },
  {
   "cell_type": "code",
   "execution_count": null,
   "id": "ce749302",
   "metadata": {},
   "outputs": [],
   "source": [
    "    from functions import *\n",
    "    collect_tune_and_predict('EOG',n_ahead = 365)"
   ]
  }
 ],
 "metadata": {},
 "nbformat": 4,
 "nbformat_minor": 5
}
