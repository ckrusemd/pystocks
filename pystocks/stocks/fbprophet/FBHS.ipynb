{
 "cells": [
  {
   "cell_type": "markdown",
   "id": "d6f36398",
   "metadata": {},
   "source": [
    "# (FBHS): Fortune Brands Home & Security Inc. Common Stock"
   ]
  },
  {
   "cell_type": "code",
   "execution_count": null,
   "id": "29f8cff9",
   "metadata": {},
   "outputs": [],
   "source": [
    "    from functions import *\n",
    "    collect_tune_and_predict('FBHS',n_ahead = 365)"
   ]
  }
 ],
 "metadata": {},
 "nbformat": 4,
 "nbformat_minor": 5
}
