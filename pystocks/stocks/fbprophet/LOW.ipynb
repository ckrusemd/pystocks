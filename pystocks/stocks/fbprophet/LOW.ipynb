{
 "cells": [
  {
   "cell_type": "markdown",
   "id": "9300628b",
   "metadata": {},
   "source": [
    "# (LOW): Lowe's Companies Inc. Common Stock"
   ]
  },
  {
   "cell_type": "code",
   "execution_count": null,
   "id": "dafc7627",
   "metadata": {},
   "outputs": [],
   "source": [
    "    from functions import *\n",
    "    collect_tune_and_predict('LOW',n_ahead = 365)"
   ]
  }
 ],
 "metadata": {},
 "nbformat": 4,
 "nbformat_minor": 5
}
