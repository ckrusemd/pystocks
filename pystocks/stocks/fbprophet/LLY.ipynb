{
 "cells": [
  {
   "cell_type": "markdown",
   "id": "f467348b",
   "metadata": {},
   "source": [
    "# (LLY): Eli Lilly and Company Common Stock"
   ]
  },
  {
   "cell_type": "code",
   "execution_count": null,
   "id": "736519ac",
   "metadata": {},
   "outputs": [],
   "source": [
    "    from functions import *\n",
    "    collect_tune_and_predict('LLY',n_ahead = 365)"
   ]
  }
 ],
 "metadata": {},
 "nbformat": 4,
 "nbformat_minor": 5
}
