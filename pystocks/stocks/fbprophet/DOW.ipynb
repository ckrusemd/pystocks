{
 "cells": [
  {
   "cell_type": "markdown",
   "id": "67e29b11",
   "metadata": {},
   "source": [
    "# (DOW): Dow Inc. Common Stock "
   ]
  },
  {
   "cell_type": "code",
   "execution_count": null,
   "id": "867b7c96",
   "metadata": {},
   "outputs": [],
   "source": [
    "    from functions import *\n",
    "    collect_tune_and_predict('DOW',n_ahead = 365)"
   ]
  }
 ],
 "metadata": {},
 "nbformat": 4,
 "nbformat_minor": 5
}
