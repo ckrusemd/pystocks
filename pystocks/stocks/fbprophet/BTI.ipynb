{
 "cells": [
  {
   "cell_type": "markdown",
   "id": "57ee7e77",
   "metadata": {},
   "source": [
    "# (BTI): British American Tobacco  Industries p.l.c. Common Stock ADR"
   ]
  },
  {
   "cell_type": "code",
   "execution_count": null,
   "id": "392e798d",
   "metadata": {},
   "outputs": [],
   "source": [
    "    from functions import *\n",
    "    collect_tune_and_predict('BTI',n_ahead = 365)"
   ]
  }
 ],
 "metadata": {},
 "nbformat": 4,
 "nbformat_minor": 5
}
