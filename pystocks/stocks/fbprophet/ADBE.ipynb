{
 "cells": [
  {
   "cell_type": "markdown",
   "id": "b8493ff7",
   "metadata": {},
   "source": [
    "# (ADBE): Adobe Inc. Common Stock"
   ]
  },
  {
   "cell_type": "code",
   "execution_count": null,
   "id": "0573c0af",
   "metadata": {},
   "outputs": [],
   "source": [
    "    from functions import *\n",
    "    collect_tune_and_predict('ADBE',n_ahead = 365)"
   ]
  }
 ],
 "metadata": {},
 "nbformat": 4,
 "nbformat_minor": 5
}
