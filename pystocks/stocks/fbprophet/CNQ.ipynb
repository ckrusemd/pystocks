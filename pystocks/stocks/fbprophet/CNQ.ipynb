{
 "cells": [
  {
   "cell_type": "markdown",
   "id": "21a6ca66",
   "metadata": {},
   "source": [
    "# (CNQ): Canadian Natural Resources Limited Common Stock"
   ]
  },
  {
   "cell_type": "code",
   "execution_count": null,
   "id": "ce873bfa",
   "metadata": {},
   "outputs": [],
   "source": [
    "    from functions import *\n",
    "    collect_tune_and_predict('CNQ',n_ahead = 365)"
   ]
  }
 ],
 "metadata": {},
 "nbformat": 4,
 "nbformat_minor": 5
}
