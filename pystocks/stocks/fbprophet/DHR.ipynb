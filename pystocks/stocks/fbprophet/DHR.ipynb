{
 "cells": [
  {
   "cell_type": "markdown",
   "id": "a0df7ea9",
   "metadata": {},
   "source": [
    "# (DHR): Danaher Corporation Common Stock"
   ]
  },
  {
   "cell_type": "code",
   "execution_count": null,
   "id": "cc3fce29",
   "metadata": {},
   "outputs": [],
   "source": [
    "    from functions import *\n",
    "    collect_tune_and_predict('DHR',n_ahead = 365)"
   ]
  }
 ],
 "metadata": {},
 "nbformat": 4,
 "nbformat_minor": 5
}
