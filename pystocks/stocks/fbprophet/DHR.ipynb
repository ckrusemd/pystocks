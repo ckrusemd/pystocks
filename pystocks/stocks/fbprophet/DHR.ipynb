{
 "cells": [
  {
   "cell_type": "markdown",
   "id": "b5bd293c",
   "metadata": {},
   "source": [
    "# (DHR): Danaher Corporation Common Stock"
   ]
  },
  {
   "cell_type": "code",
   "execution_count": null,
   "id": "a37933d7",
   "metadata": {},
   "outputs": [],
   "source": [
    "    from functions import *\n",
    "    collect_tune_and_predict('DHR',n_ahead = 365)"
   ]
  }
 ],
 "metadata": {},
 "nbformat": 4,
 "nbformat_minor": 5
}
