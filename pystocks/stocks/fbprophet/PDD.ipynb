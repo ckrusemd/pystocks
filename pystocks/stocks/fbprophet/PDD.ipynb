{
 "cells": [
  {
   "cell_type": "markdown",
   "id": "c9e776fc",
   "metadata": {},
   "source": [
    "# (PDD): Pinduoduo Inc. American Depositary Shares"
   ]
  },
  {
   "cell_type": "code",
   "execution_count": null,
   "id": "b5d5b438",
   "metadata": {},
   "outputs": [],
   "source": [
    "    from functions import *\n",
    "    collect_tune_and_predict('PDD',n_ahead = 365)"
   ]
  }
 ],
 "metadata": {},
 "nbformat": 4,
 "nbformat_minor": 5
}
