{
 "cells": [
  {
   "cell_type": "markdown",
   "id": "6d64aa04",
   "metadata": {},
   "source": [
    "# (TSLA): Tesla Inc. Common Stock"
   ]
  },
  {
   "cell_type": "code",
   "execution_count": null,
   "id": "55f7a3b6",
   "metadata": {},
   "outputs": [],
   "source": [
    "    from functions import *\n",
    "    collect_tune_and_predict('TSLA',n_ahead = 365)"
   ]
  }
 ],
 "metadata": {},
 "nbformat": 4,
 "nbformat_minor": 5
}
