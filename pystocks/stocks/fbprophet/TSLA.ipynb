{
 "cells": [
  {
   "cell_type": "markdown",
   "id": "d54c1a97",
   "metadata": {},
   "source": [
    "# (TSLA): Tesla Inc. Common Stock"
   ]
  },
  {
   "cell_type": "code",
   "execution_count": null,
   "id": "981c0b70",
   "metadata": {},
   "outputs": [],
   "source": [
    "    from functions import *\n",
    "    collect_tune_and_predict('TSLA',n_ahead = 365)"
   ]
  }
 ],
 "metadata": {},
 "nbformat": 4,
 "nbformat_minor": 5
}
