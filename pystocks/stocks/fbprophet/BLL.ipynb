{
 "cells": [
  {
   "cell_type": "markdown",
   "id": "67a05d31",
   "metadata": {},
   "source": [
    "# (BLL): Ball Corporation Common Stock"
   ]
  },
  {
   "cell_type": "code",
   "execution_count": null,
   "id": "e4a6efc9",
   "metadata": {},
   "outputs": [],
   "source": [
    "    from functions import *\n",
    "    collect_tune_and_predict('BLL',n_ahead = 365)"
   ]
  }
 ],
 "metadata": {},
 "nbformat": 4,
 "nbformat_minor": 5
}
