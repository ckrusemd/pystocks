{
 "cells": [
  {
   "cell_type": "markdown",
   "id": "77e04c1a",
   "metadata": {},
   "source": [
    "# (KO): Coca-Cola Company (The) Common Stock"
   ]
  },
  {
   "cell_type": "code",
   "execution_count": null,
   "id": "e2e49a6c",
   "metadata": {},
   "outputs": [],
   "source": [
    "    from functions import *\n",
    "    collect_tune_and_predict('KO',n_ahead = 365)"
   ]
  }
 ],
 "metadata": {},
 "nbformat": 4,
 "nbformat_minor": 5
}
