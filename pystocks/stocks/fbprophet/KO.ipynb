{
 "cells": [
  {
   "cell_type": "markdown",
   "id": "7172b815",
   "metadata": {},
   "source": [
    "# (KO): Coca-Cola Company (The) Common Stock"
   ]
  },
  {
   "cell_type": "code",
   "execution_count": null,
   "id": "f09d3ba5",
   "metadata": {},
   "outputs": [],
   "source": [
    "    from functions import *\n",
    "    collect_tune_and_predict('KO',n_ahead = 365)"
   ]
  }
 ],
 "metadata": {},
 "nbformat": 4,
 "nbformat_minor": 5
}
