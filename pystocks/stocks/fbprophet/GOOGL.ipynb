{
 "cells": [
  {
   "cell_type": "markdown",
   "id": "073ca19a",
   "metadata": {},
   "source": [
    "# (GOOGL): Alphabet Inc. Class A Common Stock"
   ]
  },
  {
   "cell_type": "code",
   "execution_count": null,
   "id": "fb5b5b15",
   "metadata": {},
   "outputs": [],
   "source": [
    "    from functions import *\n",
    "    collect_tune_and_predict('GOOGL',n_ahead = 365)"
   ]
  }
 ],
 "metadata": {},
 "nbformat": 4,
 "nbformat_minor": 5
}
