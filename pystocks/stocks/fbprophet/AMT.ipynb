{
 "cells": [
  {
   "cell_type": "markdown",
   "id": "26d86706",
   "metadata": {},
   "source": [
    "# (AMT): American Tower Corporation (REIT) Common Stock"
   ]
  },
  {
   "cell_type": "code",
   "execution_count": null,
   "id": "11ff53f2",
   "metadata": {},
   "outputs": [],
   "source": [
    "    from functions import *\n",
    "    collect_tune_and_predict('AMT',n_ahead = 365)"
   ]
  }
 ],
 "metadata": {},
 "nbformat": 4,
 "nbformat_minor": 5
}
