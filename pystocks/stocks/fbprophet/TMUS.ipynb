{
 "cells": [
  {
   "cell_type": "markdown",
   "id": "51ae67ef",
   "metadata": {},
   "source": [
    "# (TMUS): T-Mobile US Inc. Common Stock"
   ]
  },
  {
   "cell_type": "code",
   "execution_count": null,
   "id": "6d445a9f",
   "metadata": {},
   "outputs": [],
   "source": [
    "    from functions import *\n",
    "    collect_tune_and_predict('TMUS',n_ahead = 365)"
   ]
  }
 ],
 "metadata": {},
 "nbformat": 4,
 "nbformat_minor": 5
}
