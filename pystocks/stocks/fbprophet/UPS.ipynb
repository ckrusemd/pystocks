{
 "cells": [
  {
   "cell_type": "markdown",
   "id": "109d909c",
   "metadata": {},
   "source": [
    "# (UPS): United Parcel Service Inc. Common Stock"
   ]
  },
  {
   "cell_type": "code",
   "execution_count": null,
   "id": "4ece3ae4",
   "metadata": {},
   "outputs": [],
   "source": [
    "    from functions import *\n",
    "    collect_tune_and_predict('UPS',n_ahead = 365)"
   ]
  }
 ],
 "metadata": {},
 "nbformat": 4,
 "nbformat_minor": 5
}
