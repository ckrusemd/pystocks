{
 "cells": [
  {
   "cell_type": "markdown",
   "id": "322c6051",
   "metadata": {},
   "source": [
    "# (UPS): United Parcel Service Inc. Common Stock"
   ]
  },
  {
   "cell_type": "code",
   "execution_count": null,
   "id": "1925c89d",
   "metadata": {},
   "outputs": [],
   "source": [
    "    from functions import *\n",
    "    collect_tune_and_predict('UPS',n_ahead = 365)"
   ]
  }
 ],
 "metadata": {},
 "nbformat": 4,
 "nbformat_minor": 5
}
