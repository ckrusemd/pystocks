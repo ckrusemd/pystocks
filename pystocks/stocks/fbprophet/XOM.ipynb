{
 "cells": [
  {
   "cell_type": "markdown",
   "id": "60072ef7",
   "metadata": {},
   "source": [
    "# (XOM): Exxon Mobil Corporation Common Stock"
   ]
  },
  {
   "cell_type": "code",
   "execution_count": null,
   "id": "58233605",
   "metadata": {},
   "outputs": [],
   "source": [
    "    from functions import *\n",
    "    collect_tune_and_predict('XOM',n_ahead = 365)"
   ]
  }
 ],
 "metadata": {},
 "nbformat": 4,
 "nbformat_minor": 5
}
