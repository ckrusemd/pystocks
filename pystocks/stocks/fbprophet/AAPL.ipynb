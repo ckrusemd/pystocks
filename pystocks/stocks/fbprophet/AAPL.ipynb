{
 "cells": [
  {
   "cell_type": "markdown",
   "id": "a0cb0c4a",
   "metadata": {},
   "source": [
    "# (AAPL): Apple Inc. Common Stock"
   ]
  },
  {
   "cell_type": "code",
   "execution_count": null,
   "id": "4e7c653d",
   "metadata": {},
   "outputs": [],
   "source": [
    "    from functions import *\n",
    "    collect_tune_and_predict('AAPL',n_ahead = 365)"
   ]
  }
 ],
 "metadata": {},
 "nbformat": 4,
 "nbformat_minor": 5
}
