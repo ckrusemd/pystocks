{
 "cells": [
  {
   "cell_type": "markdown",
   "id": "b64ed806",
   "metadata": {},
   "source": [
    "# (ABB): ABB Ltd Common Stock"
   ]
  },
  {
   "cell_type": "code",
   "execution_count": null,
   "id": "2fbb9f05",
   "metadata": {},
   "outputs": [],
   "source": [
    "    from functions import *\n",
    "    collect_tune_and_predict('ABB',n_ahead = 365)"
   ]
  }
 ],
 "metadata": {},
 "nbformat": 4,
 "nbformat_minor": 5
}
