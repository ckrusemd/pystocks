{
 "cells": [
  {
   "cell_type": "markdown",
   "id": "559ff10a",
   "metadata": {},
   "source": [
    "# (ABB): ABB Ltd Common Stock"
   ]
  },
  {
   "cell_type": "code",
   "execution_count": null,
   "id": "cc557773",
   "metadata": {},
   "outputs": [],
   "source": [
    "    from functions import *\n",
    "    collect_tune_and_predict('ABB',n_ahead = 365)"
   ]
  }
 ],
 "metadata": {},
 "nbformat": 4,
 "nbformat_minor": 5
}
