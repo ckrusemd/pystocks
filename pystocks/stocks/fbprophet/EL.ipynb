{
 "cells": [
  {
   "cell_type": "markdown",
   "id": "95d43450",
   "metadata": {},
   "source": [
    "# (EL): Estee Lauder Companies Inc. (The) Common Stock"
   ]
  },
  {
   "cell_type": "code",
   "execution_count": null,
   "id": "452f97cc",
   "metadata": {},
   "outputs": [],
   "source": [
    "    from functions import *\n",
    "    collect_tune_and_predict('EL',n_ahead = 365)"
   ]
  }
 ],
 "metadata": {},
 "nbformat": 4,
 "nbformat_minor": 5
}
