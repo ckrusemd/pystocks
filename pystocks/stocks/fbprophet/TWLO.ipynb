{
 "cells": [
  {
   "cell_type": "markdown",
   "id": "c99aa97c",
   "metadata": {},
   "source": [
    "# (TWLO): Twilio Inc. Class A Common Stock"
   ]
  },
  {
   "cell_type": "code",
   "execution_count": null,
   "id": "f865dd9b",
   "metadata": {},
   "outputs": [],
   "source": [
    "    from functions import *\n",
    "    collect_tune_and_predict('TWLO',n_ahead = 365)"
   ]
  }
 ],
 "metadata": {},
 "nbformat": 4,
 "nbformat_minor": 5
}
