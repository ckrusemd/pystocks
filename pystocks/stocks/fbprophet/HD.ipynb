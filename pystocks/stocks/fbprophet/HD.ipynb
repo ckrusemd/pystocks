{
 "cells": [
  {
   "cell_type": "markdown",
   "id": "cae5bb0b",
   "metadata": {},
   "source": [
    "# (HD): Home Depot Inc. (The) Common Stock"
   ]
  },
  {
   "cell_type": "code",
   "execution_count": null,
   "id": "5bdb7704",
   "metadata": {},
   "outputs": [],
   "source": [
    "    from functions import *\n",
    "    collect_tune_and_predict('HD',n_ahead = 365)"
   ]
  }
 ],
 "metadata": {},
 "nbformat": 4,
 "nbformat_minor": 5
}
