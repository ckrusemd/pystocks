{
 "cells": [
  {
   "cell_type": "markdown",
   "id": "30d8b700",
   "metadata": {},
   "source": [
    "# (FERG): Ferguson plc Ordinary Shares"
   ]
  },
  {
   "cell_type": "code",
   "execution_count": null,
   "id": "17c83e04",
   "metadata": {},
   "outputs": [],
   "source": [
    "    from functions import *\n",
    "    collect_tune_and_predict('FERG',n_ahead = 365)"
   ]
  }
 ],
 "metadata": {},
 "nbformat": 4,
 "nbformat_minor": 5
}
