{
 "cells": [
  {
   "cell_type": "markdown",
   "id": "ff7f4d5a",
   "metadata": {},
   "source": [
    "# (FERG): Ferguson plc Ordinary Shares"
   ]
  },
  {
   "cell_type": "code",
   "execution_count": null,
   "id": "cdbc0c56",
   "metadata": {},
   "outputs": [],
   "source": [
    "    from functions import *\n",
    "    collect_tune_and_predict('FERG',n_ahead = 365)"
   ]
  }
 ],
 "metadata": {},
 "nbformat": 4,
 "nbformat_minor": 5
}
