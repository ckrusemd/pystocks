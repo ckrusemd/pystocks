{
 "cells": [
  {
   "cell_type": "markdown",
   "id": "a22567c6",
   "metadata": {},
   "source": [
    "# (ABNB): Airbnb Inc. Class A Common Stock"
   ]
  },
  {
   "cell_type": "code",
   "execution_count": null,
   "id": "1744c329",
   "metadata": {},
   "outputs": [],
   "source": [
    "    from functions import *\n",
    "    collect_tune_and_predict('ABNB',n_ahead = 365)"
   ]
  }
 ],
 "metadata": {},
 "nbformat": 4,
 "nbformat_minor": 5
}
