{
 "cells": [
  {
   "cell_type": "markdown",
   "id": "1c5cb75e",
   "metadata": {},
   "source": [
    "# (SO): Southern Company (The) Common Stock"
   ]
  },
  {
   "cell_type": "code",
   "execution_count": null,
   "id": "6fd08cba",
   "metadata": {},
   "outputs": [],
   "source": [
    "    from functions import *\n",
    "    collect_tune_and_predict('SO',n_ahead = 365)"
   ]
  }
 ],
 "metadata": {},
 "nbformat": 4,
 "nbformat_minor": 5
}
