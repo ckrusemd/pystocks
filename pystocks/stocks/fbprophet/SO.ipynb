{
 "cells": [
  {
   "cell_type": "markdown",
   "id": "a495d792",
   "metadata": {},
   "source": [
    "# (SO): Southern Company (The) Common Stock"
   ]
  },
  {
   "cell_type": "code",
   "execution_count": null,
   "id": "31eae5ae",
   "metadata": {},
   "outputs": [],
   "source": [
    "    from functions import *\n",
    "    collect_tune_and_predict('SO',n_ahead = 365)"
   ]
  }
 ],
 "metadata": {},
 "nbformat": 4,
 "nbformat_minor": 5
}
