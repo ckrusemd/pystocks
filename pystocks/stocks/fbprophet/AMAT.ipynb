{
 "cells": [
  {
   "cell_type": "markdown",
   "id": "1ed07aef",
   "metadata": {},
   "source": [
    "# (AMAT): Applied Materials Inc. Common Stock"
   ]
  },
  {
   "cell_type": "code",
   "execution_count": null,
   "id": "78e01e49",
   "metadata": {},
   "outputs": [],
   "source": [
    "    from functions import *\n",
    "    collect_tune_and_predict('AMAT',n_ahead = 365)"
   ]
  }
 ],
 "metadata": {},
 "nbformat": 4,
 "nbformat_minor": 5
}
