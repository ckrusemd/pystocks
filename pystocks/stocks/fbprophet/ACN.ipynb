{
 "cells": [
  {
   "cell_type": "markdown",
   "id": "d82a2e32",
   "metadata": {},
   "source": [
    "# (ACN): Accenture plc Class A Ordinary Shares (Ireland)"
   ]
  },
  {
   "cell_type": "code",
   "execution_count": null,
   "id": "50594e8f",
   "metadata": {},
   "outputs": [],
   "source": [
    "    from functions import *\n",
    "    collect_tune_and_predict('ACN',n_ahead = 365)"
   ]
  }
 ],
 "metadata": {},
 "nbformat": 4,
 "nbformat_minor": 5
}
