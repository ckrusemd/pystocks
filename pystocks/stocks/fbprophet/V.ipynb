{
 "cells": [
  {
   "cell_type": "markdown",
   "id": "8faecd43",
   "metadata": {},
   "source": [
    "# (V): Visa Inc."
   ]
  },
  {
   "cell_type": "code",
   "execution_count": null,
   "id": "b50d69d8",
   "metadata": {},
   "outputs": [],
   "source": [
    "    from functions import *\n",
    "    collect_tune_and_predict('V',n_ahead = 365)"
   ]
  }
 ],
 "metadata": {},
 "nbformat": 4,
 "nbformat_minor": 5
}
