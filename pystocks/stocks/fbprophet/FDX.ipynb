{
 "cells": [
  {
   "cell_type": "markdown",
   "id": "30ee8dbf",
   "metadata": {},
   "source": [
    "# (FDX): FedEx Corporation Common Stock"
   ]
  },
  {
   "cell_type": "code",
   "execution_count": null,
   "id": "c9d4c827",
   "metadata": {},
   "outputs": [],
   "source": [
    "    from functions import *\n",
    "    collect_tune_and_predict('FDX',n_ahead = 365)"
   ]
  }
 ],
 "metadata": {},
 "nbformat": 4,
 "nbformat_minor": 5
}
