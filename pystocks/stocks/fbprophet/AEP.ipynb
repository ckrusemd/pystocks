{
 "cells": [
  {
   "cell_type": "markdown",
   "id": "6653407b",
   "metadata": {},
   "source": [
    "# (AEP): American Electric Power Company Inc. Common Stock"
   ]
  },
  {
   "cell_type": "code",
   "execution_count": null,
   "id": "88493dc1",
   "metadata": {},
   "outputs": [],
   "source": [
    "    from functions import *\n",
    "    collect_tune_and_predict('AEP',n_ahead = 365)"
   ]
  }
 ],
 "metadata": {},
 "nbformat": 4,
 "nbformat_minor": 5
}
