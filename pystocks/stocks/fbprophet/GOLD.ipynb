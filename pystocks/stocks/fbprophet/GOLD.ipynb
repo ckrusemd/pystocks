{
 "cells": [
  {
   "cell_type": "markdown",
   "id": "0f3e5e5a",
   "metadata": {},
   "source": [
    "# (GOLD): Barrick Gold Corporation Common Stock (BC)"
   ]
  },
  {
   "cell_type": "code",
   "execution_count": null,
   "id": "9dcd190e",
   "metadata": {},
   "outputs": [],
   "source": [
    "    from functions import *\n",
    "    collect_tune_and_predict('GOLD',n_ahead = 365)"
   ]
  }
 ],
 "metadata": {},
 "nbformat": 4,
 "nbformat_minor": 5
}
