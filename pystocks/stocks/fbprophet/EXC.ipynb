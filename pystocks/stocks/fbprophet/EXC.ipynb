{
 "cells": [
  {
   "cell_type": "markdown",
   "id": "3be30867",
   "metadata": {},
   "source": [
    "# (EXC): Exelon Corporation Common Stock"
   ]
  },
  {
   "cell_type": "code",
   "execution_count": null,
   "id": "86f3ece5",
   "metadata": {},
   "outputs": [],
   "source": [
    "    from functions import *\n",
    "    collect_tune_and_predict('EXC',n_ahead = 365)"
   ]
  }
 ],
 "metadata": {},
 "nbformat": 4,
 "nbformat_minor": 5
}
