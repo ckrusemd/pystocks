{
 "cells": [
  {
   "cell_type": "markdown",
   "id": "56b399e9",
   "metadata": {},
   "source": [
    "# (TSM): Taiwan Semiconductor Manufacturing Company Ltd."
   ]
  },
  {
   "cell_type": "code",
   "execution_count": null,
   "id": "f057b5d4",
   "metadata": {},
   "outputs": [],
   "source": [
    "    from functions import *\n",
    "    collect_tune_and_predict('TSM',n_ahead = 365)"
   ]
  }
 ],
 "metadata": {},
 "nbformat": 4,
 "nbformat_minor": 5
}
