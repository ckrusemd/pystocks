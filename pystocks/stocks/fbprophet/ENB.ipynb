{
 "cells": [
  {
   "cell_type": "markdown",
   "id": "38ea90f4",
   "metadata": {},
   "source": [
    "# (ENB): Enbridge Inc Common Stock"
   ]
  },
  {
   "cell_type": "code",
   "execution_count": null,
   "id": "07abb145",
   "metadata": {},
   "outputs": [],
   "source": [
    "    from functions import *\n",
    "    collect_tune_and_predict('ENB',n_ahead = 365)"
   ]
  }
 ],
 "metadata": {},
 "nbformat": 4,
 "nbformat_minor": 5
}
