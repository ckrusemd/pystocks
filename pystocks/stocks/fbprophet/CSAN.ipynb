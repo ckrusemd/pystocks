{
 "cells": [
  {
   "cell_type": "markdown",
   "id": "34c81acb",
   "metadata": {},
   "source": [
    "# (CSAN): Cosan S.A. ADS"
   ]
  },
  {
   "cell_type": "code",
   "execution_count": null,
   "id": "cb4bd282",
   "metadata": {},
   "outputs": [],
   "source": [
    "    from functions import *\n",
    "    collect_tune_and_predict('CSAN',n_ahead = 365)"
   ]
  }
 ],
 "metadata": {},
 "nbformat": 4,
 "nbformat_minor": 5
}
