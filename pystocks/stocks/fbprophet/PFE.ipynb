{
 "cells": [
  {
   "cell_type": "markdown",
   "id": "880d5259",
   "metadata": {},
   "source": [
    "# (PFE): Pfizer Inc. Common Stock"
   ]
  },
  {
   "cell_type": "code",
   "execution_count": null,
   "id": "15fe68fa",
   "metadata": {},
   "outputs": [],
   "source": [
    "    from functions import *\n",
    "    collect_tune_and_predict('PFE',n_ahead = 365)"
   ]
  }
 ],
 "metadata": {},
 "nbformat": 4,
 "nbformat_minor": 5
}
