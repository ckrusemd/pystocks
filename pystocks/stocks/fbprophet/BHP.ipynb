{
 "cells": [
  {
   "cell_type": "markdown",
   "id": "042c7cc5",
   "metadata": {},
   "source": [
    "# (BHP): BHP Group Limited American Depositary Shares (Each representing two Ordinary Shares)"
   ]
  },
  {
   "cell_type": "code",
   "execution_count": null,
   "id": "6655b49a",
   "metadata": {},
   "outputs": [],
   "source": [
    "    from functions import *\n",
    "    collect_tune_and_predict('BHP',n_ahead = 365)"
   ]
  }
 ],
 "metadata": {},
 "nbformat": 4,
 "nbformat_minor": 5
}
