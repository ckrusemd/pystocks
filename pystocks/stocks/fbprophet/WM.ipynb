{
 "cells": [
  {
   "cell_type": "markdown",
   "id": "e0971a73",
   "metadata": {},
   "source": [
    "# (WM): Waste Management Inc. Common Stock"
   ]
  },
  {
   "cell_type": "code",
   "execution_count": null,
   "id": "bb5d5748",
   "metadata": {},
   "outputs": [],
   "source": [
    "    from functions import *\n",
    "    collect_tune_and_predict('WM',n_ahead = 365)"
   ]
  }
 ],
 "metadata": {},
 "nbformat": 4,
 "nbformat_minor": 5
}
