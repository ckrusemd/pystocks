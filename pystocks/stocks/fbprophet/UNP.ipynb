{
 "cells": [
  {
   "cell_type": "markdown",
   "id": "d37c9078",
   "metadata": {},
   "source": [
    "# (UNP): Union Pacific Corporation Common Stock"
   ]
  },
  {
   "cell_type": "code",
   "execution_count": null,
   "id": "bf74a0eb",
   "metadata": {},
   "outputs": [],
   "source": [
    "    from functions import *\n",
    "    collect_tune_and_predict('UNP',n_ahead = 365)"
   ]
  }
 ],
 "metadata": {},
 "nbformat": 4,
 "nbformat_minor": 5
}
