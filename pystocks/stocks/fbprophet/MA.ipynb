{
 "cells": [
  {
   "cell_type": "markdown",
   "id": "ce8929bb",
   "metadata": {},
   "source": [
    "# (MA): Mastercard Incorporated Common Stock"
   ]
  },
  {
   "cell_type": "code",
   "execution_count": null,
   "id": "271a27f2",
   "metadata": {},
   "outputs": [],
   "source": [
    "    from functions import *\n",
    "    collect_tune_and_predict('MA',n_ahead = 365)"
   ]
  }
 ],
 "metadata": {},
 "nbformat": 4,
 "nbformat_minor": 5
}
