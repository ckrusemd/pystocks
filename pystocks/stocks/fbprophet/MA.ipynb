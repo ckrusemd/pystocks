{
 "cells": [
  {
   "cell_type": "markdown",
   "id": "8548bab2",
   "metadata": {},
   "source": [
    "# (MA): Mastercard Incorporated Common Stock"
   ]
  },
  {
   "cell_type": "code",
   "execution_count": null,
   "id": "011a10df",
   "metadata": {},
   "outputs": [],
   "source": [
    "    from functions import *\n",
    "    collect_tune_and_predict('MA',n_ahead = 365)"
   ]
  }
 ],
 "metadata": {},
 "nbformat": 4,
 "nbformat_minor": 5
}
