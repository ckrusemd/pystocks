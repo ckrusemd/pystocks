{
 "cells": [
  {
   "cell_type": "markdown",
   "id": "37122317",
   "metadata": {},
   "source": [
    "# (NVS): Novartis AG Common Stock"
   ]
  },
  {
   "cell_type": "code",
   "execution_count": null,
   "id": "a05f45a7",
   "metadata": {},
   "outputs": [],
   "source": [
    "    from functions import *\n",
    "    collect_tune_and_predict('NVS',n_ahead = 365)"
   ]
  }
 ],
 "metadata": {},
 "nbformat": 4,
 "nbformat_minor": 5
}
