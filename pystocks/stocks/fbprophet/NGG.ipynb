{
 "cells": [
  {
   "cell_type": "markdown",
   "id": "43e6d228",
   "metadata": {},
   "source": [
    "# (NGG): National Grid Transco PLC National Grid PLC (NEW) American Depositary Shares"
   ]
  },
  {
   "cell_type": "code",
   "execution_count": null,
   "id": "aaf62c49",
   "metadata": {},
   "outputs": [],
   "source": [
    "    from functions import *\n",
    "    collect_tune_and_predict('NGG',n_ahead = 365)"
   ]
  }
 ],
 "metadata": {},
 "nbformat": 4,
 "nbformat_minor": 5
}
