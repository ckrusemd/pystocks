{
 "cells": [
  {
   "cell_type": "markdown",
   "id": "9da54a63",
   "metadata": {},
   "source": [
    "# (CAT): Caterpillar Inc. Common Stock"
   ]
  },
  {
   "cell_type": "code",
   "execution_count": null,
   "id": "9a0f98bc",
   "metadata": {},
   "outputs": [],
   "source": [
    "    from functions import *\n",
    "    collect_tune_and_predict('CAT',n_ahead = 365)"
   ]
  }
 ],
 "metadata": {},
 "nbformat": 4,
 "nbformat_minor": 5
}
