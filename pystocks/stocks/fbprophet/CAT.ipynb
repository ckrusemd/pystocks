{
 "cells": [
  {
   "cell_type": "markdown",
   "id": "fdb7bf74",
   "metadata": {},
   "source": [
    "# (CAT): Caterpillar Inc. Common Stock"
   ]
  },
  {
   "cell_type": "code",
   "execution_count": null,
   "id": "17ffc0f8",
   "metadata": {},
   "outputs": [],
   "source": [
    "    from functions import *\n",
    "    collect_tune_and_predict('CAT',n_ahead = 365)"
   ]
  }
 ],
 "metadata": {},
 "nbformat": 4,
 "nbformat_minor": 5
}
