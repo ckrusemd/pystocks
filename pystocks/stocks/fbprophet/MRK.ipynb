{
 "cells": [
  {
   "cell_type": "markdown",
   "id": "3a21c281",
   "metadata": {},
   "source": [
    "# (MRK): Merck & Company Inc. Common Stock (new)"
   ]
  },
  {
   "cell_type": "code",
   "execution_count": null,
   "id": "4614651b",
   "metadata": {},
   "outputs": [],
   "source": [
    "    from functions import *\n",
    "    collect_tune_and_predict('MRK',n_ahead = 365)"
   ]
  }
 ],
 "metadata": {},
 "nbformat": 4,
 "nbformat_minor": 5
}
