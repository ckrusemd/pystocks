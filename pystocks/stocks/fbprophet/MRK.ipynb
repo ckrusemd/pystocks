{
 "cells": [
  {
   "cell_type": "markdown",
   "id": "b385df26",
   "metadata": {},
   "source": [
    "# (MRK): Merck & Company Inc. Common Stock (new)"
   ]
  },
  {
   "cell_type": "code",
   "execution_count": null,
   "id": "77d773f4",
   "metadata": {},
   "outputs": [],
   "source": [
    "    from functions import *\n",
    "    collect_tune_and_predict('MRK',n_ahead = 365)"
   ]
  }
 ],
 "metadata": {},
 "nbformat": 4,
 "nbformat_minor": 5
}
