{
 "cells": [
  {
   "cell_type": "markdown",
   "id": "f35f024c",
   "metadata": {},
   "source": [
    "# (BKNG): Booking Holdings Inc. Common Stock"
   ]
  },
  {
   "cell_type": "code",
   "execution_count": null,
   "id": "3f990d2c",
   "metadata": {},
   "outputs": [],
   "source": [
    "    from functions import *\n",
    "    collect_tune_and_predict('BKNG',n_ahead = 365)"
   ]
  }
 ],
 "metadata": {},
 "nbformat": 4,
 "nbformat_minor": 5
}
