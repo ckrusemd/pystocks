{
 "cells": [
  {
   "cell_type": "markdown",
   "id": "c2692a79",
   "metadata": {},
   "source": [
    "# (PM): Philip Morris International Inc Common Stock"
   ]
  },
  {
   "cell_type": "code",
   "execution_count": null,
   "id": "bbf0506f",
   "metadata": {},
   "outputs": [],
   "source": [
    "    from functions import *\n",
    "    collect_tune_and_predict('PM',n_ahead = 365)"
   ]
  }
 ],
 "metadata": {},
 "nbformat": 4,
 "nbformat_minor": 5
}
