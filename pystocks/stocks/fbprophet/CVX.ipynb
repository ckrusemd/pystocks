{
 "cells": [
  {
   "cell_type": "markdown",
   "id": "7ebd0f02",
   "metadata": {},
   "source": [
    "# (CVX): Chevron Corporation Common Stock"
   ]
  },
  {
   "cell_type": "code",
   "execution_count": null,
   "id": "d6ed3473",
   "metadata": {},
   "outputs": [],
   "source": [
    "    from functions import *\n",
    "    collect_tune_and_predict('CVX',n_ahead = 365)"
   ]
  }
 ],
 "metadata": {},
 "nbformat": 4,
 "nbformat_minor": 5
}
