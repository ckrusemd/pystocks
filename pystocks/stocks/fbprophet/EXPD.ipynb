{
 "cells": [
  {
   "cell_type": "markdown",
   "id": "480b4f0f",
   "metadata": {},
   "source": [
    "# (EXPD): Expeditors International of Washington Inc. Common Stock"
   ]
  },
  {
   "cell_type": "code",
   "execution_count": null,
   "id": "36be46d3",
   "metadata": {},
   "outputs": [],
   "source": [
    "    from functions import *\n",
    "    collect_tune_and_predict('EXPD',n_ahead = 365)"
   ]
  }
 ],
 "metadata": {},
 "nbformat": 4,
 "nbformat_minor": 5
}
