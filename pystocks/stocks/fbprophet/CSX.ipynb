{
 "cells": [
  {
   "cell_type": "markdown",
   "id": "cc88ff26",
   "metadata": {},
   "source": [
    "# (CSX): CSX Corporation Common Stock"
   ]
  },
  {
   "cell_type": "code",
   "execution_count": null,
   "id": "4df7f8be",
   "metadata": {},
   "outputs": [],
   "source": [
    "    from functions import *\n",
    "    collect_tune_and_predict('CSX',n_ahead = 365)"
   ]
  }
 ],
 "metadata": {},
 "nbformat": 4,
 "nbformat_minor": 5
}
