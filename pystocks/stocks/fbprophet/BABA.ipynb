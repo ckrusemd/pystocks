{
 "cells": [
  {
   "cell_type": "markdown",
   "id": "afaaac42",
   "metadata": {},
   "source": [
    "# (BABA): Alibaba Group Holding Limited American Depositary Shares each representing eight Ordinary share"
   ]
  },
  {
   "cell_type": "code",
   "execution_count": null,
   "id": "e9eb6d54",
   "metadata": {},
   "outputs": [],
   "source": [
    "    from functions import *\n",
    "    collect_tune_and_predict('BABA',n_ahead = 365)"
   ]
  }
 ],
 "metadata": {},
 "nbformat": 4,
 "nbformat_minor": 5
}
