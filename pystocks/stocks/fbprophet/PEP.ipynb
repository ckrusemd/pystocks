{
 "cells": [
  {
   "cell_type": "markdown",
   "id": "b58adebc",
   "metadata": {},
   "source": [
    "# (PEP): PepsiCo Inc. Common Stock"
   ]
  },
  {
   "cell_type": "code",
   "execution_count": null,
   "id": "00c35dbb",
   "metadata": {},
   "outputs": [],
   "source": [
    "    from functions import *\n",
    "    collect_tune_and_predict('PEP',n_ahead = 365)"
   ]
  }
 ],
 "metadata": {},
 "nbformat": 4,
 "nbformat_minor": 5
}
