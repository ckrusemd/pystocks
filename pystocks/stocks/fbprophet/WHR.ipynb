{
 "cells": [
  {
   "cell_type": "markdown",
   "id": "2381ab8d",
   "metadata": {},
   "source": [
    "# (WHR): Whirlpool Corporation Common Stock"
   ]
  },
  {
   "cell_type": "code",
   "execution_count": null,
   "id": "900085bc",
   "metadata": {},
   "outputs": [],
   "source": [
    "    from functions import *\n",
    "    collect_tune_and_predict('WHR',n_ahead = 365)"
   ]
  }
 ],
 "metadata": {},
 "nbformat": 4,
 "nbformat_minor": 5
}
