{
 "cells": [
  {
   "cell_type": "markdown",
   "id": "087f8089",
   "metadata": {},
   "source": [
    "# (HON): Honeywell International Inc. Common Stock"
   ]
  },
  {
   "cell_type": "code",
   "execution_count": null,
   "id": "e713c6a3",
   "metadata": {},
   "outputs": [],
   "source": [
    "    from functions import *\n",
    "    collect_tune_and_predict('HON',n_ahead = 365)"
   ]
  }
 ],
 "metadata": {},
 "nbformat": 4,
 "nbformat_minor": 5
}
