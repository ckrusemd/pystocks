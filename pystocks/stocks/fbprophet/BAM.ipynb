{
 "cells": [
  {
   "cell_type": "markdown",
   "id": "a5751cf2",
   "metadata": {},
   "source": [
    "# (BAM): Brookfield Asset Management Inc. Common Stock"
   ]
  },
  {
   "cell_type": "code",
   "execution_count": null,
   "id": "fe3e3818",
   "metadata": {},
   "outputs": [],
   "source": [
    "    from functions import *\n",
    "    collect_tune_and_predict('BAM',n_ahead = 365)"
   ]
  }
 ],
 "metadata": {},
 "nbformat": 4,
 "nbformat_minor": 5
}
