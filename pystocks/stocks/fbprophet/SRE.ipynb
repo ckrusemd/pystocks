{
 "cells": [
  {
   "cell_type": "markdown",
   "id": "3340cfca",
   "metadata": {},
   "source": [
    "# (SRE): Sempra Energy Common Stock"
   ]
  },
  {
   "cell_type": "code",
   "execution_count": null,
   "id": "7adde116",
   "metadata": {},
   "outputs": [],
   "source": [
    "    from functions import *\n",
    "    collect_tune_and_predict('SRE',n_ahead = 365)"
   ]
  }
 ],
 "metadata": {},
 "nbformat": 4,
 "nbformat_minor": 5
}
