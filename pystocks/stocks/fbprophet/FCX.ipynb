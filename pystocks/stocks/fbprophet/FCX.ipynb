{
 "cells": [
  {
   "cell_type": "markdown",
   "id": "f2c17b0f",
   "metadata": {},
   "source": [
    "# (FCX): Freeport-McMoRan Inc. Common Stock"
   ]
  },
  {
   "cell_type": "code",
   "execution_count": null,
   "id": "e41b8f9c",
   "metadata": {},
   "outputs": [],
   "source": [
    "    from functions import *\n",
    "    collect_tune_and_predict('FCX',n_ahead = 365)"
   ]
  }
 ],
 "metadata": {},
 "nbformat": 4,
 "nbformat_minor": 5
}
