{
 "cells": [
  {
   "cell_type": "markdown",
   "id": "48c7a1b4",
   "metadata": {},
   "source": [
    "# (KMB): Kimberly-Clark Corporation Common Stock"
   ]
  },
  {
   "cell_type": "code",
   "execution_count": null,
   "id": "e0254904",
   "metadata": {},
   "outputs": [],
   "source": [
    "    from functions import *\n",
    "    collect_tune_and_predict('KMB',n_ahead = 365)"
   ]
  }
 ],
 "metadata": {},
 "nbformat": 4,
 "nbformat_minor": 5
}
