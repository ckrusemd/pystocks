{
 "cells": [
  {
   "cell_type": "markdown",
   "id": "6c47cabd",
   "metadata": {},
   "source": [
    "# (GE): General Electric Company Common Stock"
   ]
  },
  {
   "cell_type": "code",
   "execution_count": null,
   "id": "fbf7e83f",
   "metadata": {},
   "outputs": [],
   "source": [
    "    from functions import *\n",
    "    collect_tune_and_predict('GE',n_ahead = 365)"
   ]
  }
 ],
 "metadata": {},
 "nbformat": 4,
 "nbformat_minor": 5
}
