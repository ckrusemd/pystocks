{
 "cells": [
  {
   "cell_type": "markdown",
   "id": "0abdf609",
   "metadata": {},
   "source": [
    "# (PPG): PPG Industries Inc. Common Stock"
   ]
  },
  {
   "cell_type": "code",
   "execution_count": null,
   "id": "fbe0c7a8",
   "metadata": {},
   "outputs": [],
   "source": [
    "    from functions import *\n",
    "    collect_tune_and_predict('PPG',n_ahead = 365)"
   ]
  }
 ],
 "metadata": {},
 "nbformat": 4,
 "nbformat_minor": 5
}
