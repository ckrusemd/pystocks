{
 "cells": [
  {
   "cell_type": "markdown",
   "id": "8c42d6ac",
   "metadata": {},
   "source": [
    "# (LYB): LyondellBasell Industries NV Ordinary Shares Class A (Netherlands)"
   ]
  },
  {
   "cell_type": "code",
   "execution_count": null,
   "id": "8765498f",
   "metadata": {},
   "outputs": [],
   "source": [
    "    from functions import *\n",
    "    collect_tune_and_predict('LYB',n_ahead = 365)"
   ]
  }
 ],
 "metadata": {},
 "nbformat": 4,
 "nbformat_minor": 5
}
