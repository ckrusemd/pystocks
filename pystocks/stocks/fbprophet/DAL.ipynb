{
 "cells": [
  {
   "cell_type": "markdown",
   "id": "e75679a7",
   "metadata": {},
   "source": [
    "# (DAL): Delta Air Lines Inc. Common Stock"
   ]
  },
  {
   "cell_type": "code",
   "execution_count": null,
   "id": "25983d06",
   "metadata": {},
   "outputs": [],
   "source": [
    "    from functions import *\n",
    "    collect_tune_and_predict('DAL',n_ahead = 365)"
   ]
  }
 ],
 "metadata": {},
 "nbformat": 4,
 "nbformat_minor": 5
}
