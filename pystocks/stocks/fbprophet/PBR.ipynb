{
 "cells": [
  {
   "cell_type": "markdown",
   "id": "d9a2b9de",
   "metadata": {},
   "source": [
    "# (PBR): Petroleo Brasileiro S.A.- Petrobras Common Stock"
   ]
  },
  {
   "cell_type": "code",
   "execution_count": null,
   "id": "6d5ccbec",
   "metadata": {},
   "outputs": [],
   "source": [
    "    from functions import *\n",
    "    collect_tune_and_predict('PBR',n_ahead = 365)"
   ]
  }
 ],
 "metadata": {},
 "nbformat": 4,
 "nbformat_minor": 5
}
