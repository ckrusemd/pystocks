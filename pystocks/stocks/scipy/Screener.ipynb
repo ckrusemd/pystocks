{
 "metadata": {
  "language_info": {
   "codemirror_mode": {
    "name": "ipython",
    "version": 3
   },
   "file_extension": ".py",
   "mimetype": "text/x-python",
   "name": "python",
   "nbconvert_exporter": "python",
   "pygments_lexer": "ipython3",
   "version": "3.9.5"
  },
  "orig_nbformat": 2,
  "kernelspec": {
   "name": "python3",
   "display_name": "Python 3",
   "language": "python"
  }
 },
 "nbformat": 4,
 "nbformat_minor": 2,
 "cells": [
  {
   "cell_type": "code",
   "execution_count": 1,
   "metadata": {},
   "outputs": [],
   "source": [
    "from functions import *\n",
    "from pandas_datareader.data import DataReader\n",
    "from dateutil.relativedelta import relativedelta\n",
    "import numpy as np"
   ]
  },
  {
   "source": [
    "# Screener"
   ],
   "cell_type": "markdown",
   "metadata": {}
  },
  {
   "cell_type": "code",
   "execution_count": 2,
   "metadata": {},
   "outputs": [],
   "source": [
    "#https://www.nasdaq.com/market-activity/stocks/screener?exchange=AMEX\n",
    "\n",
    "import pandas as pd \n",
    "import os\n",
    "try:\n",
    "    df_nasdaq = pd.read_csv('../../data/NASDAQ.csv')\n",
    "    df_nyse = pd.read_csv('../../data/NYSE.csv')\n",
    "\n",
    "    df_concat = pd.concat([df_nasdaq,df_nyse])[[\"Symbol\",\"Name\",\"Market Cap\"]].sort_values(by=[\"Market Cap\"],ascending=False).dropna()\n",
    "    df_concat['Market Cap'] = df_concat['Market Cap']/1000000000\n",
    "    df_concat = df_concat[df_concat['Market Cap']>10]\n",
    "    df_concat = df_concat[1:10]\n",
    "    df_concat.to_pickle(\"../../data/symbols.pkl\")\n",
    "except E as Exception:\n",
    "    print(E)"
   ]
  },
  {
   "cell_type": "code",
   "execution_count": 61,
   "metadata": {},
   "outputs": [],
   "source": [
    "def subtract_x_months(timestamp,m):\n",
    "    import datetime\n",
    "    return( timestamp + relativedelta(months=-m) )"
   ]
  },
  {
   "cell_type": "code",
   "execution_count": 62,
   "metadata": {},
   "outputs": [
    {
     "output_type": "execute_result",
     "data": {
      "text/plain": [
       "             ds        High         Low        Open           y      Volume  \\\n",
       "7619 2016-06-02   52.740002   51.840000   52.639999   52.480000  22840800.0   \n",
       "7620 2016-06-03   52.419998   51.599998   52.380001   51.790001  23368300.0   \n",
       "7621 2016-06-06   52.349998   51.889999   51.990002   52.130001  18243300.0   \n",
       "7622 2016-06-07   52.730000   52.099998   52.240002   52.099998  20866800.0   \n",
       "7623 2016-06-08   52.439999   51.869999   52.020000   52.040001  21149400.0   \n",
       "...         ...         ...         ...         ...         ...         ...   \n",
       "8871 2021-05-24  251.160004  247.509995  247.789993  250.779999  21411500.0   \n",
       "8872 2021-05-25  252.750000  250.820007  251.770004  251.720001  17704300.0   \n",
       "8873 2021-05-26  252.940002  250.750000  251.429993  251.490005  17771600.0   \n",
       "8874 2021-05-27  251.479996  249.250000  251.169998  249.309998  24426200.0   \n",
       "8875 2021-05-28  252.080002  249.559998  251.000000  249.679993  18270200.0   \n",
       "\n",
       "       Adj Close  \n",
       "7619   48.347626  \n",
       "7620   47.711952  \n",
       "7621   48.025192  \n",
       "7622   47.997551  \n",
       "7623   47.942272  \n",
       "...          ...  \n",
       "8871  250.779999  \n",
       "8872  251.720001  \n",
       "8873  251.490005  \n",
       "8874  249.309998  \n",
       "8875  249.679993  \n",
       "\n",
       "[1257 rows x 7 columns]"
      ],
      "text/html": "<div>\n<style scoped>\n    .dataframe tbody tr th:only-of-type {\n        vertical-align: middle;\n    }\n\n    .dataframe tbody tr th {\n        vertical-align: top;\n    }\n\n    .dataframe thead th {\n        text-align: right;\n    }\n</style>\n<table border=\"1\" class=\"dataframe\">\n  <thead>\n    <tr style=\"text-align: right;\">\n      <th></th>\n      <th>ds</th>\n      <th>High</th>\n      <th>Low</th>\n      <th>Open</th>\n      <th>y</th>\n      <th>Volume</th>\n      <th>Adj Close</th>\n    </tr>\n  </thead>\n  <tbody>\n    <tr>\n      <th>7619</th>\n      <td>2016-06-02</td>\n      <td>52.740002</td>\n      <td>51.840000</td>\n      <td>52.639999</td>\n      <td>52.480000</td>\n      <td>22840800.0</td>\n      <td>48.347626</td>\n    </tr>\n    <tr>\n      <th>7620</th>\n      <td>2016-06-03</td>\n      <td>52.419998</td>\n      <td>51.599998</td>\n      <td>52.380001</td>\n      <td>51.790001</td>\n      <td>23368300.0</td>\n      <td>47.711952</td>\n    </tr>\n    <tr>\n      <th>7621</th>\n      <td>2016-06-06</td>\n      <td>52.349998</td>\n      <td>51.889999</td>\n      <td>51.990002</td>\n      <td>52.130001</td>\n      <td>18243300.0</td>\n      <td>48.025192</td>\n    </tr>\n    <tr>\n      <th>7622</th>\n      <td>2016-06-07</td>\n      <td>52.730000</td>\n      <td>52.099998</td>\n      <td>52.240002</td>\n      <td>52.099998</td>\n      <td>20866800.0</td>\n      <td>47.997551</td>\n    </tr>\n    <tr>\n      <th>7623</th>\n      <td>2016-06-08</td>\n      <td>52.439999</td>\n      <td>51.869999</td>\n      <td>52.020000</td>\n      <td>52.040001</td>\n      <td>21149400.0</td>\n      <td>47.942272</td>\n    </tr>\n    <tr>\n      <th>...</th>\n      <td>...</td>\n      <td>...</td>\n      <td>...</td>\n      <td>...</td>\n      <td>...</td>\n      <td>...</td>\n      <td>...</td>\n    </tr>\n    <tr>\n      <th>8871</th>\n      <td>2021-05-24</td>\n      <td>251.160004</td>\n      <td>247.509995</td>\n      <td>247.789993</td>\n      <td>250.779999</td>\n      <td>21411500.0</td>\n      <td>250.779999</td>\n    </tr>\n    <tr>\n      <th>8872</th>\n      <td>2021-05-25</td>\n      <td>252.750000</td>\n      <td>250.820007</td>\n      <td>251.770004</td>\n      <td>251.720001</td>\n      <td>17704300.0</td>\n      <td>251.720001</td>\n    </tr>\n    <tr>\n      <th>8873</th>\n      <td>2021-05-26</td>\n      <td>252.940002</td>\n      <td>250.750000</td>\n      <td>251.429993</td>\n      <td>251.490005</td>\n      <td>17771600.0</td>\n      <td>251.490005</td>\n    </tr>\n    <tr>\n      <th>8874</th>\n      <td>2021-05-27</td>\n      <td>251.479996</td>\n      <td>249.250000</td>\n      <td>251.169998</td>\n      <td>249.309998</td>\n      <td>24426200.0</td>\n      <td>249.309998</td>\n    </tr>\n    <tr>\n      <th>8875</th>\n      <td>2021-05-28</td>\n      <td>252.080002</td>\n      <td>249.559998</td>\n      <td>251.000000</td>\n      <td>249.679993</td>\n      <td>18270200.0</td>\n      <td>249.679993</td>\n    </tr>\n  </tbody>\n</table>\n<p>1257 rows × 7 columns</p>\n</div>"
     },
     "metadata": {},
     "execution_count": 62
    }
   ],
   "source": [
    "item = df_concat.iloc[0]['Symbol']\n",
    "df_data = DataReader(item,  \"yahoo\", datetime(1900,1,1), datetime.now())\n",
    "df_data.index.name = 'ds'\n",
    "df_data.reset_index(inplace=True)\n",
    "df_data = df_data.dropna()\n",
    "df_data = df_data.rename(columns={'Close' : 'y'})\n",
    "df_data = df_data[df_data['ds'] >= subtract_x_months( datetime.today(), 60 )]\n",
    "df_data\n",
    "#df_data[df_data]"
   ]
  },
  {
   "cell_type": "code",
   "execution_count": null,
   "metadata": {},
   "outputs": [],
   "source": [
    "numpy.polyfit(x, numpy.log(y), 1)"
   ]
  },
  {
   "source": [
    "## Exponential Growth"
   ],
   "cell_type": "markdown",
   "metadata": {}
  },
  {
   "source": [
    "### 5 Years"
   ],
   "cell_type": "markdown",
   "metadata": {}
  },
  {
   "cell_type": "code",
   "execution_count": 31,
   "metadata": {},
   "outputs": [
    {
     "output_type": "error",
     "ename": "TypeError",
     "evalue": "collect_tune_and_predict() missing 2 required positional arguments: 'fred' and 'n_ahead'",
     "traceback": [
      "\u001b[0;31m---------------------------------------------------------------------------\u001b[0m",
      "\u001b[0;31mTypeError\u001b[0m                                 Traceback (most recent call last)",
      "\u001b[0;32m<ipython-input-31-44c0fe7ed063>\u001b[0m in \u001b[0;36m<module>\u001b[0;34m\u001b[0m\n\u001b[0;32m----> 1\u001b[0;31m \u001b[0mcollect_tune_and_predict\u001b[0m\u001b[0;34m(\u001b[0m\u001b[0;34m'AAPL'\u001b[0m\u001b[0;34m)\u001b[0m\u001b[0;34m\u001b[0m\u001b[0;34m\u001b[0m\u001b[0m\n\u001b[0m",
      "\u001b[0;31mTypeError\u001b[0m: collect_tune_and_predict() missing 2 required positional arguments: 'fred' and 'n_ahead'"
     ]
    }
   ],
   "source": [
    "collect_tune_and_predict('MSFT')"
   ]
  },
  {
   "cell_type": "code",
   "execution_count": null,
   "metadata": {},
   "outputs": [],
   "source": []
  }
 ]
}