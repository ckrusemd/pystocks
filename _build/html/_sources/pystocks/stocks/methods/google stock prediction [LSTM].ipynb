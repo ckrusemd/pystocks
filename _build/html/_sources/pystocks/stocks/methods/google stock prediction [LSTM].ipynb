{
 "cells": [
  {
   "cell_type": "markdown",
   "metadata": {},
   "source": [
    "## importing dependencies \n",
    "\n"
   ]
  },
  {
   "cell_type": "code",
   "execution_count": 1,
   "metadata": {},
   "outputs": [],
   "source": [
    "import numpy as np \n",
    "import pandas as pd \n",
    "import matplotlib.pyplot as plt \n",
    "from sklearn.preprocessing import MinMaxScaler\n",
    "from keras.models import Sequential\n",
    "from keras.layers import Dense,LSTM,Dropout"
   ]
  },
  {
   "cell_type": "markdown",
   "metadata": {},
   "source": [
    "### importing the training data of GOOG historical prices"
   ]
  },
  {
   "cell_type": "code",
   "execution_count": 4,
   "metadata": {},
   "outputs": [],
   "source": [
    "data = pd.read_csv('trainData.csv') \n"
   ]
  },
  {
   "cell_type": "code",
   "execution_count": 5,
   "metadata": {},
   "outputs": [
    {
     "output_type": "stream",
     "name": "stdout",
     "text": [
      "<class 'pandas.core.frame.DataFrame'>\nRangeIndex: 1258 entries, 0 to 1257\nData columns (total 6 columns):\n #   Column  Non-Null Count  Dtype  \n---  ------  --------------  -----  \n 0   Date    1258 non-null   object \n 1   Open    1258 non-null   float64\n 2   High    1258 non-null   float64\n 3   Low     1258 non-null   float64\n 4   Close   1258 non-null   object \n 5   Volume  1258 non-null   object \ndtypes: float64(3), object(3)\nmemory usage: 59.1+ KB\n"
     ]
    }
   ],
   "source": [
    "data.info()"
   ]
  },
  {
   "cell_type": "markdown",
   "metadata": {},
   "source": [
    "## choosing the close column \n"
   ]
  },
  {
   "cell_type": "code",
   "execution_count": 6,
   "metadata": {},
   "outputs": [
    {
     "output_type": "execute_result",
     "data": {
      "text/plain": [
       "            Date    Open    High     Low   Close      Volume\n",
       "0       1/3/2012  325.25  332.83  324.97  663.59   7,380,500\n",
       "1       1/4/2012  331.27  333.87  329.08  666.45   5,749,400\n",
       "2       1/5/2012  329.83  330.75  326.89  657.21   6,590,300\n",
       "3       1/6/2012  328.34  328.77  323.68  648.24   5,405,900\n",
       "4       1/9/2012  322.04  322.29  309.46  620.76  11,688,800\n",
       "...          ...     ...     ...     ...     ...         ...\n",
       "1253  12/23/2016  790.90  792.74  787.28  789.91     623,400\n",
       "1254  12/27/2016  790.68  797.86  787.66  791.55     789,100\n",
       "1255  12/28/2016  793.70  794.23  783.20  785.05   1,153,800\n",
       "1256  12/29/2016  783.33  785.93  778.92  782.79     744,300\n",
       "1257  12/30/2016  782.75  782.78  770.41  771.82   1,770,000\n",
       "\n",
       "[1149 rows x 6 columns]"
      ],
      "text/html": "<div>\n<style scoped>\n    .dataframe tbody tr th:only-of-type {\n        vertical-align: middle;\n    }\n\n    .dataframe tbody tr th {\n        vertical-align: top;\n    }\n\n    .dataframe thead th {\n        text-align: right;\n    }\n</style>\n<table border=\"1\" class=\"dataframe\">\n  <thead>\n    <tr style=\"text-align: right;\">\n      <th></th>\n      <th>Date</th>\n      <th>Open</th>\n      <th>High</th>\n      <th>Low</th>\n      <th>Close</th>\n      <th>Volume</th>\n    </tr>\n  </thead>\n  <tbody>\n    <tr>\n      <th>0</th>\n      <td>1/3/2012</td>\n      <td>325.25</td>\n      <td>332.83</td>\n      <td>324.97</td>\n      <td>663.59</td>\n      <td>7,380,500</td>\n    </tr>\n    <tr>\n      <th>1</th>\n      <td>1/4/2012</td>\n      <td>331.27</td>\n      <td>333.87</td>\n      <td>329.08</td>\n      <td>666.45</td>\n      <td>5,749,400</td>\n    </tr>\n    <tr>\n      <th>2</th>\n      <td>1/5/2012</td>\n      <td>329.83</td>\n      <td>330.75</td>\n      <td>326.89</td>\n      <td>657.21</td>\n      <td>6,590,300</td>\n    </tr>\n    <tr>\n      <th>3</th>\n      <td>1/6/2012</td>\n      <td>328.34</td>\n      <td>328.77</td>\n      <td>323.68</td>\n      <td>648.24</td>\n      <td>5,405,900</td>\n    </tr>\n    <tr>\n      <th>4</th>\n      <td>1/9/2012</td>\n      <td>322.04</td>\n      <td>322.29</td>\n      <td>309.46</td>\n      <td>620.76</td>\n      <td>11,688,800</td>\n    </tr>\n    <tr>\n      <th>...</th>\n      <td>...</td>\n      <td>...</td>\n      <td>...</td>\n      <td>...</td>\n      <td>...</td>\n      <td>...</td>\n    </tr>\n    <tr>\n      <th>1253</th>\n      <td>12/23/2016</td>\n      <td>790.90</td>\n      <td>792.74</td>\n      <td>787.28</td>\n      <td>789.91</td>\n      <td>623,400</td>\n    </tr>\n    <tr>\n      <th>1254</th>\n      <td>12/27/2016</td>\n      <td>790.68</td>\n      <td>797.86</td>\n      <td>787.66</td>\n      <td>791.55</td>\n      <td>789,100</td>\n    </tr>\n    <tr>\n      <th>1255</th>\n      <td>12/28/2016</td>\n      <td>793.70</td>\n      <td>794.23</td>\n      <td>783.20</td>\n      <td>785.05</td>\n      <td>1,153,800</td>\n    </tr>\n    <tr>\n      <th>1256</th>\n      <td>12/29/2016</td>\n      <td>783.33</td>\n      <td>785.93</td>\n      <td>778.92</td>\n      <td>782.79</td>\n      <td>744,300</td>\n    </tr>\n    <tr>\n      <th>1257</th>\n      <td>12/30/2016</td>\n      <td>782.75</td>\n      <td>782.78</td>\n      <td>770.41</td>\n      <td>771.82</td>\n      <td>1,770,000</td>\n    </tr>\n  </tbody>\n</table>\n<p>1149 rows × 6 columns</p>\n</div>"
     },
     "metadata": {},
     "execution_count": 6
    }
   ],
   "source": [
    "data[\"Close\"]=pd.to_numeric(data.Close,errors='coerce') #turning the Close column to numeric\n",
    "data = data.dropna() #romeving the NA values\n",
    "data"
   ]
  },
  {
   "cell_type": "code",
   "execution_count": 8,
   "metadata": {},
   "outputs": [
    {
     "output_type": "execute_result",
     "data": {
      "text/plain": [
       "       Close\n",
       "0     663.59\n",
       "1     666.45\n",
       "2     657.21\n",
       "3     648.24\n",
       "4     620.76\n",
       "...      ...\n",
       "1253  789.91\n",
       "1254  791.55\n",
       "1255  785.05\n",
       "1256  782.79\n",
       "1257  771.82\n",
       "\n",
       "[1149 rows x 1 columns]"
      ],
      "text/html": "<div>\n<style scoped>\n    .dataframe tbody tr th:only-of-type {\n        vertical-align: middle;\n    }\n\n    .dataframe tbody tr th {\n        vertical-align: top;\n    }\n\n    .dataframe thead th {\n        text-align: right;\n    }\n</style>\n<table border=\"1\" class=\"dataframe\">\n  <thead>\n    <tr style=\"text-align: right;\">\n      <th></th>\n      <th>Close</th>\n    </tr>\n  </thead>\n  <tbody>\n    <tr>\n      <th>0</th>\n      <td>663.59</td>\n    </tr>\n    <tr>\n      <th>1</th>\n      <td>666.45</td>\n    </tr>\n    <tr>\n      <th>2</th>\n      <td>657.21</td>\n    </tr>\n    <tr>\n      <th>3</th>\n      <td>648.24</td>\n    </tr>\n    <tr>\n      <th>4</th>\n      <td>620.76</td>\n    </tr>\n    <tr>\n      <th>...</th>\n      <td>...</td>\n    </tr>\n    <tr>\n      <th>1253</th>\n      <td>789.91</td>\n    </tr>\n    <tr>\n      <th>1254</th>\n      <td>791.55</td>\n    </tr>\n    <tr>\n      <th>1255</th>\n      <td>785.05</td>\n    </tr>\n    <tr>\n      <th>1256</th>\n      <td>782.79</td>\n    </tr>\n    <tr>\n      <th>1257</th>\n      <td>771.82</td>\n    </tr>\n  </tbody>\n</table>\n<p>1149 rows × 1 columns</p>\n</div>"
     },
     "metadata": {},
     "execution_count": 8
    }
   ],
   "source": [
    "data.iloc[:,4:5]"
   ]
  },
  {
   "cell_type": "code",
   "execution_count": 7,
   "metadata": {},
   "outputs": [
    {
     "output_type": "execute_result",
     "data": {
      "text/plain": [
       "array([[663.59],\n",
       "       [666.45],\n",
       "       [657.21],\n",
       "       ...,\n",
       "       [785.05],\n",
       "       [782.79],\n",
       "       [771.82]])"
      ]
     },
     "metadata": {},
     "execution_count": 7
    }
   ],
   "source": [
    "trainData = data.iloc[:,4:5].values #selecting only the closing prices for training\n",
    "trainData"
   ]
  },
  {
   "cell_type": "markdown",
   "metadata": {},
   "source": [
    "## scaling the values in the range of 0-1 for best preformances "
   ]
  },
  {
   "cell_type": "code",
   "execution_count": 15,
   "metadata": {},
   "outputs": [
    {
     "output_type": "execute_result",
     "data": {
      "text/plain": [
       "(1149, 1)"
      ]
     },
     "metadata": {},
     "execution_count": 15
    }
   ],
   "source": [
    "sc = MinMaxScaler(feature_range=(0,1))\n",
    "trainData = sc.fit_transform(trainData)\n",
    "trainData.shape"
   ]
  },
  {
   "cell_type": "markdown",
   "metadata": {},
   "source": [
    "## preparing the data for LSTM\n",
    " since its a time series problem we took 60 as timestep for our learning : given *60 closing values* as an input data the *61st value* is our output"
   ]
  },
  {
   "cell_type": "code",
   "execution_count": 9,
   "metadata": {},
   "outputs": [],
   "source": [
    "X_train = []\n",
    "y_train = []\n",
    "\n",
    "for i in range (60,1149): #60 : timestep // 1149 : length of the data\n",
    "    X_train.append(trainData[i-60:i,0]) \n",
    "    y_train.append(trainData[i,0])\n",
    "\n",
    "X_train,y_train = np.array(X_train),np.array(y_train)"
   ]
  },
  {
   "cell_type": "code",
   "execution_count": 10,
   "metadata": {},
   "outputs": [
    {
     "output_type": "execute_result",
     "data": {
      "text/plain": [
       "array([[663.59, 666.45, 657.21, ..., 647.55, 645.25, 653.96],\n",
       "       [666.45, 657.21, 648.24, ..., 645.25, 653.96, 646.63],\n",
       "       [657.21, 648.24, 620.76, ..., 653.96, 646.63, 639.48],\n",
       "       ...,\n",
       "       [772.56, 776.43, 776.47, ..., 791.26, 789.91, 791.55],\n",
       "       [776.43, 776.47, 776.86, ..., 789.91, 791.55, 785.05],\n",
       "       [776.47, 776.86, 775.08, ..., 791.55, 785.05, 782.79]])"
      ]
     },
     "metadata": {},
     "execution_count": 10
    }
   ],
   "source": [
    "X_train"
   ]
  },
  {
   "cell_type": "code",
   "execution_count": 11,
   "metadata": {},
   "outputs": [
    {
     "output_type": "execute_result",
     "data": {
      "text/plain": [
       "array([646.63, 639.48, 645.15, ..., 785.05, 782.79, 771.82])"
      ]
     },
     "metadata": {},
     "execution_count": 11
    }
   ],
   "source": [
    "y_train"
   ]
  },
  {
   "cell_type": "markdown",
   "metadata": {},
   "source": [
    "ps : LSTM take a 3D tensor (seq_len,timestep,batch_size)"
   ]
  },
  {
   "cell_type": "code",
   "execution_count": 13,
   "metadata": {},
   "outputs": [
    {
     "output_type": "execute_result",
     "data": {
      "text/plain": [
       "array([[[663.59],\n",
       "        [666.45],\n",
       "        [657.21],\n",
       "        ...,\n",
       "        [647.55],\n",
       "        [645.25],\n",
       "        [653.96]],\n",
       "\n",
       "       [[666.45],\n",
       "        [657.21],\n",
       "        [648.24],\n",
       "        ...,\n",
       "        [645.25],\n",
       "        [653.96],\n",
       "        [646.63]],\n",
       "\n",
       "       [[657.21],\n",
       "        [648.24],\n",
       "        [620.76],\n",
       "        ...,\n",
       "        [653.96],\n",
       "        [646.63],\n",
       "        [639.48]],\n",
       "\n",
       "       ...,\n",
       "\n",
       "       [[772.56],\n",
       "        [776.43],\n",
       "        [776.47],\n",
       "        ...,\n",
       "        [791.26],\n",
       "        [789.91],\n",
       "        [791.55]],\n",
       "\n",
       "       [[776.43],\n",
       "        [776.47],\n",
       "        [776.86],\n",
       "        ...,\n",
       "        [789.91],\n",
       "        [791.55],\n",
       "        [785.05]],\n",
       "\n",
       "       [[776.47],\n",
       "        [776.86],\n",
       "        [775.08],\n",
       "        ...,\n",
       "        [791.55],\n",
       "        [785.05],\n",
       "        [782.79]]])"
      ]
     },
     "metadata": {},
     "execution_count": 13
    }
   ],
   "source": [
    "X_train"
   ]
  },
  {
   "cell_type": "code",
   "execution_count": 12,
   "metadata": {},
   "outputs": [
    {
     "output_type": "execute_result",
     "data": {
      "text/plain": [
       "(1089, 60, 1)"
      ]
     },
     "metadata": {},
     "execution_count": 12
    }
   ],
   "source": [
    "X_train = np.reshape(X_train,(X_train.shape[0],X_train.shape[1],1)) #adding the batch_size axis\n",
    "X_train.shape"
   ]
  },
  {
   "cell_type": "markdown",
   "metadata": {},
   "source": [
    "## building the model "
   ]
  },
  {
   "cell_type": "code",
   "execution_count": 8,
   "metadata": {},
   "outputs": [],
   "source": [
    "model = Sequential()\n",
    "\n",
    "model.add(LSTM(units=100, return_sequences = True, input_shape =(X_train.shape[1],1)))\n",
    "model.add(Dropout(0.2))\n",
    "\n",
    "model.add(LSTM(units=100, return_sequences = True))\n",
    "model.add(Dropout(0.2))\n",
    "\n",
    "model.add(LSTM(units=100, return_sequences = True))\n",
    "model.add(Dropout(0.2))\n",
    "\n",
    "model.add(LSTM(units=100, return_sequences = False))\n",
    "model.add(Dropout(0.2))\n",
    "\n",
    "model.add(Dense(units =1))\n",
    "model.compile(optimizer='adam',loss=\"mean_squared_error\")"
   ]
  },
  {
   "cell_type": "code",
   "execution_count": 9,
   "metadata": {},
   "outputs": [
    {
     "name": "stdout",
     "output_type": "stream",
     "text": [
      "Epoch 1/20\n",
      " - 24s - loss: 0.0423\n",
      "Epoch 2/20\n",
      " - 29s - loss: 0.0108\n",
      "Epoch 3/20\n",
      " - 14s - loss: 0.0093\n",
      "Epoch 4/20\n",
      " - 15s - loss: 0.0084\n",
      "Epoch 5/20\n",
      " - 15s - loss: 0.0086\n",
      "Epoch 6/20\n",
      " - 14s - loss: 0.0063\n",
      "Epoch 7/20\n",
      " - 15s - loss: 0.0068\n",
      "Epoch 8/20\n",
      " - 15s - loss: 0.0066\n",
      "Epoch 9/20\n",
      " - 17s - loss: 0.0063\n",
      "Epoch 10/20\n",
      " - 13s - loss: 0.0054\n",
      "Epoch 11/20\n",
      " - 14s - loss: 0.0072\n",
      "Epoch 12/20\n",
      " - 13s - loss: 0.0065\n",
      "Epoch 13/20\n",
      " - 16s - loss: 0.0071\n",
      "Epoch 14/20\n",
      " - 15s - loss: 0.0050\n",
      "Epoch 15/20\n",
      " - 13s - loss: 0.0049\n",
      "Epoch 16/20\n",
      " - 26s - loss: 0.0055\n",
      "Epoch 17/20\n",
      " - 14s - loss: 0.0047\n",
      "Epoch 18/20\n",
      " - 14s - loss: 0.0048\n",
      "Epoch 19/20\n",
      " - 14s - loss: 0.0044\n",
      "Epoch 20/20\n",
      " - 14s - loss: 0.0045\n"
     ]
    }
   ],
   "source": [
    "hist = model.fit(X_train, y_train, epochs = 20, batch_size = 32, verbose=2)"
   ]
  },
  {
   "cell_type": "markdown",
   "metadata": {},
   "source": [
    "### ploting the training loss\n"
   ]
  },
  {
   "cell_type": "code",
   "execution_count": 10,
   "metadata": {},
   "outputs": [
    {
     "data": {
      "image/png": "[encoded data removed]",
      "text/plain": [
       "<Figure size 432x288 with 1 Axes>"
      ]
     },
     "metadata": {
      "needs_background": "light"
     },
     "output_type": "display_data"
    }
   ],
   "source": [
    "plt.plot(hist.history['loss'])\n",
    "plt.title('model loss')\n",
    "plt.ylabel('loss')\n",
    "plt.xlabel('epoch')\n",
    "plt.legend(['train'], loc='upper left')\n",
    "plt.show()"
   ]
  },
  {
   "cell_type": "markdown",
   "metadata": {},
   "source": [
    "### testing the model on new data\n"
   ]
  },
  {
   "cell_type": "code",
   "execution_count": 32,
   "metadata": {},
   "outputs": [
    {
     "output_type": "stream",
     "name": "stdout",
     "text": [
      "252\n"
     ]
    },
    {
     "output_type": "execute_result",
     "data": {
      "text/plain": [
       "array([[1.72593747],\n",
       "       [1.74238903],\n",
       "       [1.67806758],\n",
       "       [1.65975958],\n",
       "       [1.6469277 ],\n",
       "       [1.66272977],\n",
       "       [1.64845924],\n",
       "       [1.66170864],\n",
       "       [1.65718397],\n",
       "       [1.69261654],\n",
       "       [1.74173925],\n",
       "       [1.71698075],\n",
       "       [1.75909609],\n",
       "       [1.73547428],\n",
       "       [1.68690816],\n",
       "       [1.637739  ],\n",
       "       [1.61332834],\n",
       "       [1.57842942],\n",
       "       [1.5630916 ],\n",
       "       [1.56265086],\n",
       "       [1.59216629],\n",
       "       [1.55842757],\n",
       "       [1.58745581],\n",
       "       [1.58095886],\n",
       "       [1.5427187 ],\n",
       "       [1.55471499],\n",
       "       [1.57761733],\n",
       "       [1.61423333],\n",
       "       [1.56601533],\n",
       "       [1.58290791],\n",
       "       [1.60908211],\n",
       "       [1.59942916],\n",
       "       [1.63226289],\n",
       "       [1.62954792],\n",
       "       [1.63381766],\n",
       "       [1.64495541],\n",
       "       [1.65154527],\n",
       "       [1.57088811],\n",
       "       [1.54573505],\n",
       "       [1.52629008],\n",
       "       [1.50273795],\n",
       "       [1.36908291],\n",
       "       [1.36467409],\n",
       "       [1.43604965],\n",
       "       [1.394677  ],\n",
       "       [1.46203831],\n",
       "       [1.44906706],\n",
       "       [1.38474562],\n",
       "       [1.4044458 ],\n",
       "       [1.41535185],\n",
       "       [1.42122225],\n",
       "       [1.29828745],\n",
       "       [1.40238061],\n",
       "       [1.346459  ],\n",
       "       [1.2272137 ],\n",
       "       [1.26464164],\n",
       "       [1.35875724],\n",
       "       [1.34304808],\n",
       "       [1.31471607],\n",
       "       [1.27364481],\n",
       "       [1.31012173],\n",
       "       [1.39732229],\n",
       "       [1.37182111],\n",
       "       [1.33411459],\n",
       "       [1.27025711],\n",
       "       [1.26427058],\n",
       "       [1.2819288 ],\n",
       "       [1.33077307],\n",
       "       [1.32330144],\n",
       "       [1.22702803],\n",
       "       [1.24039356],\n",
       "       [1.26789026],\n",
       "       [1.2360312 ],\n",
       "       [1.29343789],\n",
       "       [1.2836691 ],\n",
       "       [1.38070814],\n",
       "       [1.38551153],\n",
       "       [1.3997356 ],\n",
       "       [1.42758041],\n",
       "       [1.29854266],\n",
       "       [1.34010112],\n",
       "       [1.26550018],\n",
       "       [1.27239198],\n",
       "       [1.30070076],\n",
       "       [1.32838327],\n",
       "       [1.32425289],\n",
       "       [1.27830884],\n",
       "       [1.21897631],\n",
       "       [1.24723863],\n",
       "       [1.23401246],\n",
       "       [1.20245492],\n",
       "       [1.13314456],\n",
       "       [1.12544081],\n",
       "       [1.27218294],\n",
       "       [1.28243922],\n",
       "       [1.26666038],\n",
       "       [1.26324945],\n",
       "       [1.28701034],\n",
       "       [1.21788565],\n",
       "       [1.34469547],\n",
       "       [1.33931227],\n",
       "       [1.35762026],\n",
       "       [1.35386123],\n",
       "       [1.34381371],\n",
       "       [1.31332361],\n",
       "       [1.28431859],\n",
       "       [1.359639  ],\n",
       "       [1.36850281],\n",
       "       [1.38922411],\n",
       "       [1.40862263],\n",
       "       [1.34425473],\n",
       "       [1.35597259],\n",
       "       [1.3520977 ],\n",
       "       [1.39175327],\n",
       "       [1.34323361],\n",
       "       [1.32128271],\n",
       "       [1.38727506],\n",
       "       [1.45064506],\n",
       "       [1.43760442],\n",
       "       [1.48876937],\n",
       "       [1.51937532],\n",
       "       [1.44799977],\n",
       "       [1.4096667 ],\n",
       "       [1.40119746],\n",
       "       [1.40108133],\n",
       "       [1.46224706],\n",
       "       [1.45943947],\n",
       "       [1.4629433 ],\n",
       "       [1.44433364],\n",
       "       [1.45572689],\n",
       "       [1.44468175],\n",
       "       [1.40562923],\n",
       "       [1.43672265],\n",
       "       [1.43447193],\n",
       "       [1.44776779],\n",
       "       [1.44990266],\n",
       "       [1.4588826 ],\n",
       "       [1.50777332],\n",
       "       [1.52357539],\n",
       "       [1.55659465],\n",
       "       [1.54691847],\n",
       "       [1.51313358],\n",
       "       [1.51085935],\n",
       "       [1.58845371],\n",
       "       [1.62892136],\n",
       "       [1.6291998 ],\n",
       "       [1.61117052],\n",
       "       [1.60864108],\n",
       "       [1.60817712],\n",
       "       [1.64203169],\n",
       "       [1.70032015],\n",
       "       [1.71788574],\n",
       "       [1.65746241],\n",
       "       [1.6284574 ],\n",
       "       [1.60901243],\n",
       "       [1.58209583],\n",
       "       [1.57158435],\n",
       "       [1.58276884],\n",
       "       [1.6317757 ],\n",
       "       [1.64583718],\n",
       "       [1.65843708],\n",
       "       [1.67950622],\n",
       "       [1.66129113],\n",
       "       [1.65361047],\n",
       "       [1.6383191 ],\n",
       "       [1.64971235],\n",
       "       [1.65542045],\n",
       "       [1.68616576],\n",
       "       [1.69366061],\n",
       "       [1.70765269],\n",
       "       [1.7290235 ],\n",
       "       [1.72909318],\n",
       "       [1.75802851],\n",
       "       [1.7944822 ],\n",
       "       [1.77464266],\n",
       "       [1.79192953],\n",
       "       [1.81218687],\n",
       "       [1.84792082],\n",
       "       [1.61796914],\n",
       "       [1.5706329 ],\n",
       "       [1.55794038],\n",
       "       [1.61082241],\n",
       "       [1.62008078],\n",
       "       [1.58460176],\n",
       "       [1.56643313],\n",
       "       [1.55740673],\n",
       "       [1.56179232],\n",
       "       [1.48698262],\n",
       "       [1.46008897],\n",
       "       [1.56165296],\n",
       "       [1.59592533],\n",
       "       [1.5572212 ],\n",
       "       [1.50280763],\n",
       "       [1.52782162],\n",
       "       [1.53197523],\n",
       "       [1.5072629 ],\n",
       "       [1.49032386],\n",
       "       [1.49190186],\n",
       "       [1.45085382],\n",
       "       [1.45431119],\n",
       "       [1.42108317],\n",
       "       [1.26468809],\n",
       "       [1.3037174 ],\n",
       "       [1.27858727],\n",
       "       [1.28350651],\n",
       "       [1.33385938],\n",
       "       [1.36713385],\n",
       "       [1.36328191],\n",
       "       [1.35936056],\n",
       "       [1.38660205],\n",
       "       [1.37866618],\n",
       "       [1.3952571 ],\n",
       "       [1.4210135 ],\n",
       "       [1.41806654],\n",
       "       [1.43915919],\n",
       "       [1.46343049],\n",
       "       [1.44867278],\n",
       "       [1.38098658],\n",
       "       [1.36578812],\n",
       "       [1.35699371],\n",
       "       [1.36836373],\n",
       "       [1.40790317],\n",
       "       [1.43876462],\n",
       "       [1.46273426],\n",
       "       [1.4859615 ],\n",
       "       [1.45059861],\n",
       "       [1.47027556],\n",
       "       [1.50658989],\n",
       "       [1.51524494],\n",
       "       [1.51684617],\n",
       "       [1.52946901],\n",
       "       [1.53698709],\n",
       "       [1.52021064],\n",
       "       [1.52016418],\n",
       "       [1.48250412],\n",
       "       [1.50099765],\n",
       "       [1.51988575],\n",
       "       [1.50039461],\n",
       "       [1.48719138],\n",
       "       [1.7616717 ],\n",
       "       [1.73614729],\n",
       "       [1.70303512],\n",
       "       [1.68340462],\n",
       "       [1.66560704],\n",
       "       [1.63075457],\n",
       "       [1.53406336],\n",
       "       [1.57497204],\n",
       "       [1.58434655],\n",
       "       [1.65583824],\n",
       "       [1.61687862],\n",
       "       [1.58601717],\n",
       "       [1.63836556]])"
      ]
     },
     "metadata": {},
     "execution_count": 32
    }
   ],
   "source": [
    "print(len(inputClosing_scaled))\n",
    "inputClosing_scaled"
   ]
  },
  {
   "cell_type": "code",
   "execution_count": 33,
   "metadata": {},
   "outputs": [
    {
     "output_type": "execute_result",
     "data": {
      "text/plain": [
       "array([[1055.810059],\n",
       "       [1093.390015],\n",
       "       [1082.400024],\n",
       "       [1066.150024],\n",
       "       [1038.630005],\n",
       "       [1036.050049],\n",
       "       [1043.660034],\n",
       "       [1064.709961],\n",
       "       [1061.48999 ],\n",
       "       [1020.      ]])"
      ]
     },
     "metadata": {},
     "execution_count": 33
    }
   ],
   "source": [
    "testData = pd.read_csv('GOOG.csv') #importing the test data\n",
    "testData[\"Close\"]=pd.to_numeric(testData.Close,errors='coerce') #turning the close column to numerical type\n",
    "testData = testData.dropna() #droping the NA values\n",
    "testData = testData.iloc[:,4:5] #selecting the closing prices for testing\n",
    "y_test = testData.iloc[60:,0:].values #selecting the labels \n",
    "y_test[0:10]"
   ]
  },
  {
   "cell_type": "code",
   "execution_count": 34,
   "metadata": {},
   "outputs": [
    {
     "output_type": "execute_result",
     "data": {
      "text/plain": [
       "array([[1.72593747],\n",
       "       [1.74238903],\n",
       "       [1.67806758],\n",
       "       [1.65975958],\n",
       "       [1.6469277 ],\n",
       "       [1.66272977],\n",
       "       [1.64845924],\n",
       "       [1.66170864],\n",
       "       [1.65718397],\n",
       "       [1.69261654]])"
      ]
     },
     "metadata": {},
     "execution_count": 34
    }
   ],
   "source": [
    "#input array for the model\n",
    "inputClosing = testData.iloc[:,0:].values \n",
    "inputClosing_scaled = sc.transform(inputClosing)\n",
    "inputClosing_scaled[0:10]"
   ]
  },
  {
   "cell_type": "code",
   "execution_count": 35,
   "metadata": {},
   "outputs": [
    {
     "output_type": "execute_result",
     "data": {
      "text/plain": [
       "           Close\n",
       "0    1235.010010\n",
       "1    1242.099976\n",
       "2    1214.380005\n",
       "3    1206.489990\n",
       "4    1200.959961\n",
       "..           ...\n",
       "247  1173.989990\n",
       "248  1204.800049\n",
       "249  1188.010010\n",
       "250  1174.709961\n",
       "251  1197.270020\n",
       "\n",
       "[252 rows x 1 columns]"
      ],
      "text/html": "<div>\n<style scoped>\n    .dataframe tbody tr th:only-of-type {\n        vertical-align: middle;\n    }\n\n    .dataframe tbody tr th {\n        vertical-align: top;\n    }\n\n    .dataframe thead th {\n        text-align: right;\n    }\n</style>\n<table border=\"1\" class=\"dataframe\">\n  <thead>\n    <tr style=\"text-align: right;\">\n      <th></th>\n      <th>Close</th>\n    </tr>\n  </thead>\n  <tbody>\n    <tr>\n      <th>0</th>\n      <td>1235.010010</td>\n    </tr>\n    <tr>\n      <th>1</th>\n      <td>1242.099976</td>\n    </tr>\n    <tr>\n      <th>2</th>\n      <td>1214.380005</td>\n    </tr>\n    <tr>\n      <th>3</th>\n      <td>1206.489990</td>\n    </tr>\n    <tr>\n      <th>4</th>\n      <td>1200.959961</td>\n    </tr>\n    <tr>\n      <th>...</th>\n      <td>...</td>\n    </tr>\n    <tr>\n      <th>247</th>\n      <td>1173.989990</td>\n    </tr>\n    <tr>\n      <th>248</th>\n      <td>1204.800049</td>\n    </tr>\n    <tr>\n      <th>249</th>\n      <td>1188.010010</td>\n    </tr>\n    <tr>\n      <th>250</th>\n      <td>1174.709961</td>\n    </tr>\n    <tr>\n      <th>251</th>\n      <td>1197.270020</td>\n    </tr>\n  </tbody>\n</table>\n<p>252 rows × 1 columns</p>\n</div>"
     },
     "metadata": {},
     "execution_count": 35
    }
   ],
   "source": [
    "inputClosing_scaled.shape\n",
    "X_test = []\n",
    "length = len(testData)\n",
    "testData"
   ]
  },
  {
   "cell_type": "code",
   "execution_count": 36,
   "metadata": {},
   "outputs": [
    {
     "output_type": "execute_result",
     "data": {
      "text/plain": [
       "252"
      ]
     },
     "metadata": {},
     "execution_count": 36
    }
   ],
   "source": [
    "length"
   ]
  },
  {
   "cell_type": "code",
   "execution_count": 37,
   "metadata": {},
   "outputs": [
    {
     "output_type": "execute_result",
     "data": {
      "text/plain": [
       "60"
      ]
     },
     "metadata": {},
     "execution_count": 37
    }
   ],
   "source": [
    "timestep"
   ]
  },
  {
   "cell_type": "code",
   "execution_count": 38,
   "metadata": {},
   "outputs": [
    {
     "output_type": "stream",
     "name": "stdout",
     "text": [
      "192\n"
     ]
    },
    {
     "output_type": "execute_result",
     "data": {
      "text/plain": [
       "[array([1.72593747, 1.74238903, 1.67806758, 1.65975958, 1.6469277 ,\n",
       "        1.66272977, 1.64845924, 1.66170864, 1.65718397, 1.69261654,\n",
       "        1.74173925, 1.71698075, 1.75909609, 1.73547428, 1.68690816,\n",
       "        1.637739  , 1.61332834, 1.57842942, 1.5630916 , 1.56265086,\n",
       "        1.59216629, 1.55842757, 1.58745581, 1.58095886, 1.5427187 ,\n",
       "        1.55471499, 1.57761733, 1.61423333, 1.56601533, 1.58290791,\n",
       "        1.60908211, 1.59942916, 1.63226289, 1.62954792, 1.63381766,\n",
       "        1.64495541, 1.65154527, 1.57088811, 1.54573505, 1.52629008,\n",
       "        1.50273795, 1.36908291, 1.36467409, 1.43604965, 1.394677  ,\n",
       "        1.46203831, 1.44906706, 1.38474562, 1.4044458 , 1.41535185,\n",
       "        1.42122225, 1.29828745, 1.40238061, 1.346459  , 1.2272137 ,\n",
       "        1.26464164, 1.35875724, 1.34304808, 1.31471607, 1.27364481]),\n",
       " array([1.74238903, 1.67806758, 1.65975958, 1.6469277 , 1.66272977,\n",
       "        1.64845924, 1.66170864, 1.65718397, 1.69261654, 1.74173925,\n",
       "        1.71698075, 1.75909609, 1.73547428, 1.68690816, 1.637739  ,\n",
       "        1.61332834, 1.57842942, 1.5630916 , 1.56265086, 1.59216629,\n",
       "        1.55842757, 1.58745581, 1.58095886, 1.5427187 , 1.55471499,\n",
       "        1.57761733, 1.61423333, 1.56601533, 1.58290791, 1.60908211,\n",
       "        1.59942916, 1.63226289, 1.62954792, 1.63381766, 1.64495541,\n",
       "        1.65154527, 1.57088811, 1.54573505, 1.52629008, 1.50273795,\n",
       "        1.36908291, 1.36467409, 1.43604965, 1.394677  , 1.46203831,\n",
       "        1.44906706, 1.38474562, 1.4044458 , 1.41535185, 1.42122225,\n",
       "        1.29828745, 1.40238061, 1.346459  , 1.2272137 , 1.26464164,\n",
       "        1.35875724, 1.34304808, 1.31471607, 1.27364481, 1.31012173]),\n",
       " array([1.67806758, 1.65975958, 1.6469277 , 1.66272977, 1.64845924,\n",
       "        1.66170864, 1.65718397, 1.69261654, 1.74173925, 1.71698075,\n",
       "        1.75909609, 1.73547428, 1.68690816, 1.637739  , 1.61332834,\n",
       "        1.57842942, 1.5630916 , 1.56265086, 1.59216629, 1.55842757,\n",
       "        1.58745581, 1.58095886, 1.5427187 , 1.55471499, 1.57761733,\n",
       "        1.61423333, 1.56601533, 1.58290791, 1.60908211, 1.59942916,\n",
       "        1.63226289, 1.62954792, 1.63381766, 1.64495541, 1.65154527,\n",
       "        1.57088811, 1.54573505, 1.52629008, 1.50273795, 1.36908291,\n",
       "        1.36467409, 1.43604965, 1.394677  , 1.46203831, 1.44906706,\n",
       "        1.38474562, 1.4044458 , 1.41535185, 1.42122225, 1.29828745,\n",
       "        1.40238061, 1.346459  , 1.2272137 , 1.26464164, 1.35875724,\n",
       "        1.34304808, 1.31471607, 1.27364481, 1.31012173, 1.39732229])]"
      ]
     },
     "metadata": {},
     "execution_count": 38
    }
   ],
   "source": [
    "timestep = 60\n",
    "for i in range(timestep,length): #doing the same preivous preprocessing \n",
    "    X_test.append(inputClosing_scaled[i-timestep:i,0])\n",
    "print(len(X_test))\n",
    "X_test[0:3]"
   ]
  },
  {
   "cell_type": "code",
   "execution_count": 25,
   "metadata": {},
   "outputs": [
    {
     "output_type": "execute_result",
     "data": {
      "text/plain": [
       "array([[1.72593747, 1.74238903, 1.67806758, ..., 1.34304808, 1.31471607,\n",
       "        1.27364481],\n",
       "       [1.74238903, 1.67806758, 1.65975958, ..., 1.31471607, 1.27364481,\n",
       "        1.31012173],\n",
       "       [1.67806758, 1.65975958, 1.6469277 , ..., 1.27364481, 1.31012173,\n",
       "        1.39732229],\n",
       "       ...,\n",
       "       [1.56165296, 1.59592533, 1.5572212 , ..., 1.57497204, 1.58434655,\n",
       "        1.65583824],\n",
       "       [1.59592533, 1.5572212 , 1.50280763, ..., 1.58434655, 1.65583824,\n",
       "        1.61687862],\n",
       "       [1.5572212 , 1.50280763, 1.52782162, ..., 1.65583824, 1.61687862,\n",
       "        1.58601717]])"
      ]
     },
     "metadata": {},
     "execution_count": 25
    }
   ],
   "source": [
    "X_test = np.array(X_test)\n",
    "X_test"
   ]
  },
  {
   "cell_type": "code",
   "execution_count": 26,
   "metadata": {},
   "outputs": [
    {
     "output_type": "execute_result",
     "data": {
      "text/plain": [
       "array([[[1.72593747],\n",
       "        [1.74238903],\n",
       "        [1.67806758],\n",
       "        ...,\n",
       "        [1.34304808],\n",
       "        [1.31471607],\n",
       "        [1.27364481]],\n",
       "\n",
       "       [[1.74238903],\n",
       "        [1.67806758],\n",
       "        [1.65975958],\n",
       "        ...,\n",
       "        [1.31471607],\n",
       "        [1.27364481],\n",
       "        [1.31012173]],\n",
       "\n",
       "       [[1.67806758],\n",
       "        [1.65975958],\n",
       "        [1.6469277 ],\n",
       "        ...,\n",
       "        [1.27364481],\n",
       "        [1.31012173],\n",
       "        [1.39732229]],\n",
       "\n",
       "       ...,\n",
       "\n",
       "       [[1.56165296],\n",
       "        [1.59592533],\n",
       "        [1.5572212 ],\n",
       "        ...,\n",
       "        [1.57497204],\n",
       "        [1.58434655],\n",
       "        [1.65583824]],\n",
       "\n",
       "       [[1.59592533],\n",
       "        [1.5572212 ],\n",
       "        [1.50280763],\n",
       "        ...,\n",
       "        [1.58434655],\n",
       "        [1.65583824],\n",
       "        [1.61687862]],\n",
       "\n",
       "       [[1.5572212 ],\n",
       "        [1.50280763],\n",
       "        [1.52782162],\n",
       "        ...,\n",
       "        [1.65583824],\n",
       "        [1.61687862],\n",
       "        [1.58601717]]])"
      ]
     },
     "metadata": {},
     "execution_count": 26
    }
   ],
   "source": [
    "X_test = np.reshape(X_test,(X_test.shape[0],X_test.shape[1],1))\n",
    "X_test"
   ]
  },
  {
   "cell_type": "code",
   "execution_count": 39,
   "metadata": {},
   "outputs": [
    {
     "output_type": "error",
     "ename": "NameError",
     "evalue": "name 'model' is not defined",
     "traceback": [
      "\u001b[0;31m---------------------------------------------------------------------------\u001b[0m",
      "\u001b[0;31mNameError\u001b[0m                                 Traceback (most recent call last)",
      "\u001b[0;32m<ipython-input-39-ded164db49b9>\u001b[0m in \u001b[0;36m<module>\u001b[0;34m\u001b[0m\n\u001b[0;32m----> 1\u001b[0;31m \u001b[0my_pred\u001b[0m \u001b[0;34m=\u001b[0m \u001b[0mmodel\u001b[0m\u001b[0;34m.\u001b[0m\u001b[0mpredict\u001b[0m\u001b[0;34m(\u001b[0m\u001b[0mX_test\u001b[0m\u001b[0;34m)\u001b[0m \u001b[0;31m#predicting the new values\u001b[0m\u001b[0;34m\u001b[0m\u001b[0;34m\u001b[0m\u001b[0m\n\u001b[0m",
      "\u001b[0;31mNameError\u001b[0m: name 'model' is not defined"
     ]
    }
   ],
   "source": [
    "y_pred = model.predict(X_test) #predicting the new values"
   ]
  },
  {
   "cell_type": "code",
   "execution_count": 13,
   "metadata": {},
   "outputs": [],
   "source": [
    "predicted_price = sc.inverse_transform(y_pred) #inversing the scaling transformation for ploting "
   ]
  },
  {
   "cell_type": "markdown",
   "metadata": {},
   "source": [
    "### ploting the results"
   ]
  },
  {
   "cell_type": "code",
   "execution_count": 14,
   "metadata": {},
   "outputs": [
    {
     "data": {
      "image/png": "[encoded data removed]",
      "text/plain": [
       "<Figure size 432x288 with 1 Axes>"
      ]
     },
     "metadata": {
      "needs_background": "light"
     },
     "output_type": "display_data"
    }
   ],
   "source": [
    "plt.plot(y_test, color = 'blue', label = 'Actual Stock Price')\n",
    "plt.plot(predicted_price, color = 'red', label = 'Predicted Stock Price')\n",
    "plt.title('GOOG stock price prediction')\n",
    "plt.xlabel('Time')\n",
    "plt.ylabel('Stock Price')\n",
    "plt.legend()\n",
    "plt.show()"
   ]
  }
 ],
 "metadata": {
  "kernelspec": {
   "display_name": "Python 3",
   "language": "python",
   "name": "python3"
  },
  "language_info": {
   "codemirror_mode": {
    "name": "ipython",
    "version": 3
   },
   "file_extension": ".py",
   "mimetype": "text/x-python",
   "name": "python",
   "nbconvert_exporter": "python",
   "pygments_lexer": "ipython3",
   "version": "3.9.5"
  }
 },
 "nbformat": 4,
 "nbformat_minor": 2
}