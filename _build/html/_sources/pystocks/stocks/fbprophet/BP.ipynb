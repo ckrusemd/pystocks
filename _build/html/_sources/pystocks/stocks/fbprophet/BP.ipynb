{
 "cells": [
  {
   "cell_type": "markdown",
   "id": "ef4952c5",
   "metadata": {},
   "source": [
    "# (BP): BP p.l.c. Common Stock"
   ]
  },
  {
   "cell_type": "code",
   "execution_count": null,
   "id": "d3cb854c",
   "metadata": {},
   "outputs": [],
   "source": [
    "    from functions import *\n",
    "    collect_tune_and_predict('BP',n_ahead = 365)"
   ]
  }
 ],
 "metadata": {},
 "nbformat": 4,
 "nbformat_minor": 5
}
