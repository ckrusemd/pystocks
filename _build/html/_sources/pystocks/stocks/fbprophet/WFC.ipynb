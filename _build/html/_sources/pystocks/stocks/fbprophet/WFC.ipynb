{
 "cells": [
  {
   "cell_type": "markdown",
   "id": "5e0903ae",
   "metadata": {},
   "source": [
    "# (WFC): Wells Fargo & Company Common Stock"
   ]
  },
  {
   "cell_type": "code",
   "execution_count": null,
   "id": "194d9bd7",
   "metadata": {},
   "outputs": [],
   "source": [
    "    from functions import *\n",
    "    collect_tune_and_predict('WFC',n_ahead = 365)"
   ]
  }
 ],
 "metadata": {},
 "nbformat": 4,
 "nbformat_minor": 5
}
