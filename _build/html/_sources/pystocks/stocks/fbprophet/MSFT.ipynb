{
 "cells": [
  {
   "cell_type": "markdown",
   "id": "dd36767b",
   "metadata": {},
   "source": [
    "# (MSFT): Microsoft Corporation Common Stock"
   ]
  },
  {
   "cell_type": "code",
   "execution_count": null,
   "id": "4695ace4",
   "metadata": {},
   "outputs": [],
   "source": [
    "    from functions import *\n",
    "    collect_tune_and_predict('MSFT',n_ahead = 365)"
   ]
  }
 ],
 "metadata": {},
 "nbformat": 4,
 "nbformat_minor": 5
}
