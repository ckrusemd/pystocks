{
 "cells": [
  {
   "cell_type": "markdown",
   "id": "d804defa",
   "metadata": {},
   "source": [
    "# (JPM): JP Morgan Chase & Co. Common Stock"
   ]
  },
  {
   "cell_type": "code",
   "execution_count": null,
   "id": "42cdde9d",
   "metadata": {},
   "outputs": [],
   "source": [
    "    from functions import *\n",
    "    collect_tune_and_predict('JPM',n_ahead = 365)"
   ]
  }
 ],
 "metadata": {},
 "nbformat": 4,
 "nbformat_minor": 5
}
