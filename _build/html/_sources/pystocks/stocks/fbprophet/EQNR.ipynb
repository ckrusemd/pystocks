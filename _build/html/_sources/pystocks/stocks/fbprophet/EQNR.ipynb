{
 "cells": [
  {
   "cell_type": "markdown",
   "id": "3f02a793",
   "metadata": {},
   "source": [
    "# (EQNR): Equinor ASA"
   ]
  },
  {
   "cell_type": "code",
   "execution_count": null,
   "id": "90af79e6",
   "metadata": {},
   "outputs": [],
   "source": [
    "    from functions import *\n",
    "    collect_tune_and_predict('EQNR',n_ahead = 365)"
   ]
  }
 ],
 "metadata": {},
 "nbformat": 4,
 "nbformat_minor": 5
}
