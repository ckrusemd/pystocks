{
 "cells": [
  {
   "cell_type": "markdown",
   "id": "c8ae08bf",
   "metadata": {},
   "source": [
    "# (EQNR): Equinor ASA"
   ]
  },
  {
   "cell_type": "code",
   "execution_count": null,
   "id": "54d8bd66",
   "metadata": {},
   "outputs": [],
   "source": [
    "    from functions import *\n",
    "    collect_tune_and_predict('EQNR',n_ahead = 365)"
   ]
  }
 ],
 "metadata": {},
 "nbformat": 4,
 "nbformat_minor": 5
}
