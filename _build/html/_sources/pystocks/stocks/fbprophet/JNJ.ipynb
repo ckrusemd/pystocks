{
 "cells": [
  {
   "cell_type": "markdown",
   "id": "b5165041",
   "metadata": {},
   "source": [
    "# (JNJ): Johnson & Johnson Common Stock"
   ]
  },
  {
   "cell_type": "code",
   "execution_count": null,
   "id": "594f9360",
   "metadata": {},
   "outputs": [],
   "source": [
    "    from functions import *\n",
    "    collect_tune_and_predict('JNJ',n_ahead = 365)"
   ]
  }
 ],
 "metadata": {},
 "nbformat": 4,
 "nbformat_minor": 5
}
