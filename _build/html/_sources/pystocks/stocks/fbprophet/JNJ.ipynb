{
 "cells": [
  {
   "cell_type": "markdown",
   "id": "432be86f",
   "metadata": {},
   "source": [
    "# (JNJ): Johnson & Johnson Common Stock"
   ]
  },
  {
   "cell_type": "code",
   "execution_count": null,
   "id": "2dfc2221",
   "metadata": {},
   "outputs": [],
   "source": [
    "    from functions import *\n",
    "    collect_tune_and_predict('JNJ',n_ahead = 365)"
   ]
  }
 ],
 "metadata": {},
 "nbformat": 4,
 "nbformat_minor": 5
}
