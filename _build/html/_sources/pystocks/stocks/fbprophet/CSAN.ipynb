{
 "cells": [
  {
   "cell_type": "markdown",
   "id": "efab412c",
   "metadata": {},
   "source": [
    "# (CSAN): Cosan S.A. ADS"
   ]
  },
  {
   "cell_type": "code",
   "execution_count": null,
   "id": "1d5b829a",
   "metadata": {},
   "outputs": [],
   "source": [
    "    from functions import *\n",
    "    collect_tune_and_predict('CSAN',n_ahead = 365)"
   ]
  }
 ],
 "metadata": {},
 "nbformat": 4,
 "nbformat_minor": 5
}
