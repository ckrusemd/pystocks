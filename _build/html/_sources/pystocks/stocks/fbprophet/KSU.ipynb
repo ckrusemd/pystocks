{
 "cells": [
  {
   "cell_type": "markdown",
   "id": "eb2d7a68",
   "metadata": {},
   "source": [
    "# (KSU): Kansas City Southern Common Stock"
   ]
  },
  {
   "cell_type": "code",
   "execution_count": null,
   "id": "61c74b7b",
   "metadata": {},
   "outputs": [],
   "source": [
    "    from functions import *\n",
    "    collect_tune_and_predict('KSU',n_ahead = 365)"
   ]
  }
 ],
 "metadata": {},
 "nbformat": 4,
 "nbformat_minor": 5
}
