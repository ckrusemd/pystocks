{
 "cells": [
  {
   "cell_type": "markdown",
   "id": "e221f737",
   "metadata": {},
   "source": [
    "# (FDX): FedEx Corporation Common Stock"
   ]
  },
  {
   "cell_type": "code",
   "execution_count": null,
   "id": "7b967b29",
   "metadata": {},
   "outputs": [],
   "source": [
    "    from functions import *\n",
    "    collect_tune_and_predict('FDX',n_ahead = 365)"
   ]
  }
 ],
 "metadata": {},
 "nbformat": 4,
 "nbformat_minor": 5
}
