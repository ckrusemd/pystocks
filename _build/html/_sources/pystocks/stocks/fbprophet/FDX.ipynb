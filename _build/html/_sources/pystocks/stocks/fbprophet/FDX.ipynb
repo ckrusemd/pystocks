{
 "cells": [
  {
   "cell_type": "markdown",
   "id": "7744be23",
   "metadata": {},
   "source": [
    "# (FDX): FedEx Corporation Common Stock"
   ]
  },
  {
   "cell_type": "code",
   "execution_count": null,
   "id": "428c412e",
   "metadata": {},
   "outputs": [],
   "source": [
    "    from functions import *\n",
    "    collect_tune_and_predict('FDX',n_ahead = 365)"
   ]
  }
 ],
 "metadata": {},
 "nbformat": 4,
 "nbformat_minor": 5
}
