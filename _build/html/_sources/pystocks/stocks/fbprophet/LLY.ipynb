{
 "cells": [
  {
   "cell_type": "markdown",
   "id": "9edbe609",
   "metadata": {},
   "source": [
    "# (LLY): Eli Lilly and Company Common Stock"
   ]
  },
  {
   "cell_type": "code",
   "execution_count": null,
   "id": "6fd533ab",
   "metadata": {},
   "outputs": [],
   "source": [
    "    from functions import *\n",
    "    collect_tune_and_predict('LLY',n_ahead = 365)"
   ]
  }
 ],
 "metadata": {},
 "nbformat": 4,
 "nbformat_minor": 5
}
