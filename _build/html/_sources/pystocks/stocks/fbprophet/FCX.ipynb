{
 "cells": [
  {
   "cell_type": "markdown",
   "id": "c7d99edc",
   "metadata": {},
   "source": [
    "# (FCX): Freeport-McMoRan Inc. Common Stock"
   ]
  },
  {
   "cell_type": "code",
   "execution_count": null,
   "id": "d83879b4",
   "metadata": {},
   "outputs": [],
   "source": [
    "    from functions import *\n",
    "    collect_tune_and_predict('FCX',n_ahead = 365)"
   ]
  }
 ],
 "metadata": {},
 "nbformat": 4,
 "nbformat_minor": 5
}
