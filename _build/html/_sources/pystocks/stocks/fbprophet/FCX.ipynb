{
 "cells": [
  {
   "cell_type": "markdown",
   "id": "054be326",
   "metadata": {},
   "source": [
    "# (FCX): Freeport-McMoRan Inc. Common Stock"
   ]
  },
  {
   "cell_type": "code",
   "execution_count": null,
   "id": "4dd49268",
   "metadata": {},
   "outputs": [],
   "source": [
    "    from functions import *\n",
    "    collect_tune_and_predict('FCX',n_ahead = 365)"
   ]
  }
 ],
 "metadata": {},
 "nbformat": 4,
 "nbformat_minor": 5
}
