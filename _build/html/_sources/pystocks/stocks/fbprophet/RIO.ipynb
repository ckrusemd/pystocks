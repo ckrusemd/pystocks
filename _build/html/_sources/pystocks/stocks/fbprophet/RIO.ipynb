{
 "cells": [
  {
   "cell_type": "markdown",
   "id": "6e67ae0a",
   "metadata": {},
   "source": [
    "# (RIO): Rio Tinto Plc Common Stock"
   ]
  },
  {
   "cell_type": "code",
   "execution_count": null,
   "id": "6e882d69",
   "metadata": {},
   "outputs": [],
   "source": [
    "    from functions import *\n",
    "    collect_tune_and_predict('RIO',n_ahead = 365)"
   ]
  }
 ],
 "metadata": {},
 "nbformat": 4,
 "nbformat_minor": 5
}
