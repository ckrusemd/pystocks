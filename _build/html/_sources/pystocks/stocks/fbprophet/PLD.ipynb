{
 "cells": [
  {
   "cell_type": "markdown",
   "id": "66d2e568",
   "metadata": {},
   "source": [
    "# (PLD): Prologis Inc. Common Stock"
   ]
  },
  {
   "cell_type": "code",
   "execution_count": null,
   "id": "b0ae6f2e",
   "metadata": {},
   "outputs": [],
   "source": [
    "    from functions import *\n",
    "    collect_tune_and_predict('PLD',n_ahead = 365)"
   ]
  }
 ],
 "metadata": {},
 "nbformat": 4,
 "nbformat_minor": 5
}
