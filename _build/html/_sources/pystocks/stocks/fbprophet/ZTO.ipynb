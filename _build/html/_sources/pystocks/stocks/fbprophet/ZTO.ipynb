{
 "cells": [
  {
   "cell_type": "markdown",
   "id": "a60200a5",
   "metadata": {},
   "source": [
    "# (ZTO): ZTO Express (Cayman) Inc. American Depositary Shares each representing one Class A ordinary share."
   ]
  },
  {
   "cell_type": "code",
   "execution_count": null,
   "id": "bba5f7da",
   "metadata": {},
   "outputs": [],
   "source": [
    "    from functions import *\n",
    "    collect_tune_and_predict('ZTO',n_ahead = 365)"
   ]
  }
 ],
 "metadata": {},
 "nbformat": 4,
 "nbformat_minor": 5
}
