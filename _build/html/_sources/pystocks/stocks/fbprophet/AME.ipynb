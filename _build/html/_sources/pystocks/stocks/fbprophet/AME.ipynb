{
 "cells": [
  {
   "cell_type": "markdown",
   "id": "201a5c09",
   "metadata": {},
   "source": [
    "# (AME): AMETEK Inc."
   ]
  },
  {
   "cell_type": "code",
   "execution_count": null,
   "id": "e36d9e3a",
   "metadata": {},
   "outputs": [],
   "source": [
    "    from functions import *\n",
    "    collect_tune_and_predict('AME',n_ahead = 365)"
   ]
  }
 ],
 "metadata": {},
 "nbformat": 4,
 "nbformat_minor": 5
}
