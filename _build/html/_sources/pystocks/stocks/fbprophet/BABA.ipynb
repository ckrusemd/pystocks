{
 "cells": [
  {
   "cell_type": "markdown",
   "id": "c0ce802a",
   "metadata": {},
   "source": [
    "# (BABA): Alibaba Group Holding Limited American Depositary Shares each representing eight Ordinary share"
   ]
  },
  {
   "cell_type": "code",
   "execution_count": null,
   "id": "6f6d7f29",
   "metadata": {},
   "outputs": [],
   "source": [
    "    from functions import *\n",
    "    collect_tune_and_predict('BABA',n_ahead = 365)"
   ]
  }
 ],
 "metadata": {},
 "nbformat": 4,
 "nbformat_minor": 5
}
