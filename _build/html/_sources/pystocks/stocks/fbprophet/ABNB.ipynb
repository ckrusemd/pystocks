{
 "cells": [
  {
   "cell_type": "markdown",
   "id": "35610aae",
   "metadata": {},
   "source": [
    "# (ABNB): Airbnb Inc. Class A Common Stock"
   ]
  },
  {
   "cell_type": "code",
   "execution_count": null,
   "id": "6d7bfbd1",
   "metadata": {},
   "outputs": [],
   "source": [
    "    from functions import *\n",
    "    collect_tune_and_predict('ABNB',n_ahead = 365)"
   ]
  }
 ],
 "metadata": {},
 "nbformat": 4,
 "nbformat_minor": 5
}
