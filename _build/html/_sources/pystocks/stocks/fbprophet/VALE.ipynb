{
 "cells": [
  {
   "cell_type": "markdown",
   "id": "c00e1359",
   "metadata": {},
   "source": [
    "# (VALE): VALE S.A.  American Depositary Shares Each Representing one common share"
   ]
  },
  {
   "cell_type": "code",
   "execution_count": null,
   "id": "81aec18f",
   "metadata": {},
   "outputs": [],
   "source": [
    "    from functions import *\n",
    "    collect_tune_and_predict('VALE',n_ahead = 365)"
   ]
  }
 ],
 "metadata": {},
 "nbformat": 4,
 "nbformat_minor": 5
}
