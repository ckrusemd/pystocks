{
 "cells": [
  {
   "cell_type": "markdown",
   "id": "9695a230",
   "metadata": {},
   "source": [
    "# (SCHW): Charles Schwab Corporation (The) Common Stock"
   ]
  },
  {
   "cell_type": "code",
   "execution_count": null,
   "id": "4f856b4f",
   "metadata": {},
   "outputs": [],
   "source": [
    "    from functions import *\n",
    "    collect_tune_and_predict('SCHW',n_ahead = 365)"
   ]
  }
 ],
 "metadata": {},
 "nbformat": 4,
 "nbformat_minor": 5
}
