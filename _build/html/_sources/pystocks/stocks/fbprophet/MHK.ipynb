{
 "cells": [
  {
   "cell_type": "markdown",
   "id": "15522721",
   "metadata": {},
   "source": [
    "# (MHK): Mohawk Industries Inc. Common Stock"
   ]
  },
  {
   "cell_type": "code",
   "execution_count": null,
   "id": "d0b65ee4",
   "metadata": {},
   "outputs": [],
   "source": [
    "    from functions import *\n",
    "    collect_tune_and_predict('MHK',n_ahead = 365)"
   ]
  }
 ],
 "metadata": {},
 "nbformat": 4,
 "nbformat_minor": 5
}
