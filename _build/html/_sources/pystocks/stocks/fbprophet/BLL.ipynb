{
 "cells": [
  {
   "cell_type": "markdown",
   "id": "a7546927",
   "metadata": {},
   "source": [
    "# (BLL): Ball Corporation Common Stock"
   ]
  },
  {
   "cell_type": "code",
   "execution_count": null,
   "id": "3c3f7d6a",
   "metadata": {},
   "outputs": [],
   "source": [
    "    from functions import *\n",
    "    collect_tune_and_predict('BLL',n_ahead = 365)"
   ]
  }
 ],
 "metadata": {},
 "nbformat": 4,
 "nbformat_minor": 5
}
