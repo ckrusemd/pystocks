{
 "cells": [
  {
   "cell_type": "markdown",
   "id": "a1e4c3eb",
   "metadata": {},
   "source": [
    "# (FERG): Ferguson plc Ordinary Shares"
   ]
  },
  {
   "cell_type": "code",
   "execution_count": null,
   "id": "0686d52e",
   "metadata": {},
   "outputs": [],
   "source": [
    "    from functions import *\n",
    "    collect_tune_and_predict('FERG',n_ahead = 365)"
   ]
  }
 ],
 "metadata": {},
 "nbformat": 4,
 "nbformat_minor": 5
}
