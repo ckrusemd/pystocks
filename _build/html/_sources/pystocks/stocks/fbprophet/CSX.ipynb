{
 "cells": [
  {
   "cell_type": "markdown",
   "id": "540dcb86",
   "metadata": {},
   "source": [
    "# (CSX): CSX Corporation Common Stock"
   ]
  },
  {
   "cell_type": "code",
   "execution_count": null,
   "id": "873c5fac",
   "metadata": {},
   "outputs": [],
   "source": [
    "    from functions import *\n",
    "    collect_tune_and_predict('CSX',n_ahead = 365)"
   ]
  }
 ],
 "metadata": {},
 "nbformat": 4,
 "nbformat_minor": 5
}
