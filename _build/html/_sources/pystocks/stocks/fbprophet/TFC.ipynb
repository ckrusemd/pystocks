{
 "cells": [
  {
   "cell_type": "markdown",
   "id": "c1729273",
   "metadata": {},
   "source": [
    "# (TFC): Truist Financial Corporation Common Stock"
   ]
  },
  {
   "cell_type": "code",
   "execution_count": null,
   "id": "1829bc48",
   "metadata": {},
   "outputs": [],
   "source": [
    "    from functions import *\n",
    "    collect_tune_and_predict('TFC',n_ahead = 365)"
   ]
  }
 ],
 "metadata": {},
 "nbformat": 4,
 "nbformat_minor": 5
}
