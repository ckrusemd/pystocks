{
 "cells": [
  {
   "cell_type": "markdown",
   "id": "a5fcb50f",
   "metadata": {},
   "source": [
    "# (CNQ): Canadian Natural Resources Limited Common Stock"
   ]
  },
  {
   "cell_type": "code",
   "execution_count": null,
   "id": "9e4f217f",
   "metadata": {},
   "outputs": [],
   "source": [
    "    from functions import *\n",
    "    collect_tune_and_predict('CNQ',n_ahead = 365)"
   ]
  }
 ],
 "metadata": {},
 "nbformat": 4,
 "nbformat_minor": 5
}
