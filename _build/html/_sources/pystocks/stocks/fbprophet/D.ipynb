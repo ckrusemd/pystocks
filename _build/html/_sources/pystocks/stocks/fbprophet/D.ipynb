{
 "cells": [
  {
   "cell_type": "markdown",
   "id": "139b2a62",
   "metadata": {},
   "source": [
    "# (D): Dominion Energy Inc. Common Stock"
   ]
  },
  {
   "cell_type": "code",
   "execution_count": null,
   "id": "6346abbb",
   "metadata": {},
   "outputs": [],
   "source": [
    "    from functions import *\n",
    "    collect_tune_and_predict('D',n_ahead = 365)"
   ]
  }
 ],
 "metadata": {},
 "nbformat": 4,
 "nbformat_minor": 5
}
