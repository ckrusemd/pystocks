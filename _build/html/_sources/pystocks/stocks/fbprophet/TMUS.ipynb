{
 "cells": [
  {
   "cell_type": "markdown",
   "id": "c63ca080",
   "metadata": {},
   "source": [
    "# (TMUS): T-Mobile US Inc. Common Stock"
   ]
  },
  {
   "cell_type": "code",
   "execution_count": null,
   "id": "d0414ac1",
   "metadata": {},
   "outputs": [],
   "source": [
    "    from functions import *\n",
    "    collect_tune_and_predict('TMUS',n_ahead = 365)"
   ]
  }
 ],
 "metadata": {},
 "nbformat": 4,
 "nbformat_minor": 5
}
