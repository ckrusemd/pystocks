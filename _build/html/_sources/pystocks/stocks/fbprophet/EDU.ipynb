{
 "cells": [
  {
   "cell_type": "markdown",
   "id": "229f1ad2",
   "metadata": {},
   "source": [
    "# (EDU): New Oriental Education & Technology Group Inc. Sponsored ADR representing 1 Ordinary Share (Cayman Islands)"
   ]
  },
  {
   "cell_type": "code",
   "execution_count": null,
   "id": "05e23219",
   "metadata": {},
   "outputs": [],
   "source": [
    "    from functions import *\n",
    "    collect_tune_and_predict('EDU',n_ahead = 365)"
   ]
  }
 ],
 "metadata": {},
 "nbformat": 4,
 "nbformat_minor": 5
}
