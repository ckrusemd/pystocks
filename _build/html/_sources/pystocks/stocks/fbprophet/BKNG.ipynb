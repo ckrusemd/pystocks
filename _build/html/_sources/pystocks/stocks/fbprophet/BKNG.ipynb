{
 "cells": [
  {
   "cell_type": "markdown",
   "id": "0ed4e66a",
   "metadata": {},
   "source": [
    "# (BKNG): Booking Holdings Inc. Common Stock"
   ]
  },
  {
   "cell_type": "code",
   "execution_count": null,
   "id": "3fe8f20b",
   "metadata": {},
   "outputs": [],
   "source": [
    "    from functions import *\n",
    "    collect_tune_and_predict('BKNG',n_ahead = 365)"
   ]
  }
 ],
 "metadata": {},
 "nbformat": 4,
 "nbformat_minor": 5
}
