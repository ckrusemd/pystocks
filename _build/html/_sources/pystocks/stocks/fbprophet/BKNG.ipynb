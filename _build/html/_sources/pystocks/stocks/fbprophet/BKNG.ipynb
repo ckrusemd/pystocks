{
 "cells": [
  {
   "cell_type": "markdown",
   "id": "45ba8e4d",
   "metadata": {},
   "source": [
    "# (BKNG): Booking Holdings Inc. Common Stock"
   ]
  },
  {
   "cell_type": "code",
   "execution_count": null,
   "id": "db3f5370",
   "metadata": {},
   "outputs": [],
   "source": [
    "    from functions import *\n",
    "    collect_tune_and_predict('BKNG',n_ahead = 365)"
   ]
  }
 ],
 "metadata": {},
 "nbformat": 4,
 "nbformat_minor": 5
}
