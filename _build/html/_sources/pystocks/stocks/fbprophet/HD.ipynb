{
 "cells": [
  {
   "cell_type": "markdown",
   "id": "c0f2d602",
   "metadata": {},
   "source": [
    "# (HD): Home Depot Inc. (The) Common Stock"
   ]
  },
  {
   "cell_type": "code",
   "execution_count": null,
   "id": "d527f51b",
   "metadata": {},
   "outputs": [],
   "source": [
    "    from functions import *\n",
    "    collect_tune_and_predict('HD',n_ahead = 365)"
   ]
  }
 ],
 "metadata": {},
 "nbformat": 4,
 "nbformat_minor": 5
}
