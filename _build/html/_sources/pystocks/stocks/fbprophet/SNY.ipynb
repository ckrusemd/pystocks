{
 "cells": [
  {
   "cell_type": "markdown",
   "id": "efe46e3a",
   "metadata": {},
   "source": [
    "# (SNY): Sanofi ADR"
   ]
  },
  {
   "cell_type": "code",
   "execution_count": null,
   "id": "94806b3f",
   "metadata": {},
   "outputs": [],
   "source": [
    "    from functions import *\n",
    "    collect_tune_and_predict('SNY',n_ahead = 365)"
   ]
  }
 ],
 "metadata": {},
 "nbformat": 4,
 "nbformat_minor": 5
}
