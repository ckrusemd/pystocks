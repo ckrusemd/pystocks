{
 "cells": [
  {
   "cell_type": "markdown",
   "id": "de9a1f1a",
   "metadata": {},
   "source": [
    "# (DEO): Diageo plc Common Stock"
   ]
  },
  {
   "cell_type": "code",
   "execution_count": null,
   "id": "495444d3",
   "metadata": {},
   "outputs": [],
   "source": [
    "    from functions import *\n",
    "    collect_tune_and_predict('DEO',n_ahead = 365)"
   ]
  }
 ],
 "metadata": {},
 "nbformat": 4,
 "nbformat_minor": 5
}
