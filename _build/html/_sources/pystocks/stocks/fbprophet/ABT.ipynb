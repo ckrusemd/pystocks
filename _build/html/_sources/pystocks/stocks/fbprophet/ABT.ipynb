{
 "cells": [
  {
   "cell_type": "markdown",
   "id": "b316c27e",
   "metadata": {},
   "source": [
    "# (ABT): Abbott Laboratories Common Stock"
   ]
  },
  {
   "cell_type": "code",
   "execution_count": null,
   "id": "8298af9d",
   "metadata": {},
   "outputs": [],
   "source": [
    "    from functions import *\n",
    "    collect_tune_and_predict('ABT',n_ahead = 365)"
   ]
  }
 ],
 "metadata": {},
 "nbformat": 4,
 "nbformat_minor": 5
}
