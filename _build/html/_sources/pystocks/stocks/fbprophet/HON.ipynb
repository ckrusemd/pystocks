{
 "cells": [
  {
   "cell_type": "markdown",
   "id": "969e4837",
   "metadata": {},
   "source": [
    "# (HON): Honeywell International Inc. Common Stock"
   ]
  },
  {
   "cell_type": "code",
   "execution_count": null,
   "id": "75c72fd3",
   "metadata": {},
   "outputs": [],
   "source": [
    "    from functions import *\n",
    "    collect_tune_and_predict('HON',n_ahead = 365)"
   ]
  }
 ],
 "metadata": {},
 "nbformat": 4,
 "nbformat_minor": 5
}
