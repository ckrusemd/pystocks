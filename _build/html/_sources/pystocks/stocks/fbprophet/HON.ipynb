{
 "cells": [
  {
   "cell_type": "markdown",
   "id": "655719a0",
   "metadata": {},
   "source": [
    "# (HON): Honeywell International Inc. Common Stock"
   ]
  },
  {
   "cell_type": "code",
   "execution_count": null,
   "id": "383d40de",
   "metadata": {},
   "outputs": [],
   "source": [
    "    from functions import *\n",
    "    collect_tune_and_predict('HON',n_ahead = 365)"
   ]
  }
 ],
 "metadata": {},
 "nbformat": 4,
 "nbformat_minor": 5
}
