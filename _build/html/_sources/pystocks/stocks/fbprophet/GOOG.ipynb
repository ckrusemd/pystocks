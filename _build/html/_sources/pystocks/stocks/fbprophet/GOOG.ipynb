{
 "cells": [
  {
   "cell_type": "markdown",
   "id": "2270902e",
   "metadata": {},
   "source": [
    "# (GOOG): Alphabet Inc. Class C Capital Stock"
   ]
  },
  {
   "cell_type": "code",
   "execution_count": null,
   "id": "f919a0c8",
   "metadata": {},
   "outputs": [],
   "source": [
    "    from functions import *\n",
    "    collect_tune_and_predict('GOOG',n_ahead = 365)"
   ]
  }
 ],
 "metadata": {},
 "nbformat": 4,
 "nbformat_minor": 5
}
