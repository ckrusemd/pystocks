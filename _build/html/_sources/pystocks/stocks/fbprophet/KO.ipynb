{
 "cells": [
  {
   "cell_type": "markdown",
   "id": "2de52872",
   "metadata": {},
   "source": [
    "# (KO): Coca-Cola Company (The) Common Stock"
   ]
  },
  {
   "cell_type": "code",
   "execution_count": null,
   "id": "1ad80c0f",
   "metadata": {},
   "outputs": [],
   "source": [
    "    from functions import *\n",
    "    collect_tune_and_predict('KO',n_ahead = 365)"
   ]
  }
 ],
 "metadata": {},
 "nbformat": 4,
 "nbformat_minor": 5
}
