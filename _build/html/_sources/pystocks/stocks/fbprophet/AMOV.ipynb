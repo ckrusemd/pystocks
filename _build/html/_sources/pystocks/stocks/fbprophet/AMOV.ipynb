{
 "cells": [
  {
   "cell_type": "markdown",
   "id": "2fef0ff1",
   "metadata": {},
   "source": [
    "# (AMOV): America Movil S.A.B. de C.V. Class A American Depositary Shares"
   ]
  },
  {
   "cell_type": "code",
   "execution_count": null,
   "id": "56c934e0",
   "metadata": {},
   "outputs": [],
   "source": [
    "    from functions import *\n",
    "    collect_tune_and_predict('AMOV',n_ahead = 365)"
   ]
  }
 ],
 "metadata": {},
 "nbformat": 4,
 "nbformat_minor": 5
}
