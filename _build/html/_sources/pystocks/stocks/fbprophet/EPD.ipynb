{
 "cells": [
  {
   "cell_type": "markdown",
   "id": "2d7b5118",
   "metadata": {},
   "source": [
    "# (EPD): Enterprise Products Partners L.P. Common Stock"
   ]
  },
  {
   "cell_type": "code",
   "execution_count": null,
   "id": "352900a2",
   "metadata": {},
   "outputs": [],
   "source": [
    "    from functions import *\n",
    "    collect_tune_and_predict('EPD',n_ahead = 365)"
   ]
  }
 ],
 "metadata": {},
 "nbformat": 4,
 "nbformat_minor": 5
}
