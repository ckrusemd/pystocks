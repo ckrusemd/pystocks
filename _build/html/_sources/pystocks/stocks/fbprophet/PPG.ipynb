{
 "cells": [
  {
   "cell_type": "markdown",
   "id": "e5ee8f7f",
   "metadata": {},
   "source": [
    "# (PPG): PPG Industries Inc. Common Stock"
   ]
  },
  {
   "cell_type": "code",
   "execution_count": null,
   "id": "1f650807",
   "metadata": {},
   "outputs": [],
   "source": [
    "    from functions import *\n",
    "    collect_tune_and_predict('PPG',n_ahead = 365)"
   ]
  }
 ],
 "metadata": {},
 "nbformat": 4,
 "nbformat_minor": 5
}
