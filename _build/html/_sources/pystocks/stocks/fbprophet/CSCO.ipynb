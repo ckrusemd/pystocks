{
 "cells": [
  {
   "cell_type": "markdown",
   "id": "df4abeb5",
   "metadata": {},
   "source": [
    "# (CSCO): Cisco Systems Inc. Common Stock (DE)"
   ]
  },
  {
   "cell_type": "code",
   "execution_count": null,
   "id": "b884b59f",
   "metadata": {},
   "outputs": [],
   "source": [
    "    from functions import *\n",
    "    collect_tune_and_predict('CSCO',n_ahead = 365)"
   ]
  }
 ],
 "metadata": {},
 "nbformat": 4,
 "nbformat_minor": 5
}
