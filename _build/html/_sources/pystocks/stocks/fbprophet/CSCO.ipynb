{
 "cells": [
  {
   "cell_type": "markdown",
   "id": "d512cbee",
   "metadata": {},
   "source": [
    "# (CSCO): Cisco Systems Inc. Common Stock (DE)"
   ]
  },
  {
   "cell_type": "code",
   "execution_count": null,
   "id": "88de1963",
   "metadata": {},
   "outputs": [],
   "source": [
    "    from functions import *\n",
    "    collect_tune_and_predict('CSCO',n_ahead = 365)"
   ]
  }
 ],
 "metadata": {},
 "nbformat": 4,
 "nbformat_minor": 5
}
