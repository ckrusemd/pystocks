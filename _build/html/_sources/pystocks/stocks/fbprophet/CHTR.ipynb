{
 "cells": [
  {
   "cell_type": "markdown",
   "id": "e96bd408",
   "metadata": {},
   "source": [
    "# (CHTR): Charter Communications Inc. Class A Common Stock New"
   ]
  },
  {
   "cell_type": "code",
   "execution_count": null,
   "id": "e400c13e",
   "metadata": {},
   "outputs": [],
   "source": [
    "    from functions import *\n",
    "    collect_tune_and_predict('CHTR',n_ahead = 365)"
   ]
  }
 ],
 "metadata": {},
 "nbformat": 4,
 "nbformat_minor": 5
}
