{
 "cells": [
  {
   "cell_type": "markdown",
   "id": "8b4236f0",
   "metadata": {},
   "source": [
    "# (SCCO): Southern Copper Corporation Common Stock"
   ]
  },
  {
   "cell_type": "code",
   "execution_count": null,
   "id": "cececb12",
   "metadata": {},
   "outputs": [],
   "source": [
    "    from functions import *\n",
    "    collect_tune_and_predict('SCCO',n_ahead = 365)"
   ]
  }
 ],
 "metadata": {},
 "nbformat": 4,
 "nbformat_minor": 5
}
