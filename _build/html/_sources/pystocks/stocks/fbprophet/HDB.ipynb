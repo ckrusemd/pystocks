{
 "cells": [
  {
   "cell_type": "markdown",
   "id": "e1b4bd25",
   "metadata": {},
   "source": [
    "# (HDB): HDFC Bank Limited Common Stock"
   ]
  },
  {
   "cell_type": "code",
   "execution_count": null,
   "id": "1ccf36e4",
   "metadata": {},
   "outputs": [],
   "source": [
    "    from functions import *\n",
    "    collect_tune_and_predict('HDB',n_ahead = 365)"
   ]
  }
 ],
 "metadata": {},
 "nbformat": 4,
 "nbformat_minor": 5
}
