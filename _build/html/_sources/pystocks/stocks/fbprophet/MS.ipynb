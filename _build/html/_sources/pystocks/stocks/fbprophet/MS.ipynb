{
 "cells": [
  {
   "cell_type": "markdown",
   "id": "ea861689",
   "metadata": {},
   "source": [
    "# (MS): Morgan Stanley Common Stock"
   ]
  },
  {
   "cell_type": "code",
   "execution_count": null,
   "id": "c2ce7726",
   "metadata": {},
   "outputs": [],
   "source": [
    "    from functions import *\n",
    "    collect_tune_and_predict('MS',n_ahead = 365)"
   ]
  }
 ],
 "metadata": {},
 "nbformat": 4,
 "nbformat_minor": 5
}
