{
 "cells": [
  {
   "cell_type": "markdown",
   "id": "edd004f4",
   "metadata": {},
   "source": [
    "# (KEP): Korea Electric Power Corporation Common Stock"
   ]
  },
  {
   "cell_type": "code",
   "execution_count": null,
   "id": "4d41d94b",
   "metadata": {},
   "outputs": [],
   "source": [
    "    from functions import *\n",
    "    collect_tune_and_predict('KEP',n_ahead = 365)"
   ]
  }
 ],
 "metadata": {},
 "nbformat": 4,
 "nbformat_minor": 5
}
