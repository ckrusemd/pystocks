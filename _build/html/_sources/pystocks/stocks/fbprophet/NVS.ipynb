{
 "cells": [
  {
   "cell_type": "markdown",
   "id": "5c18a069",
   "metadata": {},
   "source": [
    "# (NVS): Novartis AG Common Stock"
   ]
  },
  {
   "cell_type": "code",
   "execution_count": null,
   "id": "8ea6c37a",
   "metadata": {},
   "outputs": [],
   "source": [
    "    from functions import *\n",
    "    collect_tune_and_predict('NVS',n_ahead = 365)"
   ]
  }
 ],
 "metadata": {},
 "nbformat": 4,
 "nbformat_minor": 5
}
