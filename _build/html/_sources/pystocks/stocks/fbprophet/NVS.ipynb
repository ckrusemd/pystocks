{
 "cells": [
  {
   "cell_type": "markdown",
   "id": "d2af35c1",
   "metadata": {},
   "source": [
    "# (NVS): Novartis AG Common Stock"
   ]
  },
  {
   "cell_type": "code",
   "execution_count": null,
   "id": "c46d1745",
   "metadata": {},
   "outputs": [],
   "source": [
    "    from functions import *\n",
    "    collect_tune_and_predict('NVS',n_ahead = 365)"
   ]
  }
 ],
 "metadata": {},
 "nbformat": 4,
 "nbformat_minor": 5
}
