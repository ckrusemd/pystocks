{
 "cells": [
  {
   "cell_type": "markdown",
   "id": "d75ed287",
   "metadata": {},
   "source": [
    "# (CRM): Salesforce.com Inc Common Stock"
   ]
  },
  {
   "cell_type": "code",
   "execution_count": null,
   "id": "e791b978",
   "metadata": {},
   "outputs": [],
   "source": [
    "    from functions import *\n",
    "    collect_tune_and_predict('CRM',n_ahead = 365)"
   ]
  }
 ],
 "metadata": {},
 "nbformat": 4,
 "nbformat_minor": 5
}
