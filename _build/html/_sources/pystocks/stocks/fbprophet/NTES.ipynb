{
 "cells": [
  {
   "cell_type": "markdown",
   "id": "f6bccdc7",
   "metadata": {},
   "source": [
    "# (NTES): NetEase Inc. American Depositary Shares"
   ]
  },
  {
   "cell_type": "code",
   "execution_count": null,
   "id": "42e0dcd3",
   "metadata": {},
   "outputs": [],
   "source": [
    "    from functions import *\n",
    "    collect_tune_and_predict('NTES',n_ahead = 365)"
   ]
  }
 ],
 "metadata": {},
 "nbformat": 4,
 "nbformat_minor": 5
}
