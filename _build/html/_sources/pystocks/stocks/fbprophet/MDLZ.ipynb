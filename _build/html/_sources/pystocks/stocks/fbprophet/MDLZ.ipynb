{
 "cells": [
  {
   "cell_type": "markdown",
   "id": "3101bb6c",
   "metadata": {},
   "source": [
    "# (MDLZ): Mondelez International Inc. Class A Common Stock"
   ]
  },
  {
   "cell_type": "code",
   "execution_count": null,
   "id": "b6b4e25b",
   "metadata": {},
   "outputs": [],
   "source": [
    "    from functions import *\n",
    "    collect_tune_and_predict('MDLZ',n_ahead = 365)"
   ]
  }
 ],
 "metadata": {},
 "nbformat": 4,
 "nbformat_minor": 5
}
