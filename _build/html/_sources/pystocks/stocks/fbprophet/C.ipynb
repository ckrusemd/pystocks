{
 "cells": [
  {
   "cell_type": "markdown",
   "id": "3fde21c2",
   "metadata": {},
   "source": [
    "# (C): Citigroup Inc. Common Stock"
   ]
  },
  {
   "cell_type": "code",
   "execution_count": null,
   "id": "61dfe884",
   "metadata": {},
   "outputs": [],
   "source": [
    "    from functions import *\n",
    "    collect_tune_and_predict('C',n_ahead = 365)"
   ]
  }
 ],
 "metadata": {},
 "nbformat": 4,
 "nbformat_minor": 5
}
