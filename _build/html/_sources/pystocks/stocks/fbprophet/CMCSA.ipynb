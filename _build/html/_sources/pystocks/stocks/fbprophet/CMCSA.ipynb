{
 "cells": [
  {
   "cell_type": "markdown",
   "id": "156cd7f2",
   "metadata": {},
   "source": [
    "# (CMCSA): Comcast Corporation Class A Common Stock"
   ]
  },
  {
   "cell_type": "code",
   "execution_count": null,
   "id": "70ab47f5",
   "metadata": {},
   "outputs": [],
   "source": [
    "    from functions import *\n",
    "    collect_tune_and_predict('CMCSA',n_ahead = 365)"
   ]
  }
 ],
 "metadata": {},
 "nbformat": 4,
 "nbformat_minor": 5
}
