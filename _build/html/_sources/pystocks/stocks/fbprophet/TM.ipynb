{
 "cells": [
  {
   "cell_type": "markdown",
   "id": "0dbdf402",
   "metadata": {},
   "source": [
    "# (TM): Toyota Motor Corporation Common Stock"
   ]
  },
  {
   "cell_type": "code",
   "execution_count": null,
   "id": "7e0c994e",
   "metadata": {},
   "outputs": [],
   "source": [
    "    from functions import *\n",
    "    collect_tune_and_predict('TM',n_ahead = 365)"
   ]
  }
 ],
 "metadata": {},
 "nbformat": 4,
 "nbformat_minor": 5
}
