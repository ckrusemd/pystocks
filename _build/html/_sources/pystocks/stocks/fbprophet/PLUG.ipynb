{
 "cells": [
  {
   "cell_type": "markdown",
   "id": "ca90a225",
   "metadata": {},
   "source": [
    "# (PLUG): Plug Power Inc. Common Stock"
   ]
  },
  {
   "cell_type": "code",
   "execution_count": null,
   "id": "a7bb0b35",
   "metadata": {},
   "outputs": [],
   "source": [
    "    from functions import *\n",
    "    collect_tune_and_predict('PLUG',n_ahead = 365)"
   ]
  }
 ],
 "metadata": {},
 "nbformat": 4,
 "nbformat_minor": 5
}
