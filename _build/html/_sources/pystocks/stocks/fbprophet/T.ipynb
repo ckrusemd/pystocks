{
 "cells": [
  {
   "cell_type": "markdown",
   "id": "e9461c5b",
   "metadata": {},
   "source": [
    "# (T): AT&T Inc."
   ]
  },
  {
   "cell_type": "code",
   "execution_count": null,
   "id": "21214b80",
   "metadata": {},
   "outputs": [],
   "source": [
    "    from functions import *\n",
    "    collect_tune_and_predict('T',n_ahead = 365)"
   ]
  }
 ],
 "metadata": {},
 "nbformat": 4,
 "nbformat_minor": 5
}
