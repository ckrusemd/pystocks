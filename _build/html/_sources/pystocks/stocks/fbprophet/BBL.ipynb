{
 "cells": [
  {
   "cell_type": "markdown",
   "id": "e9650d18",
   "metadata": {},
   "source": [
    "# (BBL): BHP Group PlcSponsored ADR"
   ]
  },
  {
   "cell_type": "code",
   "execution_count": null,
   "id": "60624939",
   "metadata": {},
   "outputs": [],
   "source": [
    "    from functions import *\n",
    "    collect_tune_and_predict('BBL',n_ahead = 365)"
   ]
  }
 ],
 "metadata": {},
 "nbformat": 4,
 "nbformat_minor": 5
}
