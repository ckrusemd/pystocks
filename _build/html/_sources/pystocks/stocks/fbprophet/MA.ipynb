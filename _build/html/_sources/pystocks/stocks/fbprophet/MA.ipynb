{
 "cells": [
  {
   "cell_type": "markdown",
   "id": "abcf7c7e",
   "metadata": {},
   "source": [
    "# (MA): Mastercard Incorporated Common Stock"
   ]
  },
  {
   "cell_type": "code",
   "execution_count": null,
   "id": "c99a5019",
   "metadata": {},
   "outputs": [],
   "source": [
    "    from functions import *\n",
    "    collect_tune_and_predict('MA',n_ahead = 365)"
   ]
  }
 ],
 "metadata": {},
 "nbformat": 4,
 "nbformat_minor": 5
}
