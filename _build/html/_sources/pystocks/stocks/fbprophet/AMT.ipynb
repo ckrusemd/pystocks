{
 "cells": [
  {
   "cell_type": "markdown",
   "id": "a2904d71",
   "metadata": {},
   "source": [
    "# (AMT): American Tower Corporation (REIT) Common Stock"
   ]
  },
  {
   "cell_type": "code",
   "execution_count": null,
   "id": "9d6a2841",
   "metadata": {},
   "outputs": [],
   "source": [
    "    from functions import *\n",
    "    collect_tune_and_predict('AMT',n_ahead = 365)"
   ]
  }
 ],
 "metadata": {},
 "nbformat": 4,
 "nbformat_minor": 5
}
