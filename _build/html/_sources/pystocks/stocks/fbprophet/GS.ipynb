{
 "cells": [
  {
   "cell_type": "markdown",
   "id": "a67a67ca",
   "metadata": {},
   "source": [
    "# (GS): Goldman Sachs Group Inc. (The) Common Stock"
   ]
  },
  {
   "cell_type": "code",
   "execution_count": null,
   "id": "2fe56a80",
   "metadata": {},
   "outputs": [],
   "source": [
    "    from functions import *\n",
    "    collect_tune_and_predict('GS',n_ahead = 365)"
   ]
  }
 ],
 "metadata": {},
 "nbformat": 4,
 "nbformat_minor": 5
}
