{
 "cells": [
  {
   "cell_type": "markdown",
   "id": "cbe6846f",
   "metadata": {},
   "source": [
    "# (DUK): Duke Energy Corporation (Holding Company) Common Stock"
   ]
  },
  {
   "cell_type": "code",
   "execution_count": null,
   "id": "fa2f13d5",
   "metadata": {},
   "outputs": [],
   "source": [
    "    from functions import *\n",
    "    collect_tune_and_predict('DUK',n_ahead = 365)"
   ]
  }
 ],
 "metadata": {},
 "nbformat": 4,
 "nbformat_minor": 5
}
