{
 "cells": [
  {
   "cell_type": "markdown",
   "id": "3bb19447",
   "metadata": {},
   "source": [
    "# (GOOGL): Alphabet Inc. Class A Common Stock"
   ]
  },
  {
   "cell_type": "code",
   "execution_count": null,
   "id": "fbe41551",
   "metadata": {},
   "outputs": [],
   "source": [
    "    from functions import *\n",
    "    collect_tune_and_predict('GOOGL',n_ahead = 365)"
   ]
  }
 ],
 "metadata": {},
 "nbformat": 4,
 "nbformat_minor": 5
}
