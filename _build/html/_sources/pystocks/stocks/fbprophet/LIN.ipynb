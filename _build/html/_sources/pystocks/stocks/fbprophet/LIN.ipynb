{
 "cells": [
  {
   "cell_type": "markdown",
   "id": "6791bd79",
   "metadata": {},
   "source": [
    "# (LIN): Linde plc Ordinary Share"
   ]
  },
  {
   "cell_type": "code",
   "execution_count": null,
   "id": "e487413f",
   "metadata": {},
   "outputs": [],
   "source": [
    "    from functions import *\n",
    "    collect_tune_and_predict('LIN',n_ahead = 365)"
   ]
  }
 ],
 "metadata": {},
 "nbformat": 4,
 "nbformat_minor": 5
}
