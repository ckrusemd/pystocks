{
 "cells": [
  {
   "cell_type": "markdown",
   "id": "d7e806ea",
   "metadata": {},
   "source": [
    "# (ADBE): Adobe Inc. Common Stock"
   ]
  },
  {
   "cell_type": "code",
   "execution_count": null,
   "id": "1601048f",
   "metadata": {},
   "outputs": [],
   "source": [
    "    from functions import *\n",
    "    collect_tune_and_predict('ADBE',n_ahead = 365)"
   ]
  }
 ],
 "metadata": {},
 "nbformat": 4,
 "nbformat_minor": 5
}
