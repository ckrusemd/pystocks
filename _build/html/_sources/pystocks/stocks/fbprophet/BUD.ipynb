{
 "cells": [
  {
   "cell_type": "markdown",
   "id": "23db4ad5",
   "metadata": {},
   "source": [
    "# (BUD): Anheuser-Busch Inbev SA Sponsored ADR (Belgium)"
   ]
  },
  {
   "cell_type": "code",
   "execution_count": null,
   "id": "93da9155",
   "metadata": {},
   "outputs": [],
   "source": [
    "    from functions import *\n",
    "    collect_tune_and_predict('BUD',n_ahead = 365)"
   ]
  }
 ],
 "metadata": {},
 "nbformat": 4,
 "nbformat_minor": 5
}
