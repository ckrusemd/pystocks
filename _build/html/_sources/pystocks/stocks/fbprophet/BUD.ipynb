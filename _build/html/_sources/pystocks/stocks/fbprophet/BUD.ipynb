{
 "cells": [
  {
   "cell_type": "markdown",
   "id": "cc686496",
   "metadata": {},
   "source": [
    "# (BUD): Anheuser-Busch Inbev SA Sponsored ADR (Belgium)"
   ]
  },
  {
   "cell_type": "code",
   "execution_count": null,
   "id": "dc246763",
   "metadata": {},
   "outputs": [],
   "source": [
    "    from functions import *\n",
    "    collect_tune_and_predict('BUD',n_ahead = 365)"
   ]
  }
 ],
 "metadata": {},
 "nbformat": 4,
 "nbformat_minor": 5
}
