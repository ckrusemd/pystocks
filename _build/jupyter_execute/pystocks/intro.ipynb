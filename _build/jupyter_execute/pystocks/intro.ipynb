{
 "cells": [
  {
   "cell_type": "markdown",
   "metadata": {},
   "source": [
    "# PyStocks\n",
    "\n",
    "Stock Price Analytics of Yahoo! Finance data.\n",
    "\n",
    "\n",
    "Using the [Facebook Prophet](https://facebook.github.io/prophet/) framework right now. Will be looking into [Greykite](https://github.com/linkedin/greykite) as well.\n",
    "\n",
    "You should be able to see the book at:\n",
    "\n",
    "```\n",
    "https://ckrusemd.github.io/pystocks/\n",
    "```"
   ]
  },
  {
   "cell_type": "code",
   "execution_count": 1,
   "metadata": {},
   "outputs": [
    {
     "name": "stdout",
     "output_type": "stream",
     "text": [
      "Report extracted on 19/06/2021 07:30:52.\n"
     ]
    }
   ],
   "source": [
    "from datetime import datetime\n",
    "import pytz\n",
    "tz = pytz.timezone('Europe/Copenhagen')\n",
    "print(\"Report extracted on \" + datetime.now(tz).strftime(\"%d/%m/%Y %H:%M:%S\") + \".\")"
   ]
  },
  {
   "cell_type": "code",
   "execution_count": 2,
   "metadata": {},
   "outputs": [
    {
     "name": "stdout",
     "output_type": "stream",
     "text": [
      "{'commit_hash': '30cd45eb7',\n",
      " 'commit_source': 'installation',\n",
      " 'default_encoding': 'utf-8',\n",
      " 'ipython_path': '/home/oem/.local/lib/python3.9/site-packages/IPython',\n",
      " 'ipython_version': '7.24.1',\n",
      " 'os_name': 'posix',\n",
      " 'platform': 'Linux-5.11.0-18-generic-x86_64-with-glibc2.33',\n",
      " 'sys_executable': '/usr/bin/python3',\n",
      " 'sys_platform': 'linux',\n",
      " 'sys_version': '3.9.5 (default, May 11 2021, 08:20:37) \\n[GCC 10.3.0]'}\n"
     ]
    }
   ],
   "source": [
    "import IPython\n",
    "print( IPython.sys_info() )"
   ]
  }
 ],
 "metadata": {
  "kernelspec": {
   "display_name": "Python 3.8.5 64-bit",
   "name": "python3"
  },
  "language_info": {
   "codemirror_mode": {
    "name": "ipython",
    "version": 3
   },
   "file_extension": ".py",
   "mimetype": "text/x-python",
   "name": "python",
   "nbconvert_exporter": "python",
   "pygments_lexer": "ipython3",
   "version": "3.9.5"
  },
  "metadata": {
   "interpreter": {
    "hash": "4cd7ab41f5fca4b9b44701077e38c5ffd31fe66a6cab21e0214b68d958d0e462"
   }
  },
  "widgets": {
   "application/vnd.jupyter.widget-state+json": {
    "state": {},
    "version_major": 2,
    "version_minor": 0
   }
  }
 },
 "nbformat": 4,
 "nbformat_minor": 4
}