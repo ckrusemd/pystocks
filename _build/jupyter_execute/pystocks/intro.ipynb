{
 "cells": [
  {
   "cell_type": "markdown",
   "metadata": {},
   "source": [
    "# PyStocks\n",
    "\n",
    "Stock Price Analytics of Yahoo! Finance data.\n",
    "\n",
    "\n",
    "Using the [Facebook Prophet](https://facebook.github.io/prophet/) framework right now. Will be looking into [Greykite](https://github.com/linkedin/greykite) as well.\n",
    "\n",
    "You should be able to see the book at:\n",
    "\n",
    "```\n",
    "https://ckrusemd.github.io/pystocks/\n",
    "```"
   ]
  },
  {
   "cell_type": "code",
   "execution_count": 1,
   "metadata": {},
   "outputs": [
    {
     "name": "stdout",
     "output_type": "stream",
     "text": [
      "Report extracted on 13/06/2021 08:49:22.\n"
     ]
    }
   ],
   "source": [
    "from datetime import datetime\n",
    "import pytz\n",
    "tz = pytz.timezone('Europe/Copenhagen')\n",
    "print(\"Report extracted on \" + datetime.now(tz).strftime(\"%d/%m/%Y %H:%M:%S\") + \".\")"
   ]
  },
  {
   "cell_type": "code",
   "execution_count": 2,
   "metadata": {},
   "outputs": [
    {
     "name": "stdout",
     "output_type": "stream",
     "text": [
      "{'commit_hash': '30cd45eb7',\n",
      " 'commit_source': 'installation',\n",
      " 'default_encoding': 'utf-8',\n",
      " 'ipython_path': '/home/oem/.local/lib/python3.9/site-packages/IPython',\n",
      " 'ipython_version': '7.24.1',\n",
      " 'os_name': 'posix',\n",
      " 'platform': 'Linux-5.11.0-18-generic-x86_64-with-glibc2.33',\n",
      " 'sys_executable': '/usr/bin/python3',\n",
      " 'sys_platform': 'linux',\n",
      " 'sys_version': '3.9.5 (default, May 11 2021, 08:20:37) \\n[GCC 10.3.0]'}\n"
     ]
    }
   ],
   "source": [
    "import IPython\n",
    "print( IPython.sys_info() )"
   ]
  },
  {
   "cell_type": "markdown",
   "id": "0934cfd9",
   "metadata": {},
   "source": [
    "\n",
    "```{toctree}\n",
    ":hidden:\n",
    ":titlesonly:\n",
    ":caption: FB Prophet\n",
    "\n",
    "stocks/fbprophet/AAPL.ipynb\n",
    "stocks/fbprophet/MSFT.ipynb\n",
    "stocks/fbprophet/AMZN.ipynb\n",
    "stocks/fbprophet/GOOG.ipynb\n",
    "stocks/fbprophet/GOOGL.ipynb\n",
    "stocks/fbprophet/FB.ipynb\n",
    "stocks/fbprophet/TSM.ipynb\n",
    "stocks/fbprophet/TSLA.ipynb\n",
    "stocks/fbprophet/BABA.ipynb\n",
    "stocks/fbprophet/JPM.ipynb\n",
    "stocks/fbprophet/V.ipynb\n",
    "stocks/fbprophet/JNJ.ipynb\n",
    "stocks/fbprophet/NVDA.ipynb\n",
    "stocks/fbprophet/WMT.ipynb\n",
    "stocks/fbprophet/UNH.ipynb\n",
    "stocks/fbprophet/BAC.ipynb\n",
    "stocks/fbprophet/MA.ipynb\n",
    "stocks/fbprophet/HD.ipynb\n",
    "stocks/fbprophet/PG.ipynb\n",
    "stocks/fbprophet/DIS.ipynb\n",
    "stocks/fbprophet/PYPL.ipynb\n",
    "stocks/fbprophet/ASML.ipynb\n",
    "stocks/fbprophet/CMCSA.ipynb\n",
    "stocks/fbprophet/XOM.ipynb\n",
    "stocks/fbprophet/ADBE.ipynb\n",
    "stocks/fbprophet/KO.ipynb\n",
    "stocks/fbprophet/TM.ipynb\n",
    "stocks/fbprophet/INTC.ipynb\n",
    "stocks/fbprophet/ORCL.ipynb\n",
    "stocks/fbprophet/CSCO.ipynb\n",
    "stocks/fbprophet/NFLX.ipynb\n",
    "stocks/fbprophet/CRM.ipynb\n",
    "stocks/fbprophet/PFE.ipynb\n",
    "stocks/fbprophet/NKE.ipynb\n",
    "stocks/fbprophet/T.ipynb\n",
    "stocks/fbprophet/ABT.ipynb\n",
    "stocks/fbprophet/PEP.ipynb\n",
    "stocks/fbprophet/CVX.ipynb\n",
    "stocks/fbprophet/ABBV.ipynb\n",
    "stocks/fbprophet/NVS.ipynb\n",
    "stocks/fbprophet/WFC.ipynb\n",
    "stocks/fbprophet/AVGO.ipynb\n",
    "stocks/fbprophet/MRK.ipynb\n",
    "stocks/fbprophet/LLY.ipynb\n",
    "stocks/fbprophet/BHP.ipynb\n",
    "stocks/fbprophet/UPS.ipynb\n",
    "stocks/fbprophet/TMO.ipynb\n",
    "stocks/fbprophet/DHR.ipynb\n",
    "stocks/fbprophet/NVO.ipynb\n",
    "```\n"
   ]
  }
 ],
 "metadata": {
  "kernelspec": {
   "display_name": "Python 3.8.5 64-bit",
   "name": "python3"
  },
  "language_info": {
   "codemirror_mode": {
    "name": "ipython",
    "version": 3
   },
   "file_extension": ".py",
   "mimetype": "text/x-python",
   "name": "python",
   "nbconvert_exporter": "python",
   "pygments_lexer": "ipython3",
   "version": "3.9.5"
  },
  "metadata": {
   "interpreter": {
    "hash": "4cd7ab41f5fca4b9b44701077e38c5ffd31fe66a6cab21e0214b68d958d0e462"
   }
  },
  "widgets": {
   "application/vnd.jupyter.widget-state+json": {
    "state": {},
    "version_major": 2,
    "version_minor": 0
   }
  }
 },
 "nbformat": 4,
 "nbformat_minor": 4
}